{
 "cells": [
  {
   "cell_type": "markdown",
   "id": "093c7b14",
   "metadata": {},
   "source": [
    "# Feature Extraction "
   ]
  },
  {
   "cell_type": "code",
   "execution_count": 4,
   "id": "e7100428",
   "metadata": {},
   "outputs": [],
   "source": [
    "from sklearn.feature_extraction.text import CountVectorizer\n",
    "import pandas as pd\n",
    "import numpy as np"
   ]
  },
  {
   "cell_type": "code",
   "execution_count": 13,
   "id": "daf22f3c",
   "metadata": {},
   "outputs": [
    {
     "data": {
      "text/html": [
       "<div>\n",
       "<style scoped>\n",
       "    .dataframe tbody tr th:only-of-type {\n",
       "        vertical-align: middle;\n",
       "    }\n",
       "\n",
       "    .dataframe tbody tr th {\n",
       "        vertical-align: top;\n",
       "    }\n",
       "\n",
       "    .dataframe thead th {\n",
       "        text-align: right;\n",
       "    }\n",
       "</style>\n",
       "<table border=\"1\" class=\"dataframe\">\n",
       "  <thead>\n",
       "    <tr style=\"text-align: right;\">\n",
       "      <th></th>\n",
       "      <th>text</th>\n",
       "      <th>output</th>\n",
       "    </tr>\n",
       "  </thead>\n",
       "  <tbody>\n",
       "    <tr>\n",
       "      <th>0</th>\n",
       "      <td>Hello my name is ketan</td>\n",
       "      <td>1</td>\n",
       "    </tr>\n",
       "    <tr>\n",
       "      <th>1</th>\n",
       "      <td>I am from Rajasthan</td>\n",
       "      <td>1</td>\n",
       "    </tr>\n",
       "    <tr>\n",
       "      <th>2</th>\n",
       "      <td>Hello my name is ketan</td>\n",
       "      <td>1</td>\n",
       "    </tr>\n",
       "    <tr>\n",
       "      <th>3</th>\n",
       "      <td>i dont like alcohol</td>\n",
       "      <td>0</td>\n",
       "    </tr>\n",
       "  </tbody>\n",
       "</table>\n",
       "</div>"
      ],
      "text/plain": [
       "                      text  output\n",
       "0  Hello my name is ketan        1\n",
       "1     I am from Rajasthan        1\n",
       "2  Hello my name is ketan        1\n",
       "3      i dont like alcohol       0"
      ]
     },
     "execution_count": 13,
     "metadata": {},
     "output_type": "execute_result"
    }
   ],
   "source": [
    "df = pd.DataFrame(data=[{'text':'Hello my name is ketan ','output':1},\n",
    "                        {'text':'I am from Rajasthan ','output':1}, \n",
    "                        {'text':'Hello my name is ketan ','output':1},\n",
    "                       {'text':'i dont like alcohol','output':0}])\n",
    "df"
   ]
  },
  {
   "cell_type": "code",
   "execution_count": 15,
   "id": "25b07520",
   "metadata": {},
   "outputs": [
    {
     "data": {
      "text/plain": [
       "<4x11 sparse matrix of type '<class 'numpy.int64'>'\n",
       "\twith 16 stored elements in Compressed Sparse Row format>"
      ]
     },
     "execution_count": 15,
     "metadata": {},
     "output_type": "execute_result"
    }
   ],
   "source": [
    "cv = CountVectorizer()\n",
    "bow = cv.fit_transform(df['text'])\n",
    "bow"
   ]
  },
  {
   "cell_type": "code",
   "execution_count": 16,
   "id": "4bcaf0a3",
   "metadata": {},
   "outputs": [
    {
     "data": {
      "text/plain": [
       "{'hello': 4,\n",
       " 'my': 8,\n",
       " 'name': 9,\n",
       " 'is': 5,\n",
       " 'ketan': 6,\n",
       " 'am': 1,\n",
       " 'from': 3,\n",
       " 'rajasthan': 10,\n",
       " 'dont': 2,\n",
       " 'like': 7,\n",
       " 'alcohol': 0}"
      ]
     },
     "execution_count": 16,
     "metadata": {},
     "output_type": "execute_result"
    }
   ],
   "source": [
    "cv.vocabulary_"
   ]
  },
  {
   "cell_type": "code",
   "execution_count": 21,
   "id": "c6eb0f68",
   "metadata": {},
   "outputs": [
    {
     "name": "stdout",
     "output_type": "stream",
     "text": [
      "[[0 0 0 0 1 1 1 0 1 1 0]]\n",
      "[[0 1 0 1 0 0 0 0 0 0 1]]\n",
      "[[0 0 0 0 1 1 1 0 1 1 0]]\n",
      "[[1 0 1 0 0 0 0 1 0 0 0]]\n"
     ]
    }
   ],
   "source": [
    "print(bow[0].toarray())\n",
    "print(bow[1].toarray())\n",
    "print(bow[2].toarray())\n",
    "print(bow[3].toarray())"
   ]
  },
  {
   "cell_type": "code",
   "execution_count": 25,
   "id": "4f00843d",
   "metadata": {},
   "outputs": [
    {
     "data": {
      "text/plain": [
       "array([[0, 0, 0, 0, 1, 2, 1, 0, 1, 1, 0]], dtype=int64)"
      ]
     },
     "execution_count": 25,
     "metadata": {},
     "output_type": "execute_result"
    }
   ],
   "source": [
    "cv.transform([\"hello my name is mfdwasjvib is ketan\"]).toarray()"
   ]
  },
  {
   "cell_type": "code",
   "execution_count": 26,
   "id": "6f3c81ec",
   "metadata": {},
   "outputs": [],
   "source": [
    "# Out of vocabluy solved "
   ]
  },
  {
   "cell_type": "code",
   "execution_count": 27,
   "id": "754e54c8",
   "metadata": {},
   "outputs": [],
   "source": [
    "# Binary True -> It will replace all frequency to one"
   ]
  },
  {
   "cell_type": "code",
   "execution_count": 29,
   "id": "5561d5c6",
   "metadata": {},
   "outputs": [
    {
     "data": {
      "text/plain": [
       "array([[0, 0, 0, 0, 1, 1, 1, 0, 1, 1, 0]], dtype=int64)"
      ]
     },
     "execution_count": 29,
     "metadata": {},
     "output_type": "execute_result"
    }
   ],
   "source": [
    "cv = CountVectorizer(binary=True)\n",
    "bow = cv.fit_transform(df['text'])\n",
    "cv.transform([\"hello my name is mfdwasjvib is ketan\"]).toarray()"
   ]
  },
  {
   "cell_type": "code",
   "execution_count": 30,
   "id": "ac493125",
   "metadata": {},
   "outputs": [],
   "source": [
    "# If we are setting binary = True \n",
    "# then we are saying instead of going for frequency check that word is present or not."
   ]
  },
  {
   "cell_type": "code",
   "execution_count": 31,
   "id": "7a801c5c",
   "metadata": {},
   "outputs": [],
   "source": [
    "# max_features = build a vocabulary that only consider the top max_features ordered by term frequency across the corpus."
   ]
  },
  {
   "cell_type": "markdown",
   "id": "57a6d29c",
   "metadata": {},
   "source": [
    "# N Grams"
   ]
  },
  {
   "cell_type": "code",
   "execution_count": 50,
   "id": "78243a6f",
   "metadata": {},
   "outputs": [],
   "source": [
    "# 1,1 -> uni grams\n",
    "# 2,2 -> Bi-grams\n",
    "# 1,2 -> uni + bi \n",
    "# 1,3 -> uni + bi + tri \n",
    "cv = CountVectorizer(ngram_range=(1,5))\n",
    "bow = cv.fit_transform(df['text'])"
   ]
  },
  {
   "cell_type": "code",
   "execution_count": 51,
   "id": "70948516",
   "metadata": {},
   "outputs": [
    {
     "data": {
      "text/plain": [
       "{'hello': 9,\n",
       " 'my': 19,\n",
       " 'name': 23,\n",
       " 'is': 14,\n",
       " 'ketan': 16,\n",
       " 'hello my': 10,\n",
       " 'my name': 20,\n",
       " 'name is': 24,\n",
       " 'is ketan': 15,\n",
       " 'hello my name': 11,\n",
       " 'my name is': 21,\n",
       " 'name is ketan': 25,\n",
       " 'hello my name is': 12,\n",
       " 'my name is ketan': 22,\n",
       " 'hello my name is ketan': 13,\n",
       " 'am': 1,\n",
       " 'from': 7,\n",
       " 'rajasthan': 26,\n",
       " 'am from': 2,\n",
       " 'from rajasthan': 8,\n",
       " 'am from rajasthan': 3,\n",
       " 'dont': 4,\n",
       " 'like': 17,\n",
       " 'alcohol': 0,\n",
       " 'dont like': 5,\n",
       " 'like alcohol': 18,\n",
       " 'dont like alcohol': 6}"
      ]
     },
     "execution_count": 51,
     "metadata": {},
     "output_type": "execute_result"
    }
   ],
   "source": [
    "cv.vocabulary_"
   ]
  },
  {
   "cell_type": "code",
   "execution_count": 52,
   "id": "4e10926d",
   "metadata": {},
   "outputs": [
    {
     "data": {
      "text/plain": [
       "array([[0, 0, 0, 0, 0, 0, 0, 0, 0, 1, 1, 1, 1, 1, 1, 1, 1, 0, 0, 1, 1, 1,\n",
       "        1, 1, 1, 1, 0],\n",
       "       [0, 1, 1, 1, 0, 0, 0, 1, 1, 0, 0, 0, 0, 0, 0, 0, 0, 0, 0, 0, 0, 0,\n",
       "        0, 0, 0, 0, 1],\n",
       "       [0, 0, 0, 0, 0, 0, 0, 0, 0, 1, 1, 1, 1, 1, 1, 1, 1, 0, 0, 1, 1, 1,\n",
       "        1, 1, 1, 1, 0],\n",
       "       [1, 0, 0, 0, 1, 1, 1, 0, 0, 0, 0, 0, 0, 0, 0, 0, 0, 1, 1, 0, 0, 0,\n",
       "        0, 0, 0, 0, 0]], dtype=int64)"
      ]
     },
     "execution_count": 52,
     "metadata": {},
     "output_type": "execute_result"
    }
   ],
   "source": [
    "bow.toarray()"
   ]
  },
  {
   "cell_type": "markdown",
   "id": "e6ca2343",
   "metadata": {},
   "source": [
    "# Tf - IDF"
   ]
  },
  {
   "cell_type": "code",
   "execution_count": 59,
   "id": "9fbb52ec",
   "metadata": {},
   "outputs": [],
   "source": [
    "from sklearn.feature_extraction.text import TfidfVectorizer"
   ]
  },
  {
   "cell_type": "code",
   "execution_count": 60,
   "id": "d3d10563",
   "metadata": {},
   "outputs": [],
   "source": [
    "# In tf-idf we can implement N grams\n",
    "tf = TfidfVectorizer()\n",
    "bow = tf.fit_transform(df['text'])"
   ]
  },
  {
   "cell_type": "code",
   "execution_count": 64,
   "id": "d38dc0d7",
   "metadata": {},
   "outputs": [
    {
     "data": {
      "text/plain": [
       "array([[0.        , 0.        , 0.        , 0.        , 0.4472136 ,\n",
       "        0.4472136 , 0.4472136 , 0.        , 0.4472136 , 0.4472136 ,\n",
       "        0.        ],\n",
       "       [0.        , 0.57735027, 0.        , 0.57735027, 0.        ,\n",
       "        0.        , 0.        , 0.        , 0.        , 0.        ,\n",
       "        0.57735027],\n",
       "       [0.        , 0.        , 0.        , 0.        , 0.4472136 ,\n",
       "        0.4472136 , 0.4472136 , 0.        , 0.4472136 , 0.4472136 ,\n",
       "        0.        ],\n",
       "       [0.57735027, 0.        , 0.57735027, 0.        , 0.        ,\n",
       "        0.        , 0.        , 0.57735027, 0.        , 0.        ,\n",
       "        0.        ]])"
      ]
     },
     "execution_count": 64,
     "metadata": {},
     "output_type": "execute_result"
    }
   ],
   "source": [
    "bow.toarray()"
   ]
  },
  {
   "cell_type": "code",
   "execution_count": 65,
   "id": "8d199644",
   "metadata": {},
   "outputs": [
    {
     "data": {
      "text/plain": [
       "{'hello': 4,\n",
       " 'my': 8,\n",
       " 'name': 9,\n",
       " 'is': 5,\n",
       " 'ketan': 6,\n",
       " 'am': 1,\n",
       " 'from': 3,\n",
       " 'rajasthan': 10,\n",
       " 'dont': 2,\n",
       " 'like': 7,\n",
       " 'alcohol': 0}"
      ]
     },
     "execution_count": 65,
     "metadata": {},
     "output_type": "execute_result"
    }
   ],
   "source": [
    "tf.vocabulary_"
   ]
  },
  {
   "cell_type": "code",
   "execution_count": 66,
   "id": "529031a4",
   "metadata": {},
   "outputs": [
    {
     "data": {
      "text/plain": [
       "array([1.91629073, 1.91629073, 1.91629073, 1.91629073, 1.51082562,\n",
       "       1.51082562, 1.51082562, 1.91629073, 1.51082562, 1.51082562,\n",
       "       1.91629073])"
      ]
     },
     "execution_count": 66,
     "metadata": {},
     "output_type": "execute_result"
    }
   ],
   "source": [
    "tf.idf_"
   ]
  },
  {
   "cell_type": "code",
   "execution_count": 69,
   "id": "62387c01",
   "metadata": {},
   "outputs": [
    {
     "data": {
      "text/plain": [
       "array([[0.       , 0.       , 0.       , 0.       , 0.4472136, 0.4472136,\n",
       "        0.4472136, 0.       , 0.4472136, 0.4472136, 0.       ]])"
      ]
     },
     "execution_count": 69,
     "metadata": {},
     "output_type": "execute_result"
    }
   ],
   "source": [
    "bow[0].toarray()"
   ]
  },
  {
   "cell_type": "markdown",
   "id": "d89a0382",
   "metadata": {},
   "source": [
    "# Word Embeddings"
   ]
  },
  {
   "cell_type": "code",
   "execution_count": 71,
   "id": "f5af1a22",
   "metadata": {},
   "outputs": [
    {
     "name": "stdout",
     "output_type": "stream",
     "text": [
      "Requirement already satisfied: gensim in c:\\users\\win10\\anaconda3\\envs\\pytorch_env\\lib\\site-packages (4.1.2)\n",
      "Requirement already satisfied: Cython==0.29.23 in c:\\users\\win10\\anaconda3\\envs\\pytorch_env\\lib\\site-packages (from gensim) (0.29.23)\n",
      "Requirement already satisfied: numpy>=1.17.0 in c:\\users\\win10\\anaconda3\\envs\\pytorch_env\\lib\\site-packages (from gensim) (1.21.2)\n",
      "Requirement already satisfied: smart-open>=1.8.1 in c:\\users\\win10\\anaconda3\\envs\\pytorch_env\\lib\\site-packages (from gensim) (5.2.1)\n",
      "Requirement already satisfied: scipy>=0.18.1 in c:\\users\\win10\\anaconda3\\envs\\pytorch_env\\lib\\site-packages (from gensim) (1.7.3)\n"
     ]
    },
    {
     "name": "stderr",
     "output_type": "stream",
     "text": [
      "WARNING: Ignoring invalid distribution -pencv-python (c:\\users\\win10\\anaconda3\\envs\\pytorch_env\\lib\\site-packages)\n",
      "WARNING: Ignoring invalid distribution -pencv-python (c:\\users\\win10\\anaconda3\\envs\\pytorch_env\\lib\\site-packages)\n",
      "WARNING: Ignoring invalid distribution -pencv-python (c:\\users\\win10\\anaconda3\\envs\\pytorch_env\\lib\\site-packages)\n",
      "WARNING: Ignoring invalid distribution -pencv-python (c:\\users\\win10\\anaconda3\\envs\\pytorch_env\\lib\\site-packages)\n",
      "WARNING: Ignoring invalid distribution -pencv-python (c:\\users\\win10\\anaconda3\\envs\\pytorch_env\\lib\\site-packages)\n",
      "WARNING: Ignoring invalid distribution -pencv-python (c:\\users\\win10\\anaconda3\\envs\\pytorch_env\\lib\\site-packages)\n"
     ]
    }
   ],
   "source": [
    "!pip install gensim"
   ]
  },
  {
   "cell_type": "code",
   "execution_count": 93,
   "id": "f997a82e",
   "metadata": {},
   "outputs": [],
   "source": [
    "import gensim\n",
    "from gensim.models import Word2Vec, KeyedVectors\n",
    "from wget import download\n",
    "import seaborn as sns"
   ]
  },
  {
   "cell_type": "code",
   "execution_count": 77,
   "id": "49f7cf0a",
   "metadata": {},
   "outputs": [
    {
     "name": "stdout",
     "output_type": "stream",
     "text": [
      "100% [....................................................................] 1647046227 / 1647046227"
     ]
    },
    {
     "data": {
      "text/plain": [
       "'GoogleNews-vectors-negative300.bin.gz'"
      ]
     },
     "execution_count": 77,
     "metadata": {},
     "output_type": "execute_result"
    }
   ],
   "source": [
    "download(\"https://s3.amazonaws.com/dl4j-distribution/GoogleNews-vectors-negative300.bin.gz\")"
   ]
  },
  {
   "cell_type": "code",
   "execution_count": 83,
   "id": "49557d14",
   "metadata": {},
   "outputs": [],
   "source": [
    "model = KeyedVectors.load_word2vec_format('GoogleNews-vectors-negative300.bin.gz',binary=True,limit=500000)"
   ]
  },
  {
   "cell_type": "code",
   "execution_count": 86,
   "id": "39aebf4c",
   "metadata": {},
   "outputs": [
    {
     "data": {
      "text/plain": [
       "(300,)"
      ]
     },
     "execution_count": 86,
     "metadata": {},
     "output_type": "execute_result"
    }
   ],
   "source": [
    "model['cricket'].shape"
   ]
  },
  {
   "cell_type": "code",
   "execution_count": 111,
   "id": "8f088602",
   "metadata": {},
   "outputs": [
    {
     "data": {
      "text/plain": [
       "<AxesSubplot:>"
      ]
     },
     "execution_count": 111,
     "metadata": {},
     "output_type": "execute_result"
    },
    {
     "data": {
      "image/png": "[encoded data removed]",
      "text/plain": [
       "<Figure size 432x288 with 1 Axes>"
      ]
     },
     "metadata": {
      "needs_background": "light"
     },
     "output_type": "display_data"
    }
   ],
   "source": [
    "sns.kdeplot(x = list(model['hero']),y=range(0,300))"
   ]
  },
  {
   "cell_type": "code",
   "execution_count": 116,
   "id": "98b72049",
   "metadata": {},
   "outputs": [],
   "source": [
    "test = model['women'] + model['man']"
   ]
  },
  {
   "cell_type": "code",
   "execution_count": 117,
   "id": "166b429f",
   "metadata": {},
   "outputs": [
    {
     "data": {
      "text/plain": [
       "[('men', 0.8264732360839844),\n",
       " ('women', 0.8245616555213928),\n",
       " ('woman', 0.7998167276382446),\n",
       " ('man', 0.779474139213562),\n",
       " ('teenage_girl', 0.5938074588775635),\n",
       " ('girl', 0.5803809762001038),\n",
       " ('girls', 0.5756489038467407),\n",
       " ('Women', 0.5630379915237427),\n",
       " ('ladies', 0.5611098408699036),\n",
       " ('teenager', 0.5546466708183289)]"
      ]
     },
     "execution_count": 117,
     "metadata": {},
     "output_type": "execute_result"
    }
   ],
   "source": [
    "model.most_similar(test)"
   ]
  },
  {
   "cell_type": "code",
   "execution_count": 118,
   "id": "99fbd4ca",
   "metadata": {},
   "outputs": [
    {
     "data": {
      "text/plain": [
       "0.76640123"
      ]
     },
     "execution_count": 118,
     "metadata": {},
     "output_type": "execute_result"
    }
   ],
   "source": [
    "model.similarity('man','woman')"
   ]
  },
  {
   "cell_type": "code",
   "execution_count": 120,
   "id": "ba3095fd",
   "metadata": {},
   "outputs": [
    {
     "data": {
      "text/plain": [
       "-0.032995153"
      ]
     },
     "execution_count": 120,
     "metadata": {},
     "output_type": "execute_result"
    }
   ],
   "source": [
    "model.similarity('man','PHP')"
   ]
  },
  {
   "cell_type": "code",
   "execution_count": 125,
   "id": "8aeda374",
   "metadata": {},
   "outputs": [
    {
     "data": {
      "text/plain": [
       "'PHP'"
      ]
     },
     "execution_count": 125,
     "metadata": {},
     "output_type": "execute_result"
    }
   ],
   "source": [
    "model.doesnt_match(['man','person','PHP'])"
   ]
  },
  {
   "cell_type": "code",
   "execution_count": 130,
   "id": "42f3e43f",
   "metadata": {},
   "outputs": [],
   "source": [
    "vec = model['king'] - model['man'] + model['woman']"
   ]
  },
  {
   "cell_type": "code",
   "execution_count": 131,
   "id": "a84dd79b",
   "metadata": {},
   "outputs": [
    {
     "data": {
      "text/plain": [
       "[('king', 0.8449392318725586),\n",
       " ('queen', 0.7300518155097961),\n",
       " ('monarch', 0.645466148853302),\n",
       " ('princess', 0.6156251430511475),\n",
       " ('crown_prince', 0.5818676948547363),\n",
       " ('prince', 0.5777117609977722),\n",
       " ('kings', 0.5613664388656616),\n",
       " ('sultan', 0.5376776456832886),\n",
       " ('queens', 0.5289887189865112),\n",
       " ('ruler', 0.5247419476509094)]"
      ]
     },
     "execution_count": 131,
     "metadata": {},
     "output_type": "execute_result"
    }
   ],
   "source": [
    "model.most_similar(vec)"
   ]
  }
 ],
 "metadata": {
  "kernelspec": {
   "display_name": "Python 3 (ipykernel)",
   "language": "python",
   "name": "python3"
  },
  "language_info": {
   "codemirror_mode": {
    "name": "ipython",
    "version": 3
   },
   "file_extension": ".py",
   "mimetype": "text/x-python",
   "name": "python",
   "nbconvert_exporter": "python",
   "pygments_lexer": "ipython3",
   "version": "3.9.12"
  }
 },
 "nbformat": 4,
 "nbformat_minor": 5
}
