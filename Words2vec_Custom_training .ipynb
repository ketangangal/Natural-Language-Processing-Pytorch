{
 "cells": [
  {
   "cell_type": "code",
   "execution_count": 24,
   "id": "215f5a51",
   "metadata": {},
   "outputs": [],
   "source": [
    "import pandas as pd\n",
    "import numpy as np\n",
    "import gensim\n",
    "from nltk import sent_tokenize\n",
    "from gensim.utils import simple_preprocess"
   ]
  },
  {
   "cell_type": "code",
   "execution_count": 25,
   "id": "1807bcdf",
   "metadata": {},
   "outputs": [
    {
     "data": {
      "text/html": [
       "<div>\n",
       "<style scoped>\n",
       "    .dataframe tbody tr th:only-of-type {\n",
       "        vertical-align: middle;\n",
       "    }\n",
       "\n",
       "    .dataframe tbody tr th {\n",
       "        vertical-align: top;\n",
       "    }\n",
       "\n",
       "    .dataframe thead th {\n",
       "        text-align: right;\n",
       "    }\n",
       "</style>\n",
       "<table border=\"1\" class=\"dataframe\">\n",
       "  <thead>\n",
       "    <tr style=\"text-align: right;\">\n",
       "      <th></th>\n",
       "      <th>review</th>\n",
       "      <th>sentiment</th>\n",
       "    </tr>\n",
       "  </thead>\n",
       "  <tbody>\n",
       "    <tr>\n",
       "      <th>0</th>\n",
       "      <td>One of the other reviewers has mentioned that ...</td>\n",
       "      <td>positive</td>\n",
       "    </tr>\n",
       "    <tr>\n",
       "      <th>1</th>\n",
       "      <td>A wonderful little production. &lt;br /&gt;&lt;br /&gt;The...</td>\n",
       "      <td>positive</td>\n",
       "    </tr>\n",
       "    <tr>\n",
       "      <th>2</th>\n",
       "      <td>I thought this was a wonderful way to spend ti...</td>\n",
       "      <td>positive</td>\n",
       "    </tr>\n",
       "    <tr>\n",
       "      <th>3</th>\n",
       "      <td>Basically there's a family where a little boy ...</td>\n",
       "      <td>negative</td>\n",
       "    </tr>\n",
       "    <tr>\n",
       "      <th>4</th>\n",
       "      <td>Petter Mattei's \"Love in the Time of Money\" is...</td>\n",
       "      <td>positive</td>\n",
       "    </tr>\n",
       "  </tbody>\n",
       "</table>\n",
       "</div>"
      ],
      "text/plain": [
       "                                              review sentiment\n",
       "0  One of the other reviewers has mentioned that ...  positive\n",
       "1  A wonderful little production. <br /><br />The...  positive\n",
       "2  I thought this was a wonderful way to spend ti...  positive\n",
       "3  Basically there's a family where a little boy ...  negative\n",
       "4  Petter Mattei's \"Love in the Time of Money\" is...  positive"
      ]
     },
     "execution_count": 25,
     "metadata": {},
     "output_type": "execute_result"
    }
   ],
   "source": [
    "df = pd.read_csv('Data.csv')\n",
    "df.head()"
   ]
  },
  {
   "cell_type": "code",
   "execution_count": 26,
   "id": "47301d5c",
   "metadata": {},
   "outputs": [],
   "source": [
    "# simple preprocess\n",
    "story = []\n",
    "for i in df['review'].values:\n",
    "    story.append(simple_preprocess(i))"
   ]
  },
  {
   "cell_type": "code",
   "execution_count": 29,
   "id": "17abca43",
   "metadata": {},
   "outputs": [],
   "source": [
    "#story"
   ]
  },
  {
   "cell_type": "code",
   "execution_count": 4,
   "id": "b21c8694",
   "metadata": {},
   "outputs": [],
   "source": [
    "# All Models like, doc2v, word2vec,fasttext etc are present inside gensim.models\n",
    "# Vector size is hidden layer dimension\n",
    "model = gensim.models.Word2Vec(window=10,min_count=2,workers=4)"
   ]
  },
  {
   "cell_type": "code",
   "execution_count": 5,
   "id": "3932805a",
   "metadata": {},
   "outputs": [],
   "source": [
    "model.build_vocab(story)"
   ]
  },
  {
   "cell_type": "code",
   "execution_count": 6,
   "id": "9f023a7d",
   "metadata": {},
   "outputs": [
    {
     "data": {
      "text/plain": [
       "<gensim.models.word2vec.Word2Vec at 0x289ba404b20>"
      ]
     },
     "execution_count": 6,
     "metadata": {},
     "output_type": "execute_result"
    }
   ],
   "source": [
    "model "
   ]
  },
  {
   "cell_type": "code",
   "execution_count": 7,
   "id": "e3e47d4a",
   "metadata": {},
   "outputs": [
    {
     "data": {
      "text/plain": [
       "[('parapluies', 0.3667985200881958),\n",
       " ('hittites', 0.36327627301216125),\n",
       " ('orginal', 0.36171191930770874),\n",
       " ('ingvar', 0.355900377035141),\n",
       " ('selfishly', 0.3506717085838318),\n",
       " ('neo', 0.34986642003059387),\n",
       " ('cryin', 0.3452341854572296),\n",
       " ('imo', 0.3450087308883667),\n",
       " ('raul', 0.3449898064136505),\n",
       " ('skewered', 0.3440837562084198)]"
      ]
     },
     "execution_count": 7,
     "metadata": {},
     "output_type": "execute_result"
    }
   ],
   "source": [
    "model.wv.most_similar('reviewers')"
   ]
  },
  {
   "cell_type": "code",
   "execution_count": 8,
   "id": "b3de51bb",
   "metadata": {},
   "outputs": [],
   "source": [
    "result = model.wv['man'] - model.wv['women']"
   ]
  },
  {
   "cell_type": "code",
   "execution_count": 9,
   "id": "ab625922",
   "metadata": {},
   "outputs": [
    {
     "data": {
      "text/plain": [
       "[('man', 0.7113858461380005),\n",
       " ('pushes', 0.4037908613681793),\n",
       " ('dumbland', 0.38255688548088074),\n",
       " ('expel', 0.37586790323257446),\n",
       " ('pollonia', 0.3634907603263855),\n",
       " ('daily', 0.3626113831996918),\n",
       " ('spinoffs', 0.35242795944213867),\n",
       " ('vili', 0.33718228340148926),\n",
       " ('inslee', 0.33620670437812805),\n",
       " ('impulse', 0.33519449830055237)]"
      ]
     },
     "execution_count": 9,
     "metadata": {},
     "output_type": "execute_result"
    }
   ],
   "source": [
    "model.wv.most_similar(result)"
   ]
  },
  {
   "cell_type": "code",
   "execution_count": 10,
   "id": "e5442035",
   "metadata": {},
   "outputs": [],
   "source": [
    "# we also can reduce dimension with pca"
   ]
  },
  {
   "cell_type": "code",
   "execution_count": 11,
   "id": "f07e25ed",
   "metadata": {},
   "outputs": [],
   "source": [
    "weights = model.wv.get_normed_vectors()"
   ]
  },
  {
   "cell_type": "code",
   "execution_count": 12,
   "id": "5e19afd3",
   "metadata": {},
   "outputs": [
    {
     "data": {
      "text/plain": [
       "array([[-0.00948375,  0.00418152,  0.09025815, ..., -0.12453748,\n",
       "         0.0159432 ,  0.11305874],\n",
       "       [-0.14864719,  0.06321594,  0.08949995, ..., -0.04124186,\n",
       "        -0.16400233,  0.07770421],\n",
       "       [ 0.00166332,  0.05412815, -0.11983028, ...,  0.00901615,\n",
       "         0.14446312, -0.12346062],\n",
       "       ...,\n",
       "       [-0.10953017,  0.16277243,  0.15212893, ...,  0.04785762,\n",
       "         0.04601461,  0.1285773 ],\n",
       "       [-0.00768977, -0.11339226, -0.03072646, ...,  0.13490252,\n",
       "         0.16728777,  0.02914471],\n",
       "       [ 0.12784474,  0.02907464,  0.05856716, ...,  0.11751514,\n",
       "        -0.09491349,  0.1193809 ]], dtype=float32)"
      ]
     },
     "execution_count": 12,
     "metadata": {},
     "output_type": "execute_result"
    }
   ],
   "source": [
    "weights"
   ]
  },
  {
   "cell_type": "code",
   "execution_count": 13,
   "id": "7ecfd4fd",
   "metadata": {},
   "outputs": [
    {
     "data": {
      "text/plain": [
       "'the'"
      ]
     },
     "execution_count": 13,
     "metadata": {},
     "output_type": "execute_result"
    }
   ],
   "source": [
    "model.wv.index_to_key[0]"
   ]
  },
  {
   "cell_type": "code",
   "execution_count": 14,
   "id": "1f49b8b9",
   "metadata": {},
   "outputs": [],
   "source": [
    "# we also can reduce dimension using pca"
   ]
  },
  {
   "cell_type": "code",
   "execution_count": 15,
   "id": "d4e66ff0",
   "metadata": {},
   "outputs": [],
   "source": [
    "from sklearn.decomposition import PCA"
   ]
  },
  {
   "cell_type": "code",
   "execution_count": 16,
   "id": "83eb1127",
   "metadata": {},
   "outputs": [],
   "source": [
    "pca = PCA(n_components=3)"
   ]
  },
  {
   "cell_type": "code",
   "execution_count": 17,
   "id": "eb62fa01",
   "metadata": {},
   "outputs": [
    {
     "data": {
      "text/plain": [
       "array([[ 0.07118794, -0.08715513, -0.12011755],\n",
       "       [ 0.15518962, -0.13727869, -0.0602658 ],\n",
       "       [-0.03059982, -0.08971163, -0.10591956],\n",
       "       ...,\n",
       "       [ 0.06206756,  0.06657918,  0.01962907],\n",
       "       [-0.03641576,  0.1557515 ,  0.14710066],\n",
       "       [-0.04810112,  0.22352922,  0.11644045]], dtype=float32)"
      ]
     },
     "execution_count": 17,
     "metadata": {},
     "output_type": "execute_result"
    }
   ],
   "source": [
    "pca.fit_transform(model.wv.get_normed_vectors())"
   ]
  },
  {
   "cell_type": "code",
   "execution_count": 23,
   "id": "b81ca29c",
   "metadata": {},
   "outputs": [
    {
     "data": {
      "text/plain": [
       "(100,)"
      ]
     },
     "execution_count": 23,
     "metadata": {},
     "output_type": "execute_result"
    }
   ],
   "source": [
    "model.wv['hello'].shape"
   ]
  },
  {
   "cell_type": "code",
   "execution_count": null,
   "id": "90f6217b",
   "metadata": {},
   "outputs": [],
   "source": []
  }
 ],
 "metadata": {
  "kernelspec": {
   "display_name": "Python 3 (ipykernel)",
   "language": "python",
   "name": "python3"
  },
  "language_info": {
   "codemirror_mode": {
    "name": "ipython",
    "version": 3
   },
   "file_extension": ".py",
   "mimetype": "text/x-python",
   "name": "python",
   "nbconvert_exporter": "python",
   "pygments_lexer": "ipython3",
   "version": "3.9.12"
  }
 },
 "nbformat": 4,
 "nbformat_minor": 5
}
