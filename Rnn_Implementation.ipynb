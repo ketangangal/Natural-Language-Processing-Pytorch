{
 "cells": [
  {
   "cell_type": "markdown",
   "id": "6a66c1db",
   "metadata": {},
   "source": [
    "# Recurrent Neural Network"
   ]
  },
  {
   "cell_type": "code",
   "execution_count": 111,
   "id": "06332b0b",
   "metadata": {},
   "outputs": [],
   "source": [
    "import matplotlib.pyplot as plt\n",
    "import seaborn as sns\n",
    "import numpy as np\n",
    "import pandas as pd\n",
    "import torch\n",
    "import torch.nn as nn\n",
    "import torch.optim as optim \n",
    "from torch.utils.data import Dataset, DataLoader"
   ]
  },
  {
   "cell_type": "code",
   "execution_count": 113,
   "id": "59a26125",
   "metadata": {},
   "outputs": [
    {
     "data": {
      "text/plain": [
       "'Done'"
      ]
     },
     "execution_count": 113,
     "metadata": {},
     "output_type": "execute_result"
    }
   ],
   "source": [
    "def set_seed(seed):\n",
    "    np.random.seed(seed)\n",
    "    torch.manual_seed(seed)\n",
    "    torch.cuda.manual_seed(seed)\n",
    "    return \"Done\"\n",
    "\n",
    "set_seed(42)"
   ]
  },
  {
   "cell_type": "markdown",
   "id": "37124c29",
   "metadata": {},
   "source": [
    "# Basic Knowledge"
   ]
  },
  {
   "cell_type": "code",
   "execution_count": 114,
   "id": "43750934",
   "metadata": {},
   "outputs": [],
   "source": [
    "# ╔══════════════════════════╦═══════════════════════════════╦════════════════════╦═════════════════════════╗\n",
    "# ║        Data type         ║             dtype             ║     CPU tensor     ║       GPU tensor        ║\n",
    "# ╠══════════════════════════╬═══════════════════════════════╬════════════════════╬═════════════════════════╣\n",
    "# ║ 32-bit floating point    ║ torch.float32 or torch.float  ║ torch.FloatTensor  ║ torch.cuda.FloatTensor  ║\n",
    "# ║ 64-bit floating point    ║ torch.float64 or torch.double ║ torch.DoubleTensor ║ torch.cuda.DoubleTensor ║\n",
    "# ║ 16-bit floating point    ║ torch.float16 or torch.half   ║ torch.HalfTensor   ║ torch.cuda.HalfTensor   ║\n",
    "# ║ 8-bit integer (unsigned) ║ torch.uint8                   ║ torch.ByteTensor   ║ torch.cuda.ByteTensor   ║\n",
    "# ║ 8-bit integer (signed)   ║ torch.int8                    ║ torch.CharTensor   ║ torch.cuda.CharTensor   ║\n",
    "# ║ 16-bit integer (signed)  ║ torch.int16 or torch.short    ║ torch.ShortTensor  ║ torch.cuda.ShortTensor  ║\n",
    "# ║ 32-bit integer (signed)  ║ torch.int32 or torch.int      ║ torch.IntTensor    ║ torch.cuda.IntTensor    ║\n",
    "# ║ 64-bit integer (signed)  ║ torch.int64 or torch.long     ║ torch.LongTensor   ║ torch.cuda.LongTensor   ║\n",
    "# ║ Boolean                  ║ torch.bool                    ║ torch.BoolTensor   ║ torch.cuda.BoolTensor   ║\n",
    "# ╚══════════════════════════╩═══════════════════════════════╩════════════════════╩═════════════════════════╝"
   ]
  },
  {
   "cell_type": "code",
   "execution_count": 115,
   "id": "dff33453",
   "metadata": {},
   "outputs": [],
   "source": [
    "# RNN \n",
    " # Input data: RNN should have 3 dimensions. (Batch Size, Sequence Length and Input Dimension)\n",
    " # If we don't initialize the hidden layer, it will be auto-initiliased by PyTorch to be all zeros\n",
    " # NO need to set hidden or chnage it as it will be automatically done by pytorch \n",
    " # V.Imp to concentrate on shapes of input, output and hidden.\n",
    " # Ouput can be drawn from hidden and output hidden is the last stage of \n",
    "    \n",
    "    \n",
    "# hidden size we can define as 32, 64, 128 (again better in 2’s power) and \n",
    "# input size is a number of features in our data (input dimension). \n",
    "# Here input size is 2 for data type 2 and 1 for data type 1."
   ]
  },
  {
   "cell_type": "code",
   "execution_count": 116,
   "id": "021646d8",
   "metadata": {},
   "outputs": [
    {
     "name": "stdout",
     "output_type": "stream",
     "text": [
      "[  0.   1.   2.   3.   4.   5.   6.   7.   8.   9.  10.  11.  12.  13.\n",
      "  14.  15.  16.  17.  18.  19.  20.  21.  22.  23.  24.  25.  26.  27.\n",
      "  28.  29.  30.  31.  32.  33.  34.  35.  36.  37.  38.  39.  40.  41.\n",
      "  42.  43.  44.  45.  46.  47.  48.  49.  50.  51.  52.  53.  54.  55.\n",
      "  56.  57.  58.  59.  60.  61.  62.  63.  64.  65.  66.  67.  68.  69.\n",
      "  70.  71.  72.  73.  74.  75.  76.  77.  78.  79.  80.  81.  82.  83.\n",
      "  84.  85.  86.  87.  88.  89.  90.  91.  92.  93.  94.  95.  96.  97.\n",
      "  98.  99. 100. 101. 102. 103. 104. 105. 106. 107. 108. 109. 110. 111.\n",
      " 112. 113. 114. 115. 116. 117. 118. 119.]\n"
     ]
    }
   ],
   "source": [
    "array = np.linspace(0,119,120)\n",
    "print(array)"
   ]
  },
  {
   "cell_type": "code",
   "execution_count": 117,
   "id": "21f086d5",
   "metadata": {},
   "outputs": [],
   "source": [
    "test_size = 20\n",
    "train_set = array[:-test_size]\n",
    "test_set = array[-test_size:]"
   ]
  },
  {
   "cell_type": "code",
   "execution_count": 118,
   "id": "afb885af",
   "metadata": {},
   "outputs": [
    {
     "name": "stdout",
     "output_type": "stream",
     "text": [
      "[ 0.  1.  2.  3.  4.  5.  6.  7.  8.  9. 10. 11. 12. 13. 14. 15. 16. 17.\n",
      " 18. 19. 20. 21. 22. 23. 24. 25. 26. 27. 28. 29. 30. 31. 32. 33. 34. 35.\n",
      " 36. 37. 38. 39. 40. 41. 42. 43. 44. 45. 46. 47. 48. 49. 50. 51. 52. 53.\n",
      " 54. 55. 56. 57. 58. 59. 60. 61. 62. 63. 64. 65. 66. 67. 68. 69. 70. 71.\n",
      " 72. 73. 74. 75. 76. 77. 78. 79. 80. 81. 82. 83. 84. 85. 86. 87. 88. 89.\n",
      " 90. 91. 92. 93. 94. 95. 96. 97. 98. 99.]\n"
     ]
    }
   ],
   "source": [
    "print(train_set)"
   ]
  },
  {
   "cell_type": "code",
   "execution_count": 119,
   "id": "aca6695c",
   "metadata": {},
   "outputs": [
    {
     "name": "stdout",
     "output_type": "stream",
     "text": [
      "[100. 101. 102. 103. 104. 105. 106. 107. 108. 109. 110. 111. 112. 113.\n",
      " 114. 115. 116. 117. 118. 119.]\n"
     ]
    }
   ],
   "source": [
    "print(test_set)"
   ]
  },
  {
   "cell_type": "code",
   "execution_count": 120,
   "id": "77fdb234",
   "metadata": {},
   "outputs": [
    {
     "data": {
      "text/plain": [
       "[<matplotlib.lines.Line2D at 0x1fef01f0820>]"
      ]
     },
     "execution_count": 120,
     "metadata": {},
     "output_type": "execute_result"
    },
    {
     "data": {
      "image/png": "[encoded data removed]",
      "text/plain": [
       "<Figure size 432x288 with 1 Axes>"
      ]
     },
     "metadata": {
      "needs_background": "light"
     },
     "output_type": "display_data"
    }
   ],
   "source": [
    "plt.plot(train_set,linewidth=4)\n",
    "plt.grid(True)\n",
    "plt.plot(test_set,range(100,120),linewidth=4)"
   ]
  },
  {
   "cell_type": "markdown",
   "id": "a02eb141",
   "metadata": {},
   "source": [
    "# Create Input Data"
   ]
  },
  {
   "cell_type": "code",
   "execution_count": 121,
   "id": "5d004a7f",
   "metadata": {},
   "outputs": [],
   "source": [
    "def input_data(data,ws):\n",
    "    out = []\n",
    "    \n",
    "    for i in range(len(data)-ws):\n",
    "        feature = data[i:i+ws+1]\n",
    "        out.append(feature)\n",
    "        \n",
    "    df = pd.DataFrame(out)\n",
    "    return df"
   ]
  },
  {
   "cell_type": "code",
   "execution_count": 122,
   "id": "2fb14d28",
   "metadata": {},
   "outputs": [],
   "source": [
    "class CustomDatasetTrain(Dataset):\n",
    "    def __init__(self):\n",
    "        self.df = input_data(train_set,3)\n",
    "        self.x = torch.from_numpy(self.df.drop(3,axis=1).to_numpy()).float()\n",
    "        self.y = torch.from_numpy(self.df[3].to_numpy()).float()\n",
    "        self.n_sample = self.df.shape[0]\n",
    "\n",
    "    def __getitem__(self, index):\n",
    "        return self.x[index],self.y[index]\n",
    "    \n",
    "    def __len__(self):\n",
    "        return self.n_sample\n",
    "    \n",
    "train_data= CustomDatasetTrain()"
   ]
  },
  {
   "cell_type": "code",
   "execution_count": 123,
   "id": "004f597f",
   "metadata": {},
   "outputs": [],
   "source": [
    "class CustomDatasetTest(Dataset):\n",
    "    def __init__(self):\n",
    "        self.df = input_data(test_set,3)\n",
    "        self.x = torch.from_numpy(self.df.drop(3,axis=1).to_numpy()).float()\n",
    "        self.y = torch.from_numpy(self.df[3].to_numpy()).float()\n",
    "        self.n_sample = self.df.shape[0]\n",
    "\n",
    "    def __getitem__(self, index):\n",
    "        return self.x[index],self.y[index]\n",
    "    \n",
    "    def __len__(self):\n",
    "        return self.n_sample\n",
    "    \n",
    "test_data = CustomDatasetTest()"
   ]
  },
  {
   "cell_type": "code",
   "execution_count": 124,
   "id": "133b62c9",
   "metadata": {},
   "outputs": [],
   "source": [
    "train_loader = DataLoader(train_data,4,True)\n",
    "test_loader = DataLoader(test_data,4)"
   ]
  },
  {
   "cell_type": "code",
   "execution_count": 125,
   "id": "5d7c3a46",
   "metadata": {},
   "outputs": [
    {
     "name": "stdout",
     "output_type": "stream",
     "text": [
      "tensor([[[85.],\n",
      "         [86.],\n",
      "         [87.]],\n",
      "\n",
      "        [[38.],\n",
      "         [39.],\n",
      "         [40.]],\n",
      "\n",
      "        [[53.],\n",
      "         [54.],\n",
      "         [55.]],\n",
      "\n",
      "        [[22.],\n",
      "         [23.],\n",
      "         [24.]]])\n",
      "[tensor([[85., 86., 87.],\n",
      "        [38., 39., 40.],\n",
      "        [53., 54., 55.],\n",
      "        [22., 23., 24.]]), tensor([88., 41., 56., 25.])]\n"
     ]
    }
   ],
   "source": [
    "for data in train_loader:\n",
    "    print(data[0].reshape(-1,3,1))\n",
    "    print(data)\n",
    "    break"
   ]
  },
  {
   "cell_type": "markdown",
   "id": "dd0fe252",
   "metadata": {},
   "source": [
    "# Model Train and Evaluate "
   ]
  },
  {
   "cell_type": "code",
   "execution_count": 126,
   "id": "d3be804e",
   "metadata": {},
   "outputs": [],
   "source": [
    "class RNN(nn.Module):\n",
    "    def __init__(self,input_size, hidden_size, num_layers, linear_output, batch_size, bidirectional, batch_first):\n",
    "        super().__init__()\n",
    "        \n",
    "        self.rnn = nn.RNN(input_size = input_size, \n",
    "                          hidden_size = hidden_size, \n",
    "                          num_layers = num_layers,\n",
    "                          batch_first= batch_first,\n",
    "                          bidirectional = bidirectional)\n",
    "        \n",
    "        self.linear = nn.Linear(hidden_size,12)\n",
    "        self.linear_1 = nn.Linear(12,1)\n",
    "    \n",
    "    def forward(self,input_data):\n",
    "        input_ = input_data.reshape(-1,3,1)\n",
    "        output, hidden = self.rnn(input_)\n",
    "        pred = self.linear(hidden)\n",
    "        pred = self.linear_1(pred)\n",
    "        return pred "
   ]
  },
  {
   "cell_type": "code",
   "execution_count": 137,
   "id": "3338e011",
   "metadata": {},
   "outputs": [],
   "source": [
    "batch_size = 5\n",
    "\n",
    "train_loader = DataLoader(train_data,batch_size)\n",
    "test_loader = DataLoader(test_data,batch_size)\n",
    "\n",
    "model = RNN(input_size = 1,\n",
    "            hidden_size =100,\n",
    "            num_layers = 1,\n",
    "            linear_output = 1,\n",
    "            batch_size= batch_size,\n",
    "            bidirectional= False,\n",
    "            batch_first= True)\n",
    "\n",
    "\n",
    "loss_func = nn.MSELoss()\n",
    "optimizer = torch.optim.Adagrad(model.parameters(),lr=0.09)"
   ]
  },
  {
   "cell_type": "code",
   "execution_count": 138,
   "id": "a6f38b86",
   "metadata": {},
   "outputs": [
    {
     "name": "stdout",
     "output_type": "stream",
     "text": [
      "RNN(\n",
      "  (rnn): RNN(1, 100, batch_first=True)\n",
      "  (linear): Linear(in_features=100, out_features=12, bias=True)\n",
      "  (linear_1): Linear(in_features=12, out_features=1, bias=True)\n",
      ")\n"
     ]
    }
   ],
   "source": [
    "print(model)"
   ]
  },
  {
   "cell_type": "code",
   "execution_count": 139,
   "id": "24afd1c3",
   "metadata": {},
   "outputs": [
    {
     "name": "stdout",
     "output_type": "stream",
     "text": [
      "torch.Size([100, 1])\n",
      "torch.Size([100, 100])\n",
      "torch.Size([100])\n",
      "torch.Size([100])\n",
      "torch.Size([12, 100])\n",
      "torch.Size([12])\n",
      "torch.Size([1, 12])\n",
      "torch.Size([1])\n"
     ]
    }
   ],
   "source": [
    "for i in model.parameters():\n",
    "    print(i.shape)"
   ]
  },
  {
   "cell_type": "code",
   "execution_count": 140,
   "id": "84b80f34",
   "metadata": {
    "scrolled": false
   },
   "outputs": [
    {
     "name": "stdout",
     "output_type": "stream",
     "text": [
      "161.92579650878906\n",
      "110.2999267578125\n",
      "143.57830810546875\n",
      "24.5831298828125\n",
      "32.62636947631836\n",
      "107.24241638183594\n",
      "15.240361213684082\n",
      "0.3071672022342682\n",
      "37.207332611083984\n",
      "15.746075630187988\n",
      "29.832117080688477\n",
      "3.466341733932495\n",
      "0.38343673944473267\n",
      "59.52093505859375\n",
      "1.230486273765564\n",
      "7.359494209289551\n",
      "10.21453857421875\n",
      "30.385883331298828\n",
      "5.926243782043457\n",
      "5.44651985168457\n",
      "47.926116943359375\n",
      "18.690963745117188\n",
      "15.12387466430664\n",
      "18.558208465576172\n",
      "17.819072723388672\n",
      "0.15553048253059387\n",
      "4.775747299194336\n",
      "2.233306407928467\n",
      "71.61139678955078\n",
      "7.333754062652588\n",
      "0.9103363156318665\n",
      "10.9636812210083\n",
      "7.71054744720459\n",
      "19.396183013916016\n",
      "7.7566962242126465\n",
      "8.142659187316895\n",
      "5.764492988586426\n",
      "12.255504608154297\n",
      "23.668621063232422\n",
      "3.728449821472168\n",
      "2.2953920364379883\n",
      "1.6740994453430176\n",
      "2.0437822341918945\n",
      "0.4515063166618347\n",
      "0.6242112517356873\n",
      "7.944490432739258\n",
      "3.040931224822998\n",
      "1.8792681694030762\n",
      "0.7977392673492432\n",
      "0.3456093966960907\n",
      "0.06630631536245346\n",
      "0.3419574201107025\n",
      "0.16080504655838013\n",
      "0.02595510520040989\n",
      "0.030174333602190018\n",
      "0.219826340675354\n",
      "0.029757797718048096\n",
      "0.7321426868438721\n",
      "1.6494057178497314\n",
      "18.403491973876953\n",
      "2.655203342437744\n",
      "0.28814712166786194\n",
      "0.03234236687421799\n",
      "0.4295012056827545\n",
      "0.057656798511743546\n",
      "0.6762349009513855\n",
      "0.14301252365112305\n",
      "0.03074820339679718\n",
      "0.03640833869576454\n",
      "0.06989096105098724\n",
      "0.0437614805996418\n",
      "0.01744641363620758\n",
      "0.015837285667657852\n",
      "0.020760701969265938\n",
      "0.025694463402032852\n",
      "0.017276853322982788\n",
      "0.008873187005519867\n",
      "0.008580340072512627\n",
      "0.014646724797785282\n",
      "0.01881234534084797\n",
      "0.012484213337302208\n",
      "0.00527452165260911\n",
      "0.004575667902827263\n",
      "0.008219466544687748\n",
      "0.009580181911587715\n",
      "0.0058025820180773735\n",
      "0.003229632508009672\n",
      "0.004431187640875578\n",
      "0.006306779570877552\n",
      "0.004816659726202488\n",
      "0.0034116501919925213\n",
      "0.0033015557564795017\n",
      "0.004619146231561899\n",
      "0.0049376897513866425\n",
      "0.0038615099620074034\n",
      "0.004414131864905357\n",
      "0.0042038895189762115\n",
      "0.004890776239335537\n",
      "0.0059615327045321465\n",
      "0.004314917139708996\n",
      "0.005661166273057461\n",
      "0.004970175679773092\n",
      "0.005227877292782068\n",
      "0.006686398759484291\n",
      "0.003923868760466576\n",
      "0.006700603757053614\n",
      "0.004665264394134283\n",
      "0.005146163050085306\n",
      "0.007222529500722885\n",
      "0.0037650750018656254\n",
      "0.00789380818605423\n",
      "0.004556948319077492\n",
      "0.005687816999852657\n",
      "0.007596156559884548\n",
      "0.004176900256425142\n",
      "0.0085469800978899\n",
      "0.004676659591495991\n",
      "0.0062508671544492245\n",
      "0.00746777793392539\n",
      "0.004389979876577854\n",
      "0.009237874299287796\n",
      "0.004630145151168108\n",
      "0.006692748982459307\n",
      "0.006619938649237156\n",
      "0.004495826084166765\n",
      "0.009391581639647484\n",
      "0.004538294393569231\n",
      "0.007375475484877825\n",
      "0.005482920445501804\n",
      "0.004617452155798674\n",
      "0.008672564290463924\n",
      "0.004443270154297352\n",
      "0.007920637726783752\n",
      "0.004646367393434048\n",
      "0.004987084306776524\n",
      "0.007026823237538338\n",
      "0.004220298491418362\n",
      "0.008723689243197441\n",
      "0.004195576533675194\n",
      "0.006240460090339184\n",
      "0.0047494396567344666\n",
      "0.00389705877751112\n",
      "0.007786550093442202\n",
      "0.004036528058350086\n",
      "0.007085037883371115\n",
      "0.003745274618268013\n",
      "0.004179737530648708\n",
      "0.005410339683294296\n",
      "0.003577237483114004\n",
      "0.00784582830965519\n",
      "0.00366114336065948\n",
      "0.005744552239775658\n",
      "0.003294398309662938\n",
      "0.003117089159786701\n",
      "0.00559742609038949\n",
      "0.0033802934922277927\n",
      "0.00687203835695982\n",
      "0.0031186724081635475\n",
      "0.004435225855559111\n",
      "0.0028896057046949863\n",
      "0.0024859525728970766\n",
      "0.005497225094586611\n",
      "0.003134043887257576\n",
      "0.005778868682682514\n",
      "0.0025699124671518803\n",
      "0.0032878825441002846\n",
      "0.0024977275170385838\n",
      "0.002097796881571412\n",
      "0.005127185024321079\n",
      "0.002900224644690752\n",
      "0.004916438367217779\n",
      "0.0021020949352532625\n",
      "0.0023970569018274546\n",
      "0.0020877220667898655\n",
      "0.001805666834115982\n",
      "0.004572467878460884\n",
      "0.0026721758767962456\n",
      "0.004204708617180586\n",
      "0.0017218169523403049\n",
      "0.0017659335862845182\n",
      "0.0016195569187402725\n",
      "0.0015095737762749195\n",
      "0.003879333846271038\n",
      "0.002443755976855755\n",
      "0.003620253875851631\n",
      "0.001457627397030592\n",
      "0.0013349634828045964\n",
      "0.0011271025286987424\n",
      "0.0011839419603347778\n",
      "0.0031433613039553165\n",
      "0.002239806577563286\n",
      "0.0031525439117103815\n",
      "0.0013229215983301401\n",
      "0.0010731604415923357\n",
      "0.0006790459156036377\n",
      "0.0008353713201358914\n",
      "0.002400040626525879\n",
      "0.002051002811640501\n",
      "0.0027919025160372257\n",
      "0.0013335098046809435\n"
     ]
    }
   ],
   "source": [
    "epochs = 200\n",
    "loss = 0\n",
    "\n",
    "for epoch in range(epochs):\n",
    "    for data,label in train_loader:\n",
    "        optimizer.zero_grad()\n",
    "        hidden = zero\n",
    "        pred = model.forward(data)\n",
    "        loss = loss_func(pred,label.reshape(1,-1,1))\n",
    "        loss.backward()\n",
    "        \n",
    "        optimizer.step()\n",
    "    print(loss.item())"
   ]
  },
  {
   "cell_type": "markdown",
   "id": "8ec8fc69",
   "metadata": {},
   "source": [
    "# Evaluation Stage"
   ]
  },
  {
   "cell_type": "code",
   "execution_count": 141,
   "id": "9d29b13f",
   "metadata": {},
   "outputs": [
    {
     "name": "stdout",
     "output_type": "stream",
     "text": [
      "tensor([103., 104., 105., 106., 107.]) tensor([[[101.7332],\n",
      "         [102.2446],\n",
      "         [102.7857],\n",
      "         [103.4350],\n",
      "         [104.2936]]])\n",
      "tensor([108., 109., 110., 111., 112.]) tensor([[[105.4225],\n",
      "         [106.7463],\n",
      "         [108.0613],\n",
      "         [109.2003],\n",
      "         [110.1331]]])\n",
      "tensor([113., 114., 115., 116., 117.]) tensor([[[110.9144],\n",
      "         [111.6123],\n",
      "         [112.2879],\n",
      "         [112.9957],\n",
      "         [113.7799]]])\n",
      "tensor([118., 119.]) tensor([[[114.6622],\n",
      "         [115.6339]]])\n",
      "Loss : 6.933938026428223\n"
     ]
    }
   ],
   "source": [
    "model.eval()\n",
    "loss = 0\n",
    "batch = 0\n",
    "original = []\n",
    "predi = []\n",
    "with torch.no_grad():\n",
    "    for data, label in test_loader:\n",
    "        pred = model.forward(data)\n",
    "        original.extend(label.tolist())\n",
    "        predi.extend(pred[0].reshape(1,-1).tolist())\n",
    "        loss += loss_func(pred,label.reshape(1,-1,1))\n",
    "        print(label,pred)\n",
    "        batch+=1\n",
    "        \n",
    "    print(f\"Loss : {loss/batch}\")\n",
    "    "
   ]
  },
  {
   "cell_type": "code",
   "execution_count": 142,
   "id": "7d9a077b",
   "metadata": {},
   "outputs": [
    {
     "data": {
      "text/plain": [
       "[<matplotlib.lines.Line2D at 0x1fef05acd00>]"
      ]
     },
     "execution_count": 142,
     "metadata": {},
     "output_type": "execute_result"
    },
    {
     "data": {
      "image/png": "[encoded data removed]",
      "text/plain": [
       "<Figure size 432x288 with 1 Axes>"
      ]
     },
     "metadata": {
      "needs_background": "light"
     },
     "output_type": "display_data"
    }
   ],
   "source": [
    "test = []\n",
    "for i in predi:\n",
    "    test.extend(i)\n",
    "\n",
    "# test = [int(i) for i in test]\n",
    "plt.plot(original)\n",
    "plt.plot(test)"
   ]
  },
  {
   "cell_type": "code",
   "execution_count": 109,
   "id": "06b5a5cc",
   "metadata": {},
   "outputs": [],
   "source": [
    "rnn = nn.RNN(1, 1, 1)\n",
    "input = torch.randn(3, 2, 1)\n",
    "h0 = torch.randn(1, 2, 1)\n",
    "output, hn = rnn(input, h0)"
   ]
  },
  {
   "cell_type": "code",
   "execution_count": 110,
   "id": "5d6f4f06",
   "metadata": {},
   "outputs": [
    {
     "data": {
      "text/plain": [
       "tensor([[[ 0.6909],\n",
       "         [ 0.2875]],\n",
       "\n",
       "        [[-0.1474],\n",
       "         [ 0.3286]],\n",
       "\n",
       "        [[ 0.8925],\n",
       "         [ 0.7877]]], grad_fn=<StackBackward0>)"
      ]
     },
     "execution_count": 110,
     "metadata": {},
     "output_type": "execute_result"
    }
   ],
   "source": [
    "output"
   ]
  },
  {
   "cell_type": "code",
   "execution_count": 413,
   "id": "b75a3053",
   "metadata": {},
   "outputs": [
    {
     "data": {
      "text/plain": [
       "tensor([[[0.9727],\n",
       "         [0.9349]]], grad_fn=<StackBackward0>)"
      ]
     },
     "execution_count": 413,
     "metadata": {},
     "output_type": "execute_result"
    }
   ],
   "source": [
    "hn"
   ]
  }
 ],
 "metadata": {
  "kernelspec": {
   "display_name": "Python 3 (ipykernel)",
   "language": "python",
   "name": "python3"
  },
  "language_info": {
   "codemirror_mode": {
    "name": "ipython",
    "version": 3
   },
   "file_extension": ".py",
   "mimetype": "text/x-python",
   "name": "python",
   "nbconvert_exporter": "python",
   "pygments_lexer": "ipython3",
   "version": "3.9.12"
  }
 },
 "nbformat": 4,
 "nbformat_minor": 5
}
