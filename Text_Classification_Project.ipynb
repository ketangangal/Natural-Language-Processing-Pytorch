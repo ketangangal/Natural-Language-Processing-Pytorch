{
 "cells": [
  {
   "cell_type": "code",
   "execution_count": 1,
   "id": "8a166032",
   "metadata": {},
   "outputs": [],
   "source": [
    "import pandas as pd\n",
    "import numpy as np \n",
    "import seaborn as sns\n",
    "import re\n",
    "from textblob import TextBlob\n",
    "from nltk.corpus import stopwords\n",
    "from nltk.tokenize import word_tokenize,sent_tokenize\n",
    "from nltk.stem import PorterStemmer\n",
    "from nltk.stem import WordNetLemmatizer\n",
    "from sklearn.preprocessing import LabelEncoder\n",
    "\n",
    "from sklearn.model_selection import train_test_split\n",
    "from sklearn.feature_extraction.text import CountVectorizer, TfidfVectorizer\n",
    "\n",
    "from sklearn.naive_bayes import GaussianNB\n",
    "from sklearn.ensemble import RandomForestClassifier\n",
    "\n",
    "from sklearn.metrics import accuracy_score,confusion_matrix,classification_report"
   ]
  },
  {
   "cell_type": "code",
   "execution_count": 2,
   "id": "cd2984ea",
   "metadata": {},
   "outputs": [],
   "source": [
    "df = pd.read_csv('Data.csv')\n",
    "df = df[:10000]"
   ]
  },
  {
   "cell_type": "code",
   "execution_count": 3,
   "id": "ab62c4c9",
   "metadata": {},
   "outputs": [
    {
     "data": {
      "text/html": [
       "<div>\n",
       "<style scoped>\n",
       "    .dataframe tbody tr th:only-of-type {\n",
       "        vertical-align: middle;\n",
       "    }\n",
       "\n",
       "    .dataframe tbody tr th {\n",
       "        vertical-align: top;\n",
       "    }\n",
       "\n",
       "    .dataframe thead th {\n",
       "        text-align: right;\n",
       "    }\n",
       "</style>\n",
       "<table border=\"1\" class=\"dataframe\">\n",
       "  <thead>\n",
       "    <tr style=\"text-align: right;\">\n",
       "      <th></th>\n",
       "      <th>review</th>\n",
       "      <th>sentiment</th>\n",
       "    </tr>\n",
       "  </thead>\n",
       "  <tbody>\n",
       "    <tr>\n",
       "      <th>0</th>\n",
       "      <td>One of the other reviewers has mentioned that ...</td>\n",
       "      <td>positive</td>\n",
       "    </tr>\n",
       "    <tr>\n",
       "      <th>1</th>\n",
       "      <td>A wonderful little production. &lt;br /&gt;&lt;br /&gt;The...</td>\n",
       "      <td>positive</td>\n",
       "    </tr>\n",
       "    <tr>\n",
       "      <th>2</th>\n",
       "      <td>I thought this was a wonderful way to spend ti...</td>\n",
       "      <td>positive</td>\n",
       "    </tr>\n",
       "    <tr>\n",
       "      <th>3</th>\n",
       "      <td>Basically there's a family where a little boy ...</td>\n",
       "      <td>negative</td>\n",
       "    </tr>\n",
       "    <tr>\n",
       "      <th>4</th>\n",
       "      <td>Petter Mattei's \"Love in the Time of Money\" is...</td>\n",
       "      <td>positive</td>\n",
       "    </tr>\n",
       "  </tbody>\n",
       "</table>\n",
       "</div>"
      ],
      "text/plain": [
       "                                              review sentiment\n",
       "0  One of the other reviewers has mentioned that ...  positive\n",
       "1  A wonderful little production. <br /><br />The...  positive\n",
       "2  I thought this was a wonderful way to spend ti...  positive\n",
       "3  Basically there's a family where a little boy ...  negative\n",
       "4  Petter Mattei's \"Love in the Time of Money\" is...  positive"
      ]
     },
     "execution_count": 3,
     "metadata": {},
     "output_type": "execute_result"
    }
   ],
   "source": [
    "df.head()"
   ]
  },
  {
   "cell_type": "code",
   "execution_count": 4,
   "id": "cc797a49",
   "metadata": {},
   "outputs": [
    {
     "name": "stdout",
     "output_type": "stream",
     "text": [
      "positive    5028\n",
      "negative    4972\n",
      "Name: sentiment, dtype: int64\n"
     ]
    },
    {
     "data": {
      "image/png": "[encoded data removed]",
      "text/plain": [
       "<Figure size 432x288 with 1 Axes>"
      ]
     },
     "metadata": {
      "needs_background": "light"
     },
     "output_type": "display_data"
    }
   ],
   "source": [
    "sns.countplot(x=df['sentiment']);\n",
    "print(df['sentiment'].value_counts())"
   ]
  },
  {
   "cell_type": "code",
   "execution_count": 5,
   "id": "63a44063",
   "metadata": {},
   "outputs": [
    {
     "name": "stdout",
     "output_type": "stream",
     "text": [
      "<class 'pandas.core.frame.DataFrame'>\n",
      "RangeIndex: 10000 entries, 0 to 9999\n",
      "Data columns (total 2 columns):\n",
      " #   Column     Non-Null Count  Dtype \n",
      "---  ------     --------------  ----- \n",
      " 0   review     10000 non-null  object\n",
      " 1   sentiment  10000 non-null  object\n",
      "dtypes: object(2)\n",
      "memory usage: 156.4+ KB\n"
     ]
    }
   ],
   "source": [
    "df.info()"
   ]
  },
  {
   "cell_type": "code",
   "execution_count": 6,
   "id": "a4e8b867",
   "metadata": {},
   "outputs": [
    {
     "data": {
      "text/plain": [
       "17"
      ]
     },
     "execution_count": 6,
     "metadata": {},
     "output_type": "execute_result"
    }
   ],
   "source": [
    "df.duplicated().sum()"
   ]
  },
  {
   "cell_type": "code",
   "execution_count": 7,
   "id": "1a7a57d5",
   "metadata": {},
   "outputs": [],
   "source": [
    "df = df.drop_duplicates()"
   ]
  },
  {
   "cell_type": "code",
   "execution_count": 8,
   "id": "d71fb0cf",
   "metadata": {},
   "outputs": [
    {
     "data": {
      "text/plain": [
       "0"
      ]
     },
     "execution_count": 8,
     "metadata": {},
     "output_type": "execute_result"
    }
   ],
   "source": [
    "df.duplicated().sum()"
   ]
  },
  {
   "cell_type": "markdown",
   "id": "f8bd2775",
   "metadata": {},
   "source": [
    "## Lower Case Everything"
   ]
  },
  {
   "cell_type": "code",
   "execution_count": 9,
   "id": "63741106",
   "metadata": {},
   "outputs": [],
   "source": [
    "df['review'] = df['review'].str.lower()"
   ]
  },
  {
   "cell_type": "code",
   "execution_count": 10,
   "id": "ae0fa5b0",
   "metadata": {},
   "outputs": [
    {
     "data": {
      "text/plain": [
       "'i remember this film,it was the first film i had watched at the cinema the picture was dark in places i was very nervous it was back in 74/75 my dad took me my brother & sister to newbury cinema in newbury berkshire england. i recall the tigers and the lots of snow in the film also the appearance of grizzly adams actor dan haggery i think one of the tigers gets shot and dies. if anyone knows where to find this on dvd etc please let me know.the cinema now has been turned in a fitness club which is a very big shame as the nearest cinema now is 20 miles away, would love to hear from others who have seen this film or any other like it.'"
      ]
     },
     "execution_count": 10,
     "metadata": {},
     "output_type": "execute_result"
    }
   ],
   "source": [
    "df.iloc[18][0]"
   ]
  },
  {
   "cell_type": "markdown",
   "id": "f7b93261",
   "metadata": {},
   "source": [
    "# Remove Numbers From Text"
   ]
  },
  {
   "cell_type": "code",
   "execution_count": 11,
   "id": "9fee48c7",
   "metadata": {},
   "outputs": [
    {
     "data": {
      "text/plain": [
       "'i remember this film,it was the first film i had watched at the cinema the picture was dark in places i was very nervous it was back in / my dad took me my brother & sister to newbury cinema in newbury berkshire england. i recall the tigers and the lots of snow in the film also the appearance of grizzly adams actor dan haggery i think one of the tigers gets shot and dies. if anyone knows where to find this on dvd etc please let me know.the cinema now has been turned in a fitness club which is a very big shame as the nearest cinema now is  miles away, would love to hear from others who have seen this film or any other like it.'"
      ]
     },
     "execution_count": 11,
     "metadata": {},
     "output_type": "execute_result"
    }
   ],
   "source": [
    "def remove_numbers(text):\n",
    "    pattern = r'[0-9]'\n",
    "    new_string = re.sub(pattern, '', text)\n",
    "    return new_string\n",
    "\n",
    "remove_numbers(df.iloc[18][0])"
   ]
  },
  {
   "cell_type": "code",
   "execution_count": 12,
   "id": "f0ced812",
   "metadata": {},
   "outputs": [],
   "source": [
    "df['review'] = df['review'].apply(lambda x: remove_numbers(x))"
   ]
  },
  {
   "cell_type": "code",
   "execution_count": 13,
   "id": "f1806d97",
   "metadata": {},
   "outputs": [
    {
     "data": {
      "text/plain": [
       "'return to the th chamber is one of those classic kung-fu movies which shaw produces back in the s and s, whose genre is equivalent to the spaghetti westerns of hollywood, and the protagonist gordon liu, the counterpart to the western\\'s clint eastwood. digitally remastered and a new print made for the fantastic film fest, this is \"presented in shaw scope\", just like the good old days.<br /><br />this film is a simple story of good versus evil, told in  acts, which more or less sums up the narrative of martial arts films in that era.<br /><br />act one sets up the premise. workers in a dye-mill of a small village are unhappy with their lot, having their wages cut by % by incoming manchu gangsters. they can\\'t do much about their exploitation because none of them are martial arts skilled to take on the gangsters, and their boss. at first they had a minor success in getting liu to impersonate a highly skilled shaolin monk (one of the best comedy sequences), but their rouse got exposed when they pushed the limit of credibility by impersonating one too many times.<br /><br />act two shows the protagonist wanting to get back at the mob. however, without real martial arts, he embarks on a journey to shaolin temple, to try and infiltrate and learn martial arts on the sly. after some slapstick moments, he finally gets accepted by the abbot (whom he impersonated!) but is disappointed at the teaching methods - kinda like mr miyagi\\'s style in karate kid, but instead of painting fences, he gets to erect scaffoldings all around the temple. nothing can keep a good man down, and he unwittingly builds strength, endurance and learns kung-fu the unorthodox way.<br /><br />act three is where the fight fest begins. with cheesy sound effects, each obvious non-contact on film is given the maximum impact treatment. but it is rather refreshing watching the fight scenes here, with its wide angled shots to highlight clarity and detail between the sparring partners, and the use of slow-motion only to showcase stunts in different angles. you may find the speed of fights a tad too slow, with some pause in between moves, but with yuen wo ping and his style being used ad-nausem in hollywood flicks, they sure don\\'t make fight scenes like they used to! return to the th chamber gets a repeat screening on monday, so, if you\\'re game for a nostalgic trip down memory lane, what are you waiting for?'"
      ]
     },
     "execution_count": 13,
     "metadata": {},
     "output_type": "execute_result"
    }
   ],
   "source": [
    "df.iloc[50][0]"
   ]
  },
  {
   "cell_type": "markdown",
   "id": "27a90bfd",
   "metadata": {},
   "source": [
    "# Remove Html Tags"
   ]
  },
  {
   "cell_type": "code",
   "execution_count": 14,
   "id": "b0ab97ff",
   "metadata": {},
   "outputs": [
    {
     "data": {
      "text/plain": [
       "'return to the th chamber is one of those classic kung-fu movies which shaw produces back in the s and s, whose genre is equivalent to the spaghetti westerns of hollywood, and the protagonist gordon liu, the counterpart to the western\\'s clint eastwood. digitally remastered and a new print made for the fantastic film fest, this is \"presented in shaw scope\", just like the good old days.this film is a simple story of good versus evil, told in  acts, which more or less sums up the narrative of martial arts films in that era.act one sets up the premise. workers in a dye-mill of a small village are unhappy with their lot, having their wages cut by % by incoming manchu gangsters. they can\\'t do much about their exploitation because none of them are martial arts skilled to take on the gangsters, and their boss. at first they had a minor success in getting liu to impersonate a highly skilled shaolin monk (one of the best comedy sequences), but their rouse got exposed when they pushed the limit of credibility by impersonating one too many times.act two shows the protagonist wanting to get back at the mob. however, without real martial arts, he embarks on a journey to shaolin temple, to try and infiltrate and learn martial arts on the sly. after some slapstick moments, he finally gets accepted by the abbot (whom he impersonated!) but is disappointed at the teaching methods - kinda like mr miyagi\\'s style in karate kid, but instead of painting fences, he gets to erect scaffoldings all around the temple. nothing can keep a good man down, and he unwittingly builds strength, endurance and learns kung-fu the unorthodox way.act three is where the fight fest begins. with cheesy sound effects, each obvious non-contact on film is given the maximum impact treatment. but it is rather refreshing watching the fight scenes here, with its wide angled shots to highlight clarity and detail between the sparring partners, and the use of slow-motion only to showcase stunts in different angles. you may find the speed of fights a tad too slow, with some pause in between moves, but with yuen wo ping and his style being used ad-nausem in hollywood flicks, they sure don\\'t make fight scenes like they used to! return to the th chamber gets a repeat screening on monday, so, if you\\'re game for a nostalgic trip down memory lane, what are you waiting for?'"
      ]
     },
     "execution_count": 14,
     "metadata": {},
     "output_type": "execute_result"
    }
   ],
   "source": [
    "def remove_tags(text):\n",
    "    p = re.compile(r'<.*?>')\n",
    "    return p.sub('', text)\n",
    "\n",
    "remove_tags(df.iloc[50][0])"
   ]
  },
  {
   "cell_type": "code",
   "execution_count": 15,
   "id": "a1146f5b",
   "metadata": {},
   "outputs": [],
   "source": [
    "df['review'] = df['review'].apply(lambda x: remove_tags(x))"
   ]
  },
  {
   "cell_type": "markdown",
   "id": "cb03cf51",
   "metadata": {},
   "source": [
    "# Remove Special Char"
   ]
  },
  {
   "cell_type": "code",
   "execution_count": 16,
   "id": "2747c217",
   "metadata": {},
   "outputs": [
    {
     "data": {
      "text/plain": [
       "'return to the th chamber is one of those classic kung fu movies which shaw produces back in the s and s whose genre is equivalent to the spaghetti westerns of hollywood and the protagonist gordon liu the counterpart to the western s clint eastwood digitally remastered and a new print made for the fantastic film fest this is presented in shaw scope just like the good old days this film is a simple story of good versus evil told in acts which more or less sums up the narrative of martial arts films in that era act one sets up the premise workers in a dye mill of a small village are unhappy with their lot having their wages cut by by incoming manchu gangsters they can t do much about their exploitation because none of them are martial arts skilled to take on the gangsters and their boss at first they had a minor success in getting liu to impersonate a highly skilled shaolin monk one of the best comedy sequences but their rouse got exposed when they pushed the limit of credibility by impersonating one too many times act two shows the protagonist wanting to get back at the mob however without real martial arts he embarks on a journey to shaolin temple to try and infiltrate and learn martial arts on the sly after some slapstick moments he finally gets accepted by the abbot whom he impersonated but is disappointed at the teaching methods kinda like mr miyagi s style in karate kid but instead of painting fences he gets to erect scaffoldings all around the temple nothing can keep a good man down and he unwittingly builds strength endurance and learns kung fu the unorthodox way act three is where the fight fest begins with cheesy sound effects each obvious non contact on film is given the maximum impact treatment but it is rather refreshing watching the fight scenes here with its wide angled shots to highlight clarity and detail between the sparring partners and the use of slow motion only to showcase stunts in different angles you may find the speed of fights a tad too slow with some pause in between moves but with yuen wo ping and his style being used ad nausem in hollywood flicks they sure don t make fight scenes like they used to return to the th chamber gets a repeat screening on monday so if you re game for a nostalgic trip down memory lane what are you waiting for '"
      ]
     },
     "execution_count": 16,
     "metadata": {},
     "output_type": "execute_result"
    }
   ],
   "source": [
    "def remove_spchar(text):\n",
    "    return re.sub('\\W+',' ', text )\n",
    "\n",
    "remove_spchar(df.iloc[50][0])"
   ]
  },
  {
   "cell_type": "code",
   "execution_count": 17,
   "id": "f71dcb1a",
   "metadata": {},
   "outputs": [],
   "source": [
    "df['review'] = df['review'].apply(lambda x: remove_spchar(x))"
   ]
  },
  {
   "cell_type": "code",
   "execution_count": 18,
   "id": "968cb0da",
   "metadata": {},
   "outputs": [
    {
     "data": {
      "text/plain": [
       "'this short film that inspired the soon to be full length feature spatula madness is a hilarious piece that contends against similar cartoons yielding multiple writers the short film stars edward the spatula who after being fired from his job joins in the fight against the evil spoons this premise allows for some funny content near the beginning but is barely present for the remainder of the feature this film s minute running time is absorbed by some odd ball comedy and a small musical number unfortunately not much else lies below it the plot that is set up doesn t really have time to show but it s surely follows it plot better than many high budget hollywood films this film is worth watching at least a few times take it for what it is and don t expect a deep story '"
      ]
     },
     "execution_count": 18,
     "metadata": {},
     "output_type": "execute_result"
    }
   ],
   "source": [
    "df.iloc[100][0]"
   ]
  },
  {
   "cell_type": "markdown",
   "id": "b4d37c27",
   "metadata": {},
   "source": [
    "# Spelling correction "
   ]
  },
  {
   "cell_type": "code",
   "execution_count": 19,
   "id": "8c4ed93b",
   "metadata": {},
   "outputs": [
    {
     "data": {
      "text/plain": [
       "'okay last night august th i had the distinct displeasure of meeting mr van pebble at a showing of the film the mason family at the three penny in chicago as part of the chicago underground film festival here s what i have to say about it first of all the film is an obvious rip off of every kenneth anger roman pulaski oliver stone and merry william movie i ve ever seen second of all in a short q a session after the show mr van pebble immediately stated that he never made any contact with the actual mason family members or charlie himself calling them liar and saying he wanted nothing to do with them that the film was based on his van pebble s take on the trial having seen it all from his living room on to and in the news and i m assuming from the autobiography and the book helter skelter which were directly mimicked through the narrative so i had second dies on questions i asked if he was trying to present the outsider mt sex drugs and rock n roll version and not necessarily the true story this question obviously passed off the by now slashed director who started shouting f you shut the f up this is the truth all those other moves are balls well anyway i didn t even think about how ridiculous this was until the next day when i read the saline for the film you ve heard the laws side of the story now hear the story as it is told by the mason family excuse me if this guy has never even spoken to the family and considers them to be liar that he doesn t want to have anything to do with how in god s name can he tell the story for them this is the most ridiculous statement i have ever heard the film was obviously watered to the sex drugs and rock n roll audience that it had no trouble in attracting to the small dimly lit theatre and was even more obviously spanned by the sex drugs and rock n roll mind of a man who couldn t even watch his own film without getting up every ten minutes to go get more beer or to shout some sort of rocky horroresque call line to the actors on screen this film accomplished little more than warning the public s image of actual events which helped shape the state of america and much of the world today into some sort of slashed comic book porto rape fantasy dreamed up by an obviously shallow individual the film was definitely very impressive to look at the soundtrack was refreshing as it contained actual samples of charlie s work with the family off of his lie album the editing was nice and happy to simulate the caseating uncertainty of most modern music video all in all this film would have made a much better addition to the cataloguers at mt than to the underground film festival or for that matter the minds of any intellectual observers i felt like i was at a midnight rocky horror viewing the way the audience was dressed and behaving probably the best part of the experience the cast was very good with the exception of charlie who resembled some sort of stoned dungeon and dragoons enthusiast more than the actual role he was portraying the descriptions the film gave of him as full of energy throwing ten things at you and being very physical about it all the while did not match at all the slow lethargy and chubby representation that was actually presented all in all the film basically explains itself as said or maybe it was mind declares at the end you can write a bunch of balls books or make a bunch of balls moves etc etc case in point even the disclaimer based on a true story is a dead giveaway signaling that somewhere beneath this psychedelic garage heap lay the foundation of an actual story with content that will make and has made a difference in the world all you have to do is a little bit of archery to separate the truth from the the cap or actually maybe you could just avoid it all together and go read a book instead all i can say is this when the film ended i got a free beer so i m glad i went but not so glad i spent fifteen dollars on my ticket to be told to shut the f up for asking the director a question peace '"
      ]
     },
     "execution_count": 19,
     "metadata": {},
     "output_type": "execute_result"
    }
   ],
   "source": [
    "def spell_corrector(txt):\n",
    "    return TextBlob(txt).correct().string\n",
    "spell_corrector(df.iloc[101][0])"
   ]
  },
  {
   "cell_type": "markdown",
   "id": "7bd53646",
   "metadata": {},
   "source": [
    "# Remove Stop Words"
   ]
  },
  {
   "cell_type": "code",
   "execution_count": 20,
   "id": "455c2357",
   "metadata": {},
   "outputs": [],
   "source": [
    "def stopwords_(text):\n",
    "    new = []\n",
    "    stop = stopwords.words('english')\n",
    "    for i in text.split():\n",
    "        if i not in stop:\n",
    "            new.append(i)\n",
    "    return \" \".join(new)"
   ]
  },
  {
   "cell_type": "code",
   "execution_count": 21,
   "id": "bee5d94f",
   "metadata": {},
   "outputs": [],
   "source": [
    "df['review'] = df['review'].apply(lambda x: stopwords_(x))"
   ]
  },
  {
   "cell_type": "code",
   "execution_count": 22,
   "id": "87e78ebf",
   "metadata": {},
   "outputs": [
    {
     "data": {
      "text/plain": [
       "'awful film must real stinkers nominated golden globe taken story first famous female renaissance painter mangled beyond recognition complaint taken liberties facts story good would perfectly fine simply bizarre accounts true story artist would made far better film come dishwater dull script suppose enough naked people factual version hurriedly capped end summary artist life could saved couple hours favored rest film brevity'"
      ]
     },
     "execution_count": 22,
     "metadata": {},
     "output_type": "execute_result"
    }
   ],
   "source": [
    "df.iloc[19][0]"
   ]
  },
  {
   "cell_type": "markdown",
   "id": "d6bb45ca",
   "metadata": {},
   "source": [
    "# lemmatization"
   ]
  },
  {
   "cell_type": "code",
   "execution_count": 23,
   "id": "1c13b5bd",
   "metadata": {},
   "outputs": [
    {
     "data": {
      "text/plain": [
       "'return th chamber one classic kung fu movies shaw produce back whose genre equivalent spaghetti westerns hollywood protagonist gordon liu counterpart western clint eastwood digitally remastered new print make fantastic film fest present shaw scope like good old days film simple story good versus evil tell act less sum narrative martial arts film era act one set premise workers dye mill small village unhappy lot wag cut incoming manchu gangsters much exploitation none martial arts skilled take gangsters boss first minor success get liu impersonate highly skilled shaolin monk one best comedy sequence rouse get expose push limit credibility impersonate one many time act two show protagonist want get back mob however without real martial arts embark journey shaolin temple try infiltrate learn martial arts sly slapstick moments finally get accept abbot impersonate disappoint teach methods kinda like mr miyagi style karate kid instead paint fence get erect scaffold around temple nothing keep good man unwittingly build strength endurance learn kung fu unorthodox way act three fight fest begin cheesy sound effect obvious non contact film give maximum impact treatment rather refresh watch fight scenes wide angle shots highlight clarity detail spar partner use slow motion showcase stunt different angle may find speed fight tad slow pause move yuen wo ping style use ad nausem hollywood flick sure make fight scenes like use return th chamber get repeat screen monday game nostalgic trip memory lane wait'"
      ]
     },
     "execution_count": 23,
     "metadata": {},
     "output_type": "execute_result"
    }
   ],
   "source": [
    "def lemmatization(text):\n",
    "    wnl = WordNetLemmatizer()\n",
    "    return \" \".join([wnl.lemmatize(i,pos='v') for i in text.split()])\n",
    "lemmatization(df.iloc[50][0])"
   ]
  },
  {
   "cell_type": "code",
   "execution_count": 24,
   "id": "223e7b16",
   "metadata": {},
   "outputs": [],
   "source": [
    "df['review'] = df['review'].apply(lambda x: lemmatization(x))"
   ]
  },
  {
   "cell_type": "code",
   "execution_count": 25,
   "id": "2ba41e3c",
   "metadata": {},
   "outputs": [
    {
     "data": {
      "text/plain": [
       "'awful film must real stinkers nominate golden globe take story first famous female renaissance painter mangle beyond recognition complaint take liberties facts story good would perfectly fine simply bizarre account true story artist would make far better film come dishwater dull script suppose enough naked people factual version hurriedly cap end summary artist life could save couple hours favor rest film brevity'"
      ]
     },
     "execution_count": 25,
     "metadata": {},
     "output_type": "execute_result"
    }
   ],
   "source": [
    "df.iloc[19][0]"
   ]
  },
  {
   "cell_type": "markdown",
   "id": "bb569005",
   "metadata": {},
   "source": [
    "# Tokenization "
   ]
  },
  {
   "cell_type": "code",
   "execution_count": 26,
   "id": "504599ad",
   "metadata": {},
   "outputs": [
    {
     "data": {
      "text/plain": [
       "'one reviewers mention watch oz episode hook right exactly happen first thing strike oz brutality unflinching scenes violence set right word go trust show faint hearted timid show pull punch regard drug sex violence hardcore classic use word call oz nickname give oswald maximum security state penitentary focus mainly emerald city experimental section prison cells glass front face inwards privacy high agenda em city home many aryans muslims gangstas latinos christians italians irish scuffle death star dodgy deal shady agreements never far away would say main appeal show due fact go show dare forget pretty picture paint mainstream audiences forget charm forget romance oz mess around first episode ever saw strike nasty surreal say ready watch develop taste oz get accustom high level graphic violence violence injustice crook guard sell nickel inmates kill order get away well mannered middle class inmates turn prison bitch due lack street skills prison experience watch oz may become comfortable uncomfortable view thats get touch darker side'"
      ]
     },
     "execution_count": 26,
     "metadata": {},
     "output_type": "execute_result"
    }
   ],
   "source": [
    "df.iloc[0][0]"
   ]
  },
  {
   "cell_type": "code",
   "execution_count": 27,
   "id": "b71a8fa0",
   "metadata": {},
   "outputs": [
    {
     "data": {
      "text/plain": [
       "['one',\n",
       " 'reviewers',\n",
       " 'mention',\n",
       " 'watch',\n",
       " 'oz',\n",
       " 'episode',\n",
       " 'hook',\n",
       " 'right',\n",
       " 'exactly',\n",
       " 'happen']"
      ]
     },
     "execution_count": 27,
     "metadata": {},
     "output_type": "execute_result"
    }
   ],
   "source": [
    "def tokenization(text):\n",
    "    return word_tokenize(text)\n",
    "tokenization(df.iloc[0][0])[:10]"
   ]
  },
  {
   "cell_type": "code",
   "execution_count": 28,
   "id": "36f49d97",
   "metadata": {},
   "outputs": [],
   "source": [
    "# df['review'] = df['review'].apply(lambda x: tokenization(x))"
   ]
  },
  {
   "cell_type": "code",
   "execution_count": 29,
   "id": "2252883f",
   "metadata": {},
   "outputs": [
    {
     "data": {
      "text/html": [
       "<div>\n",
       "<style scoped>\n",
       "    .dataframe tbody tr th:only-of-type {\n",
       "        vertical-align: middle;\n",
       "    }\n",
       "\n",
       "    .dataframe tbody tr th {\n",
       "        vertical-align: top;\n",
       "    }\n",
       "\n",
       "    .dataframe thead th {\n",
       "        text-align: right;\n",
       "    }\n",
       "</style>\n",
       "<table border=\"1\" class=\"dataframe\">\n",
       "  <thead>\n",
       "    <tr style=\"text-align: right;\">\n",
       "      <th></th>\n",
       "      <th>review</th>\n",
       "      <th>sentiment</th>\n",
       "    </tr>\n",
       "  </thead>\n",
       "  <tbody>\n",
       "    <tr>\n",
       "      <th>0</th>\n",
       "      <td>one reviewers mention watch oz episode hook ri...</td>\n",
       "      <td>positive</td>\n",
       "    </tr>\n",
       "    <tr>\n",
       "      <th>1</th>\n",
       "      <td>wonderful little production film technique una...</td>\n",
       "      <td>positive</td>\n",
       "    </tr>\n",
       "    <tr>\n",
       "      <th>2</th>\n",
       "      <td>think wonderful way spend time hot summer week...</td>\n",
       "      <td>positive</td>\n",
       "    </tr>\n",
       "    <tr>\n",
       "      <th>3</th>\n",
       "      <td>basically family little boy jake think zombie ...</td>\n",
       "      <td>negative</td>\n",
       "    </tr>\n",
       "    <tr>\n",
       "      <th>4</th>\n",
       "      <td>petter mattei love time money visually stun fi...</td>\n",
       "      <td>positive</td>\n",
       "    </tr>\n",
       "  </tbody>\n",
       "</table>\n",
       "</div>"
      ],
      "text/plain": [
       "                                              review sentiment\n",
       "0  one reviewers mention watch oz episode hook ri...  positive\n",
       "1  wonderful little production film technique una...  positive\n",
       "2  think wonderful way spend time hot summer week...  positive\n",
       "3  basically family little boy jake think zombie ...  negative\n",
       "4  petter mattei love time money visually stun fi...  positive"
      ]
     },
     "execution_count": 29,
     "metadata": {},
     "output_type": "execute_result"
    }
   ],
   "source": [
    "df.head()"
   ]
  },
  {
   "cell_type": "markdown",
   "id": "c85daf58",
   "metadata": {},
   "source": [
    "# Label Encoding on target data"
   ]
  },
  {
   "cell_type": "code",
   "execution_count": 30,
   "id": "bba2c985",
   "metadata": {},
   "outputs": [],
   "source": [
    "X = df['review']\n",
    "y = df['sentiment']"
   ]
  },
  {
   "cell_type": "code",
   "execution_count": 31,
   "id": "f1cb2059",
   "metadata": {},
   "outputs": [
    {
     "data": {
      "text/plain": [
       "array(['positive', 'negative'], dtype=object)"
      ]
     },
     "execution_count": 31,
     "metadata": {},
     "output_type": "execute_result"
    }
   ],
   "source": [
    "df['sentiment'].unique()"
   ]
  },
  {
   "cell_type": "code",
   "execution_count": 32,
   "id": "501f6405",
   "metadata": {},
   "outputs": [],
   "source": [
    "encoder = LabelEncoder()\n",
    "y = encoder.fit_transform(y)"
   ]
  },
  {
   "cell_type": "code",
   "execution_count": 33,
   "id": "418a020b",
   "metadata": {},
   "outputs": [
    {
     "data": {
      "text/plain": [
       "array(['negative', 'positive'], dtype=object)"
      ]
     },
     "execution_count": 33,
     "metadata": {},
     "output_type": "execute_result"
    }
   ],
   "source": [
    "encoder.classes_"
   ]
  },
  {
   "cell_type": "code",
   "execution_count": 34,
   "id": "b8e66dca",
   "metadata": {},
   "outputs": [
    {
     "data": {
      "text/plain": [
       "{}"
      ]
     },
     "execution_count": 34,
     "metadata": {},
     "output_type": "execute_result"
    }
   ],
   "source": [
    "encoder.get_params()"
   ]
  },
  {
   "cell_type": "code",
   "execution_count": 35,
   "id": "9c9cd270",
   "metadata": {},
   "outputs": [
    {
     "data": {
      "text/plain": [
       "array([1, 0])"
      ]
     },
     "execution_count": 35,
     "metadata": {},
     "output_type": "execute_result"
    }
   ],
   "source": [
    "encoder.transform(['positive','negative'])"
   ]
  },
  {
   "cell_type": "markdown",
   "id": "b2646b21",
   "metadata": {},
   "source": [
    "# Train Test Split"
   ]
  },
  {
   "cell_type": "code",
   "execution_count": 36,
   "id": "d7985779",
   "metadata": {},
   "outputs": [],
   "source": [
    "X_train, X_test, y_train, y_test = train_test_split(X, y, test_size=0.30, random_state=101)"
   ]
  },
  {
   "cell_type": "markdown",
   "id": "93978edf",
   "metadata": {},
   "source": [
    "# Bag of Words "
   ]
  },
  {
   "cell_type": "code",
   "execution_count": 37,
   "id": "272cc393",
   "metadata": {},
   "outputs": [],
   "source": [
    "cv = CountVectorizer(max_features=3000)\n",
    "X_train_bow = cv.fit_transform(X_train)\n",
    "X_test_bow = cv.transform(X_test)"
   ]
  },
  {
   "cell_type": "code",
   "execution_count": 38,
   "id": "6a32db7c",
   "metadata": {},
   "outputs": [
    {
     "data": {
      "text/plain": [
       "3000"
      ]
     },
     "execution_count": 38,
     "metadata": {},
     "output_type": "execute_result"
    }
   ],
   "source": [
    "cv.vocabulary_.__len__()"
   ]
  },
  {
   "cell_type": "code",
   "execution_count": 39,
   "id": "e5397e17",
   "metadata": {},
   "outputs": [
    {
     "data": {
      "text/plain": [
       "(6988, 3000)"
      ]
     },
     "execution_count": 39,
     "metadata": {},
     "output_type": "execute_result"
    }
   ],
   "source": [
    "X_train_bow.shape"
   ]
  },
  {
   "cell_type": "code",
   "execution_count": 40,
   "id": "68b0d546",
   "metadata": {},
   "outputs": [],
   "source": [
    "def pipeline(model,X_train, X_test, y_train, y_test):\n",
    "    \n",
    "    model.fit(X_train.toarray(),y_train)\n",
    "    y_pred = model.predict(X_test.toarray())\n",
    "    \n",
    "    print(confusion_matrix(y_test,y_pred))\n",
    "    print(classification_report(y_test,y_pred))\n",
    "    "
   ]
  },
  {
   "cell_type": "code",
   "execution_count": 41,
   "id": "8769478b",
   "metadata": {},
   "outputs": [
    {
     "name": "stdout",
     "output_type": "stream",
     "text": [
      "[[1269  246]\n",
      " [ 216 1264]]\n",
      "              precision    recall  f1-score   support\n",
      "\n",
      "           0       0.85      0.84      0.85      1515\n",
      "           1       0.84      0.85      0.85      1480\n",
      "\n",
      "    accuracy                           0.85      2995\n",
      "   macro avg       0.85      0.85      0.85      2995\n",
      "weighted avg       0.85      0.85      0.85      2995\n",
      "\n"
     ]
    }
   ],
   "source": [
    "pipeline(RandomForestClassifier(), X_train_bow, X_test_bow, y_train, y_test)"
   ]
  },
  {
   "cell_type": "code",
   "execution_count": 42,
   "id": "428a7e7f",
   "metadata": {},
   "outputs": [
    {
     "name": "stdout",
     "output_type": "stream",
     "text": [
      "[[1275  240]\n",
      " [ 512  968]]\n",
      "              precision    recall  f1-score   support\n",
      "\n",
      "           0       0.71      0.84      0.77      1515\n",
      "           1       0.80      0.65      0.72      1480\n",
      "\n",
      "    accuracy                           0.75      2995\n",
      "   macro avg       0.76      0.75      0.75      2995\n",
      "weighted avg       0.76      0.75      0.75      2995\n",
      "\n"
     ]
    }
   ],
   "source": [
    "pipeline(GaussianNB(), X_train_bow, X_test_bow, y_train, y_test)"
   ]
  },
  {
   "cell_type": "markdown",
   "id": "5de88063",
   "metadata": {},
   "source": [
    "# TF-IDF "
   ]
  },
  {
   "cell_type": "code",
   "execution_count": 43,
   "id": "ddb767a3",
   "metadata": {},
   "outputs": [],
   "source": [
    "tf = TfidfVectorizer(max_features=3000)\n",
    "X_train_tf = tf.fit_transform(X_train)\n",
    "X_test_tf = tf.transform(X_test)"
   ]
  },
  {
   "cell_type": "code",
   "execution_count": 44,
   "id": "5b0b09c0",
   "metadata": {},
   "outputs": [
    {
     "data": {
      "text/plain": [
       "0.35678870613651004"
      ]
     },
     "execution_count": 44,
     "metadata": {},
     "output_type": "execute_result"
    }
   ],
   "source": [
    "X_train_tf.toarray()[0].max()"
   ]
  },
  {
   "cell_type": "code",
   "execution_count": 132,
   "id": "c3c4c8dc",
   "metadata": {},
   "outputs": [],
   "source": [
    "# while dealing with sparse matrix we have use toarray() function\n",
    "def pipeline(model,X_train, X_test, y_train, y_test):\n",
    "    \n",
    "    model.fit(X_train,y_train)\n",
    "    y_pred = model.predict(X_test)\n",
    "    \n",
    "    print(confusion_matrix(y_test,y_pred))\n",
    "    print(classification_report(y_test,y_pred))"
   ]
  },
  {
   "cell_type": "code",
   "execution_count": 46,
   "id": "2797a65f",
   "metadata": {},
   "outputs": [
    {
     "name": "stdout",
     "output_type": "stream",
     "text": [
      "[[1280  235]\n",
      " [ 226 1254]]\n",
      "              precision    recall  f1-score   support\n",
      "\n",
      "           0       0.85      0.84      0.85      1515\n",
      "           1       0.84      0.85      0.84      1480\n",
      "\n",
      "    accuracy                           0.85      2995\n",
      "   macro avg       0.85      0.85      0.85      2995\n",
      "weighted avg       0.85      0.85      0.85      2995\n",
      "\n"
     ]
    }
   ],
   "source": [
    "pipeline(RandomForestClassifier(), X_train_bow, X_test_bow, y_train, y_test)"
   ]
  },
  {
   "cell_type": "code",
   "execution_count": 47,
   "id": "5e810b32",
   "metadata": {},
   "outputs": [
    {
     "name": "stdout",
     "output_type": "stream",
     "text": [
      "[[1275  240]\n",
      " [ 512  968]]\n",
      "              precision    recall  f1-score   support\n",
      "\n",
      "           0       0.71      0.84      0.77      1515\n",
      "           1       0.80      0.65      0.72      1480\n",
      "\n",
      "    accuracy                           0.75      2995\n",
      "   macro avg       0.76      0.75      0.75      2995\n",
      "weighted avg       0.76      0.75      0.75      2995\n",
      "\n"
     ]
    }
   ],
   "source": [
    "pipeline(GaussianNB(), X_train_bow, X_test_bow, y_train, y_test)"
   ]
  },
  {
   "cell_type": "markdown",
   "id": "8b86b51f",
   "metadata": {},
   "source": [
    "# Word 2 Vec "
   ]
  },
  {
   "cell_type": "code",
   "execution_count": 80,
   "id": "640afa2c",
   "metadata": {},
   "outputs": [],
   "source": [
    "import gensim"
   ]
  },
  {
   "cell_type": "code",
   "execution_count": 81,
   "id": "15f12cb7",
   "metadata": {},
   "outputs": [],
   "source": [
    "model = gensim.models.Word2Vec(window=10,epochs=10)"
   ]
  },
  {
   "cell_type": "code",
   "execution_count": 82,
   "id": "b6d1b2db",
   "metadata": {},
   "outputs": [],
   "source": [
    "story = []\n",
    "for sentence in X_train:\n",
    "        story.append(sentence.split())"
   ]
  },
  {
   "cell_type": "code",
   "execution_count": 83,
   "id": "7f08c0ce",
   "metadata": {},
   "outputs": [
    {
     "data": {
      "text/plain": [
       "6988"
      ]
     },
     "execution_count": 83,
     "metadata": {},
     "output_type": "execute_result"
    }
   ],
   "source": [
    "story.__len__()"
   ]
  },
  {
   "cell_type": "code",
   "execution_count": 84,
   "id": "eb1358ba",
   "metadata": {},
   "outputs": [],
   "source": [
    "model.build_vocab(story)"
   ]
  },
  {
   "cell_type": "code",
   "execution_count": 85,
   "id": "ddc720f6",
   "metadata": {},
   "outputs": [
    {
     "data": {
      "text/plain": [
       "6988"
      ]
     },
     "execution_count": 85,
     "metadata": {},
     "output_type": "execute_result"
    }
   ],
   "source": [
    "model.corpus_count"
   ]
  },
  {
   "cell_type": "code",
   "execution_count": 86,
   "id": "56c1d10d",
   "metadata": {},
   "outputs": [
    {
     "data": {
      "text/plain": [
       "10"
      ]
     },
     "execution_count": 86,
     "metadata": {},
     "output_type": "execute_result"
    }
   ],
   "source": [
    "model.epochs"
   ]
  },
  {
   "cell_type": "code",
   "execution_count": 87,
   "id": "9d25476d",
   "metadata": {},
   "outputs": [
    {
     "data": {
      "text/plain": [
       "(7357983, 8308490)"
      ]
     },
     "execution_count": 87,
     "metadata": {},
     "output_type": "execute_result"
    }
   ],
   "source": [
    "model.train(story,total_examples=model.corpus_count,epochs=model.epochs)"
   ]
  },
  {
   "cell_type": "code",
   "execution_count": 90,
   "id": "426b466a",
   "metadata": {},
   "outputs": [
    {
     "data": {
      "text/plain": [
       "array([-0.08155759, -0.02646113, -0.0181236 , -0.00223195,  0.06550793,\n",
       "       -0.15586951,  0.11917827,  0.1428683 , -0.08202509, -0.00083696,\n",
       "       -0.35730204, -0.33576408, -0.1606239 ,  0.08100852,  0.04568855,\n",
       "       -0.28629366,  0.09958687, -0.23420781, -0.06196318, -0.23893188,\n",
       "        0.08454518,  0.03959716,  0.06367743, -0.2022018 ,  0.18958445,\n",
       "        0.16027468, -0.13467705, -0.22844289, -0.17985374, -0.09119876,\n",
       "        0.16089247,  0.2345047 , -0.04691614, -0.01211203,  0.0347589 ,\n",
       "        0.04246079, -0.2678431 , -0.14975177, -0.03471247, -0.28542876,\n",
       "       -0.14047621, -0.23658264,  0.07626662,  0.0383556 , -0.03849578,\n",
       "       -0.1697866 , -0.0962144 , -0.06441932,  0.04341586,  0.12608145,\n",
       "        0.02437113, -0.2670398 , -0.22649124,  0.06036743, -0.23656262,\n",
       "        0.11191633, -0.04728888,  0.00217309, -0.30380473, -0.14563763,\n",
       "       -0.04894198,  0.08000051, -0.04986767, -0.0466726 , -0.2982072 ,\n",
       "        0.13572128, -0.08180316,  0.02510879, -0.1125625 ,  0.06821905,\n",
       "       -0.21815434,  0.19565304,  0.17365989, -0.15209688,  0.05644669,\n",
       "       -0.07943039,  0.22784498, -0.14100327, -0.27363858,  0.23907988,\n",
       "        0.01694662,  0.00945277, -0.09459793,  0.15102565,  0.08248306,\n",
       "       -0.00163935, -0.03243595,  0.2878974 ,  0.13994542, -0.19091024,\n",
       "        0.15581003, -0.03307324, -0.01739707,  0.1757711 ,  0.11771975,\n",
       "        0.20378739,  0.18191178, -0.14883661,  0.21901946,  0.0633942 ],\n",
       "      dtype=float32)"
      ]
     },
     "execution_count": 90,
     "metadata": {},
     "output_type": "execute_result"
    }
   ],
   "source": [
    "model.wv['hello']"
   ]
  },
  {
   "cell_type": "code",
   "execution_count": 92,
   "id": "d23b7c21",
   "metadata": {},
   "outputs": [
    {
     "data": {
      "text/plain": [
       "{'film': 0,\n",
       " 'movie': 1,\n",
       " 'one': 2,\n",
       " 'make': 3,\n",
       " 'like': 4,\n",
       " 'see': 5,\n",
       " 'get': 6,\n",
       " 'time': 7,\n",
       " 'good': 8,\n",
       " 'character': 9,\n",
       " 'go': 10,\n",
       " 'watch': 11,\n",
       " 'would': 12,\n",
       " 'even': 13,\n",
       " 'think': 14,\n",
       " 'story': 15,\n",
       " 'well': 16,\n",
       " 'show': 17,\n",
       " 'really': 18,\n",
       " 'look': 19,\n",
       " 'say': 20,\n",
       " 'know': 21,\n",
       " 'much': 22,\n",
       " 'bad': 23,\n",
       " 'end': 24,\n",
       " 'great': 25,\n",
       " 'people': 26,\n",
       " 'first': 27,\n",
       " 'come': 28,\n",
       " 'play': 29,\n",
       " 'take': 30,\n",
       " 'give': 31,\n",
       " 'also': 32,\n",
       " 'love': 33,\n",
       " 'act': 34,\n",
       " 'way': 35,\n",
       " 'movies': 36,\n",
       " 'find': 37,\n",
       " 'could': 38,\n",
       " 'work': 39,\n",
       " 'seem': 40,\n",
       " 'little': 41,\n",
       " 'never': 42,\n",
       " 'plot': 43,\n",
       " 'many': 44,\n",
       " 'best': 45,\n",
       " 'two': 46,\n",
       " 'want': 47,\n",
       " 'life': 48,\n",
       " 'try': 49,\n",
       " 'better': 50,\n",
       " 'ever': 51,\n",
       " 'still': 52,\n",
       " 'man': 53,\n",
       " 'scene': 54,\n",
       " 'scenes': 55,\n",
       " 'feel': 56,\n",
       " 'something': 57,\n",
       " 'lot': 58,\n",
       " 'use': 59,\n",
       " 'part': 60,\n",
       " 'back': 61,\n",
       " 'real': 62,\n",
       " 'interest': 63,\n",
       " 'guy': 64,\n",
       " 'director': 65,\n",
       " 'actors': 66,\n",
       " 'star': 67,\n",
       " 'years': 68,\n",
       " 'tell': 69,\n",
       " 'thing': 70,\n",
       " 'actually': 71,\n",
       " 'leave': 72,\n",
       " 'though': 73,\n",
       " 'funny': 74,\n",
       " 'old': 75,\n",
       " 'nothing': 76,\n",
       " 'set': 77,\n",
       " 'cast': 78,\n",
       " 'live': 79,\n",
       " 'another': 80,\n",
       " 'new': 81,\n",
       " 'write': 82,\n",
       " 'every': 83,\n",
       " 'point': 84,\n",
       " 'start': 85,\n",
       " 'pretty': 86,\n",
       " 'turn': 87,\n",
       " 'kill': 88,\n",
       " 'us': 89,\n",
       " 'world': 90,\n",
       " 'things': 91,\n",
       " 'become': 92,\n",
       " 'around': 93,\n",
       " 'big': 94,\n",
       " 'quite': 95,\n",
       " 'horror': 96,\n",
       " 'long': 97,\n",
       " 'action': 98,\n",
       " 'enough': 99,\n",
       " 'right': 100,\n",
       " 'script': 101,\n",
       " 'happen': 102,\n",
       " 'young': 103,\n",
       " 'fan': 104,\n",
       " 'line': 105,\n",
       " 'need': 106,\n",
       " 'may': 107,\n",
       " 'must': 108,\n",
       " 'however': 109,\n",
       " 'original': 110,\n",
       " 'shoot': 111,\n",
       " 'bite': 112,\n",
       " 'keep': 113,\n",
       " 'without': 114,\n",
       " 'fact': 115,\n",
       " 'mean': 116,\n",
       " 'music': 117,\n",
       " 'do': 118,\n",
       " 'always': 119,\n",
       " 'put': 120,\n",
       " 'series': 121,\n",
       " 'saw': 122,\n",
       " 'anything': 123,\n",
       " 'begin': 124,\n",
       " 'almost': 125,\n",
       " 'laugh': 126,\n",
       " 'comedy': 127,\n",
       " 'enjoy': 128,\n",
       " 'least': 129,\n",
       " 'role': 130,\n",
       " 'might': 131,\n",
       " 'last': 132,\n",
       " 'since': 133,\n",
       " 'whole': 134,\n",
       " 'lead': 135,\n",
       " 'place': 136,\n",
       " 'performance': 137,\n",
       " 'minutes': 138,\n",
       " 'call': 139,\n",
       " 'family': 140,\n",
       " 'believe': 141,\n",
       " 'kid': 142,\n",
       " 'effect': 143,\n",
       " 'name': 144,\n",
       " 'far': 145,\n",
       " 'woman': 146,\n",
       " 'run': 147,\n",
       " 'reason': 148,\n",
       " 'screen': 149,\n",
       " 'rather': 150,\n",
       " 'let': 151,\n",
       " 'girl': 152,\n",
       " 'book': 153,\n",
       " 'yet': 154,\n",
       " 'away': 155,\n",
       " 'probably': 156,\n",
       " 'tv': 157,\n",
       " 'anyone': 158,\n",
       " 'sure': 159,\n",
       " 'help': 160,\n",
       " 'expect': 161,\n",
       " 'war': 162,\n",
       " 'kind': 163,\n",
       " 'day': 164,\n",
       " 'hard': 165,\n",
       " 'fun': 166,\n",
       " 'dvd': 167,\n",
       " 'worst': 168,\n",
       " 'course': 169,\n",
       " 'bore': 170,\n",
       " 'bring': 171,\n",
       " 'especially': 172,\n",
       " 'american': 173,\n",
       " 'job': 174,\n",
       " 'sound': 175,\n",
       " 'mind': 176,\n",
       " 'sense': 177,\n",
       " 'move': 178,\n",
       " 'read': 179,\n",
       " 'although': 180,\n",
       " 'actor': 181,\n",
       " 'everything': 182,\n",
       " 'game': 183,\n",
       " 'direct': 184,\n",
       " 'three': 185,\n",
       " 'someone': 186,\n",
       " 'recommend': 187,\n",
       " 'main': 188,\n",
       " 'audience': 189,\n",
       " 'face': 190,\n",
       " 'true': 191,\n",
       " 'different': 192,\n",
       " 'worth': 193,\n",
       " 'year': 194,\n",
       " 'maybe': 195,\n",
       " 'idea': 196,\n",
       " 'second': 197,\n",
       " 'together': 198,\n",
       " 'beautiful': 199,\n",
       " 'house': 200,\n",
       " 'miss': 201,\n",
       " 'everyone': 202,\n",
       " 'budget': 203,\n",
       " 'money': 204,\n",
       " 'special': 205,\n",
       " 'high': 206,\n",
       " 'understand': 207,\n",
       " 'open': 208,\n",
       " 'lose': 209,\n",
       " 'head': 210,\n",
       " 'instead': 211,\n",
       " 'half': 212,\n",
       " 'view': 213,\n",
       " 'word': 214,\n",
       " 'night': 215,\n",
       " 'surprise': 216,\n",
       " 'eye': 217,\n",
       " 'follow': 218,\n",
       " 'excellent': 219,\n",
       " 'along': 220,\n",
       " 'waste': 221,\n",
       " 'piece': 222,\n",
       " 'include': 223,\n",
       " 'fight': 224,\n",
       " 'fall': 225,\n",
       " 'change': 226,\n",
       " 'die': 227,\n",
       " 'john': 228,\n",
       " 'couple': 229,\n",
       " 'death': 230,\n",
       " 'talk': 231,\n",
       " 'remember': 232,\n",
       " 'poor': 233,\n",
       " 'lack': 234,\n",
       " 'hear': 235,\n",
       " 'attempt': 236,\n",
       " 'else': 237,\n",
       " 'later': 238,\n",
       " 'completely': 239,\n",
       " 'version': 240,\n",
       " 'home': 241,\n",
       " 'simply': 242,\n",
       " 'black': 243,\n",
       " 'short': 244,\n",
       " 'meet': 245,\n",
       " 'dead': 246,\n",
       " 'hollywood': 247,\n",
       " 'care': 248,\n",
       " 'hand': 249,\n",
       " 'men': 250,\n",
       " 'wife': 251,\n",
       " 'feature': 252,\n",
       " 'involve': 253,\n",
       " 'camera': 254,\n",
       " 'performances': 255,\n",
       " 'less': 256,\n",
       " 'father': 257,\n",
       " 'low': 258,\n",
       " 'entertain': 259,\n",
       " 'top': 260,\n",
       " 'picture': 261,\n",
       " 'nice': 262,\n",
       " 'stupid': 263,\n",
       " 'appear': 264,\n",
       " 'rat': 265,\n",
       " 'add': 266,\n",
       " 'release': 267,\n",
       " 'murder': 268,\n",
       " 'style': 269,\n",
       " 'video': 270,\n",
       " 'decide': 271,\n",
       " 'suppose': 272,\n",
       " 'base': 273,\n",
       " 'title': 274,\n",
       " 'production': 275,\n",
       " 'rest': 276,\n",
       " 'person': 277,\n",
       " 'full': 278,\n",
       " 'classic': 279,\n",
       " 'women': 280,\n",
       " 'wonderful': 281,\n",
       " 'mother': 282,\n",
       " 'small': 283,\n",
       " 'awful': 284,\n",
       " 'human': 285,\n",
       " 'terrible': 286,\n",
       " 'school': 287,\n",
       " 'wrong': 288,\n",
       " 'either': 289,\n",
       " 'next': 290,\n",
       " 'friends': 291,\n",
       " 'save': 292,\n",
       " 'perfect': 293,\n",
       " 'close': 294,\n",
       " 'experience': 295,\n",
       " 'stop': 296,\n",
       " 'joke': 297,\n",
       " 'age': 298,\n",
       " 'often': 299,\n",
       " 'finally': 300,\n",
       " 'absolutely': 301,\n",
       " 'dance': 302,\n",
       " 'case': 303,\n",
       " 'children': 304,\n",
       " 'truly': 305,\n",
       " 'sort': 306,\n",
       " 'wonder': 307,\n",
       " 'review': 308,\n",
       " 'definitely': 309,\n",
       " 'sit': 310,\n",
       " 'flick': 311,\n",
       " 'sequence': 312,\n",
       " 'cut': 313,\n",
       " 'learn': 314,\n",
       " 'episode': 315,\n",
       " 'dialogue': 316,\n",
       " 'matter': 317,\n",
       " 'light': 318,\n",
       " 'sex': 319,\n",
       " 'perhaps': 320,\n",
       " 'ask': 321,\n",
       " 'disappoint': 322,\n",
       " 'cinema': 323,\n",
       " 'create': 324,\n",
       " 'guess': 325,\n",
       " 'comment': 326,\n",
       " 'consider': 327,\n",
       " 'worse': 328,\n",
       " 'others': 329,\n",
       " 'friend': 330,\n",
       " 'moments': 331,\n",
       " 'fail': 332,\n",
       " 'buy': 333,\n",
       " 'mention': 334,\n",
       " 'direction': 335,\n",
       " 'felt': 336,\n",
       " 'deal': 337,\n",
       " 'type': 338,\n",
       " 'early': 339,\n",
       " 'evil': 340,\n",
       " 'killer': 341,\n",
       " 'force': 342,\n",
       " 'entire': 343,\n",
       " 'certainly': 344,\n",
       " 'break': 345,\n",
       " 'voice': 346,\n",
       " 'mr': 347,\n",
       " 'yes': 348,\n",
       " 'side': 349,\n",
       " 'problem': 350,\n",
       " 'wait': 351,\n",
       " 'able': 352,\n",
       " 'stand': 353,\n",
       " 'god': 354,\n",
       " 'drama': 355,\n",
       " 'oh': 356,\n",
       " 'several': 357,\n",
       " 'amaze': 358,\n",
       " 'fine': 359,\n",
       " 'throughout': 360,\n",
       " 'stuff': 361,\n",
       " 'boy': 362,\n",
       " 'rent': 363,\n",
       " 'totally': 364,\n",
       " 'dark': 365,\n",
       " 'town': 366,\n",
       " 'days': 367,\n",
       " 'overall': 368,\n",
       " 'white': 369,\n",
       " 'spend': 370,\n",
       " 'number': 371,\n",
       " 'hit': 372,\n",
       " 'throw': 373,\n",
       " 'despite': 374,\n",
       " 'hold': 375,\n",
       " 'humor': 376,\n",
       " 'example': 377,\n",
       " 'b': 378,\n",
       " 'car': 379,\n",
       " 'hope': 380,\n",
       " 'final': 381,\n",
       " 'forget': 382,\n",
       " 'history': 383,\n",
       " 'power': 384,\n",
       " 'today': 385,\n",
       " 'drive': 386,\n",
       " 'touch': 387,\n",
       " 'support': 388,\n",
       " 'viewer': 389,\n",
       " 'already': 390,\n",
       " 'realize': 391,\n",
       " 'past': 392,\n",
       " 'hour': 393,\n",
       " 'catch': 394,\n",
       " 'heart': 395,\n",
       " 'horrible': 396,\n",
       " 'manage': 397,\n",
       " 'portray': 398,\n",
       " 'score': 399,\n",
       " 'chance': 400,\n",
       " 'late': 401,\n",
       " 'stay': 402,\n",
       " 'unfortunately': 403,\n",
       " 'question': 404,\n",
       " 'credit': 405,\n",
       " 'favorite': 406,\n",
       " 'michael': 407,\n",
       " 'twist': 408,\n",
       " 'quality': 409,\n",
       " 'behind': 410,\n",
       " 'present': 411,\n",
       " 'brilliant': 412,\n",
       " 'pay': 413,\n",
       " 'annoy': 414,\n",
       " 'art': 415,\n",
       " 'group': 416,\n",
       " 'son': 417,\n",
       " 'police': 418,\n",
       " 'speak': 419,\n",
       " 'deserve': 420,\n",
       " 'genre': 421,\n",
       " 'pace': 422,\n",
       " 'soon': 423,\n",
       " 'walk': 424,\n",
       " 'girls': 425,\n",
       " 'slow': 426,\n",
       " 'theme': 427,\n",
       " 'edit': 428,\n",
       " 'figure': 429,\n",
       " 'actress': 430,\n",
       " 'child': 431,\n",
       " 'except': 432,\n",
       " 'city': 433,\n",
       " 'return': 434,\n",
       " 'extremely': 435,\n",
       " 'body': 436,\n",
       " 'self': 437,\n",
       " 'order': 438,\n",
       " 'daughter': 439,\n",
       " 'obviously': 440,\n",
       " 'jam': 441,\n",
       " 'highly': 442,\n",
       " 'etc': 443,\n",
       " 'value': 444,\n",
       " 'complete': 445,\n",
       " 'gore': 446,\n",
       " 'please': 447,\n",
       " 'moment': 448,\n",
       " 'rock': 449,\n",
       " 'decent': 450,\n",
       " 'reality': 451,\n",
       " 'deliver': 452,\n",
       " 'level': 453,\n",
       " 'offer': 454,\n",
       " 'violence': 455,\n",
       " 'david': 456,\n",
       " 'husband': 457,\n",
       " 'roles': 458,\n",
       " 'build': 459,\n",
       " 'simple': 460,\n",
       " 'english': 461,\n",
       " 'prove': 462,\n",
       " 'allow': 463,\n",
       " 'pick': 464,\n",
       " 'sometimes': 465,\n",
       " 'sing': 466,\n",
       " 'dream': 467,\n",
       " 'hell': 468,\n",
       " 'wish': 469,\n",
       " 'provide': 470,\n",
       " 'explain': 471,\n",
       " 'robert': 472,\n",
       " 'form': 473,\n",
       " 'anyway': 474,\n",
       " 'none': 475,\n",
       " 'draw': 476,\n",
       " 'cool': 477,\n",
       " 'writer': 478,\n",
       " 'possible': 479,\n",
       " 'career': 480,\n",
       " 'shock': 481,\n",
       " 'brother': 482,\n",
       " 'pull': 483,\n",
       " 'across': 484,\n",
       " 'hilarious': 485,\n",
       " 'obvious': 486,\n",
       " 'cannot': 487,\n",
       " 'ago': 488,\n",
       " 'grow': 489,\n",
       " 'blood': 490,\n",
       " 'stick': 491,\n",
       " 'huge': 492,\n",
       " 'song': 493,\n",
       " 'stories': 494,\n",
       " 'ridiculous': 495,\n",
       " 'television': 496,\n",
       " 'plan': 497,\n",
       " 'compare': 498,\n",
       " 'check': 499,\n",
       " 'serious': 500,\n",
       " 'hours': 501,\n",
       " 'room': 502,\n",
       " 'seriously': 503,\n",
       " 'particularly': 504,\n",
       " 'exactly': 505,\n",
       " 'cheap': 506,\n",
       " 'drug': 507,\n",
       " 'relationship': 508,\n",
       " 'message': 509,\n",
       " 'important': 510,\n",
       " 'strong': 511,\n",
       " 'documentary': 512,\n",
       " 'beyond': 513,\n",
       " 'scary': 514,\n",
       " 'non': 515,\n",
       " 'produce': 516,\n",
       " 'cause': 517,\n",
       " 'result': 518,\n",
       " 'novel': 519,\n",
       " 'focus': 520,\n",
       " 'train': 521,\n",
       " 'dog': 522,\n",
       " 'fit': 523,\n",
       " 'parent': 524,\n",
       " 'detail': 525,\n",
       " 'hero': 526,\n",
       " 'alone': 527,\n",
       " 'opinion': 528,\n",
       " 'usual': 529,\n",
       " 'gun': 530,\n",
       " 'cop': 531,\n",
       " 'crap': 532,\n",
       " 'fill': 533,\n",
       " 'upon': 534,\n",
       " 'ones': 535,\n",
       " 'class': 536,\n",
       " 'team': 537,\n",
       " 'shots': 538,\n",
       " 'suck': 539,\n",
       " 'single': 540,\n",
       " 'problems': 541,\n",
       " 'cinematography': 542,\n",
       " 'due': 543,\n",
       " 'subject': 544,\n",
       " 'avoid': 545,\n",
       " 'usually': 546,\n",
       " 'modern': 547,\n",
       " 'whose': 548,\n",
       " 'comic': 549,\n",
       " 'mostly': 550,\n",
       " 'basically': 551,\n",
       " 'steal': 552,\n",
       " 'remain': 553,\n",
       " 'ok': 554,\n",
       " 'note': 555,\n",
       " 'state': 556,\n",
       " 'talent': 557,\n",
       " 'songs': 558,\n",
       " 'sad': 559,\n",
       " 'attention': 560,\n",
       " 'female': 561,\n",
       " 'escape': 562,\n",
       " 'charm': 563,\n",
       " 'box': 564,\n",
       " 'air': 565,\n",
       " 'image': 566,\n",
       " 'happy': 567,\n",
       " 'convince': 568,\n",
       " 'clearly': 569,\n",
       " 'carry': 570,\n",
       " 'imagine': 571,\n",
       " 'middle': 572,\n",
       " 'local': 573,\n",
       " 'soundtrack': 574,\n",
       " 'hop': 575,\n",
       " 'enjoyable': 576,\n",
       " 'major': 577,\n",
       " 'somewhat': 578,\n",
       " 'french': 579,\n",
       " 'thriller': 580,\n",
       " 'pass': 581,\n",
       " 'british': 582,\n",
       " 'country': 583,\n",
       " 'four': 584,\n",
       " 'apparently': 585,\n",
       " 'remind': 586,\n",
       " 'doctor': 587,\n",
       " 'episodes': 588,\n",
       " 'romantic': 589,\n",
       " 'space': 590,\n",
       " 'bunch': 591,\n",
       " 'hate': 592,\n",
       " 'silly': 593,\n",
       " 'cover': 594,\n",
       " 'doubt': 595,\n",
       " 'storyline': 596,\n",
       " 'win': 597,\n",
       " 'easy': 598,\n",
       " 'whether': 599,\n",
       " 'thank': 600,\n",
       " 'musical': 601,\n",
       " 'fire': 602,\n",
       " 'dull': 603,\n",
       " 'events': 604,\n",
       " 'monster': 605,\n",
       " 'clear': 606,\n",
       " 'ten': 607,\n",
       " 'entertainment': 608,\n",
       " 'water': 609,\n",
       " 'greatest': 610,\n",
       " 'king': 611,\n",
       " 'alien': 612,\n",
       " 'sister': 613,\n",
       " 'confuse': 614,\n",
       " 'continue': 615,\n",
       " 'marry': 616,\n",
       " 'straight': 617,\n",
       " 'strange': 618,\n",
       " 'develop': 619,\n",
       " 'effort': 620,\n",
       " 'season': 621,\n",
       " 'actual': 622,\n",
       " 'choose': 623,\n",
       " 'send': 624,\n",
       " 'date': 625,\n",
       " 'suspense': 626,\n",
       " 'jack': 627,\n",
       " 'mark': 628,\n",
       " 'capture': 629,\n",
       " 'wear': 630,\n",
       " 'crew': 631,\n",
       " 'battle': 632,\n",
       " 'near': 633,\n",
       " 'easily': 634,\n",
       " 'discover': 635,\n",
       " 'blow': 636,\n",
       " 'similar': 637,\n",
       " 'disney': 638,\n",
       " 'attack': 639,\n",
       " 'list': 640,\n",
       " 'average': 641,\n",
       " 'george': 642,\n",
       " 'contain': 643,\n",
       " 'predictable': 644,\n",
       " 'among': 645,\n",
       " 'romance': 646,\n",
       " 'realistic': 647,\n",
       " 'five': 648,\n",
       " 'mystery': 649,\n",
       " 'spirit': 650,\n",
       " 'describe': 651,\n",
       " 'future': 652,\n",
       " 'okay': 653,\n",
       " 'dialog': 654,\n",
       " 'lie': 655,\n",
       " 'baby': 656,\n",
       " 'crime': 657,\n",
       " 'typical': 658,\n",
       " 'memorable': 659,\n",
       " 'admit': 660,\n",
       " 'cry': 661,\n",
       " 'cartoon': 662,\n",
       " 'earth': 663,\n",
       " 'paul': 664,\n",
       " 'elements': 665,\n",
       " 'animation': 666,\n",
       " 'excite': 667,\n",
       " 'agree': 668,\n",
       " 'ways': 669,\n",
       " 'award': 670,\n",
       " 'bear': 671,\n",
       " 'trouble': 672,\n",
       " 'party': 673,\n",
       " 'fast': 674,\n",
       " 'soldier': 675,\n",
       " 'hat': 676,\n",
       " 'notice': 677,\n",
       " 'within': 678,\n",
       " 'bother': 679,\n",
       " 'lame': 680,\n",
       " 'issue': 681,\n",
       " 'drink': 682,\n",
       " 'adventure': 683,\n",
       " 'sequel': 684,\n",
       " 'mess': 685,\n",
       " 'believable': 686,\n",
       " 'bill': 687,\n",
       " 'reveal': 688,\n",
       " 'indeed': 689,\n",
       " 'material': 690,\n",
       " 'lady': 691,\n",
       " 'nearly': 692,\n",
       " 'brain': 693,\n",
       " 'copy': 694,\n",
       " 'th': 695,\n",
       " 'period': 696,\n",
       " 'chase': 697,\n",
       " 'truth': 698,\n",
       " 'beat': 699,\n",
       " 'oscar': 700,\n",
       " 'minute': 701,\n",
       " 'viewers': 702,\n",
       " 'deep': 703,\n",
       " 'fly': 704,\n",
       " 'mix': 705,\n",
       " 'tale': 706,\n",
       " 'america': 707,\n",
       " 'background': 708,\n",
       " 'certain': 709,\n",
       " 'crazy': 710,\n",
       " 'footage': 711,\n",
       " 'appeal': 712,\n",
       " 'suffer': 713,\n",
       " 'color': 714,\n",
       " 'finish': 715,\n",
       " 'cat': 716,\n",
       " 'fantastic': 717,\n",
       " 'fi': 718,\n",
       " 'otherwise': 719,\n",
       " 'plain': 720,\n",
       " 'de': 721,\n",
       " 'japanese': 722,\n",
       " 'premise': 723,\n",
       " 'match': 724,\n",
       " 'sorry': 725,\n",
       " 'total': 726,\n",
       " 'control': 727,\n",
       " 'hot': 728,\n",
       " 'forward': 729,\n",
       " 'famous': 730,\n",
       " 'tom': 731,\n",
       " 'sci': 732,\n",
       " 'richard': 733,\n",
       " 'hide': 734,\n",
       " 'remake': 735,\n",
       " 'free': 736,\n",
       " 'tear': 737,\n",
       " 'costume': 738,\n",
       " 'island': 739,\n",
       " 'creepy': 740,\n",
       " 'e': 741,\n",
       " 'era': 742,\n",
       " 'possibly': 743,\n",
       " 'whatever': 744,\n",
       " 'nature': 745,\n",
       " 'rip': 746,\n",
       " 'ghost': 747,\n",
       " 'appreciate': 748,\n",
       " 'answer': 749,\n",
       " 'weak': 750,\n",
       " 'fear': 751,\n",
       " 'shame': 752,\n",
       " 'gay': 753,\n",
       " 'warn': 754,\n",
       " 'eat': 755,\n",
       " 'atmosphere': 756,\n",
       " 'somehow': 757,\n",
       " 'cheesy': 758,\n",
       " 'perform': 759,\n",
       " 'dr': 760,\n",
       " 'superb': 761,\n",
       " 'master': 762,\n",
       " 'difficult': 763,\n",
       " 'flaw': 764,\n",
       " 'theater': 765,\n",
       " 'struggle': 766,\n",
       " 'company': 767,\n",
       " 'treat': 768,\n",
       " 'towards': 769,\n",
       " 'sexual': 770,\n",
       " 'perfectly': 771,\n",
       " 'imdb': 772,\n",
       " 'eventually': 773,\n",
       " 'society': 774,\n",
       " 'beauty': 775,\n",
       " 'land': 776,\n",
       " 'stage': 777,\n",
       " 'western': 778,\n",
       " 'lee': 779,\n",
       " 'particular': 780,\n",
       " 'emotional': 781,\n",
       " 'boys': 782,\n",
       " 'c': 783,\n",
       " 'track': 784,\n",
       " 'york': 785,\n",
       " 'directors': 786,\n",
       " 'red': 787,\n",
       " 'project': 788,\n",
       " 'screenplay': 789,\n",
       " 'personal': 790,\n",
       " 'step': 791,\n",
       " 'rate': 792,\n",
       " 'general': 793,\n",
       " 'badly': 794,\n",
       " 'fairly': 795,\n",
       " 'rich': 796,\n",
       " 'political': 797,\n",
       " 'suggest': 798,\n",
       " 'business': 799,\n",
       " 'poorly': 800,\n",
       " 'earlier': 801,\n",
       " 'weird': 802,\n",
       " 'front': 803,\n",
       " 'race': 804,\n",
       " 'unless': 805,\n",
       " 'various': 806,\n",
       " 'situation': 807,\n",
       " 'incredibly': 808,\n",
       " 'development': 809,\n",
       " 'powerful': 810,\n",
       " 'plus': 811,\n",
       " 'mistake': 812,\n",
       " 'street': 813,\n",
       " 'band': 814,\n",
       " 'listen': 815,\n",
       " 'dress': 816,\n",
       " 'peter': 817,\n",
       " 'masterpiece': 818,\n",
       " 'store': 819,\n",
       " 'joe': 820,\n",
       " 'amount': 821,\n",
       " 'dramatic': 822,\n",
       " 'scream': 823,\n",
       " 'reach': 824,\n",
       " 'quickly': 825,\n",
       " 'introduce': 826,\n",
       " 'amuse': 827,\n",
       " 'accent': 828,\n",
       " 'hole': 829,\n",
       " 'term': 830,\n",
       " 'sleep': 831,\n",
       " 'rise': 832,\n",
       " 'scar': 833,\n",
       " 'roll': 834,\n",
       " 'relate': 835,\n",
       " 'dumb': 836,\n",
       " 'spot': 837,\n",
       " 'success': 838,\n",
       " 'cross': 839,\n",
       " 'william': 840,\n",
       " 'pure': 841,\n",
       " 'disturb': 842,\n",
       " 'design': 843,\n",
       " 'unlike': 844,\n",
       " 'concern': 845,\n",
       " 'jump': 846,\n",
       " 'secret': 847,\n",
       " 'tough': 848,\n",
       " 'channel': 849,\n",
       " 'ideas': 850,\n",
       " 'large': 851,\n",
       " 'writers': 852,\n",
       " 'respect': 853,\n",
       " 'outside': 854,\n",
       " 'talented': 855,\n",
       " 'nudity': 856,\n",
       " 'ruin': 857,\n",
       " 'law': 858,\n",
       " 'taste': 859,\n",
       " 'serve': 860,\n",
       " 'cute': 861,\n",
       " 'third': 862,\n",
       " 'fantasy': 863,\n",
       " 'public': 864,\n",
       " 'flat': 865,\n",
       " 'villain': 866,\n",
       " 'burn': 867,\n",
       " 'former': 868,\n",
       " 'exist': 869,\n",
       " 'intrigue': 870,\n",
       " 'zombie': 871,\n",
       " 'apart': 872,\n",
       " 'destroy': 873,\n",
       " 'jim': 874,\n",
       " 'edge': 875,\n",
       " 'older': 876,\n",
       " 'wind': 877,\n",
       " 'teach': 878,\n",
       " 'park': 879,\n",
       " 'male': 880,\n",
       " 'culture': 881,\n",
       " 'regard': 882,\n",
       " 'sadly': 883,\n",
       " 'spoilers': 884,\n",
       " 'neither': 885,\n",
       " 'sell': 886,\n",
       " 'plenty': 887,\n",
       " 'language': 888,\n",
       " 'tension': 889,\n",
       " 'accept': 890,\n",
       " 'filmmakers': 891,\n",
       " 'grade': 892,\n",
       " 'kick': 893,\n",
       " 'familiar': 894,\n",
       " 'honest': 895,\n",
       " 'record': 896,\n",
       " 'hang': 897,\n",
       " 'inside': 898,\n",
       " 'blue': 899,\n",
       " 'drag': 900,\n",
       " 'unique': 901,\n",
       " 'receive': 902,\n",
       " 'basic': 903,\n",
       " 'italian': 904,\n",
       " 'pointless': 905,\n",
       " 'claim': 906,\n",
       " 'slightly': 907,\n",
       " 'suddenly': 908,\n",
       " 'purpose': 909,\n",
       " 'survive': 910,\n",
       " 'enter': 911,\n",
       " 'successful': 912,\n",
       " 'drop': 913,\n",
       " 'potential': 914,\n",
       " 'la': 915,\n",
       " 'promise': 916,\n",
       " 'travel': 917,\n",
       " 'hurt': 918,\n",
       " 'portrayal': 919,\n",
       " 'road': 920,\n",
       " 'hair': 921,\n",
       " 'clever': 922,\n",
       " 'previous': 923,\n",
       " 'pop': 924,\n",
       " 'tire': 925,\n",
       " 'violent': 926,\n",
       " 'science': 927,\n",
       " 'vampire': 928,\n",
       " 'witness': 929,\n",
       " 'u': 930,\n",
       " 'impress': 931,\n",
       " 'girlfriend': 932,\n",
       " 'fashion': 933,\n",
       " 'suspect': 934,\n",
       " 'inspire': 935,\n",
       " 'odd': 936,\n",
       " 'recently': 937,\n",
       " 'gag': 938,\n",
       " 'door': 939,\n",
       " 'reference': 940,\n",
       " 'share': 941,\n",
       " 'cold': 942,\n",
       " 'barely': 943,\n",
       " 'strike': 944,\n",
       " 'stun': 945,\n",
       " 'post': 946,\n",
       " 'alive': 947,\n",
       " 'g': 948,\n",
       " 'glad': 949,\n",
       " 'members': 950,\n",
       " 'photography': 951,\n",
       " 'hardly': 952,\n",
       " 'super': 953,\n",
       " 'approach': 954,\n",
       " 'search': 955,\n",
       " 'popular': 956,\n",
       " 'visual': 957,\n",
       " 'terrific': 958,\n",
       " 'engage': 959,\n",
       " 'f': 960,\n",
       " 'limit': 961,\n",
       " 'motion': 962,\n",
       " 'yeah': 963,\n",
       " 'anti': 964,\n",
       " 'office': 965,\n",
       " 'trip': 966,\n",
       " 'fake': 967,\n",
       " 'bomb': 968,\n",
       " 'ben': 969,\n",
       " 'effective': 970,\n",
       " 'ray': 971,\n",
       " 'paint': 972,\n",
       " 'computer': 973,\n",
       " 'biggest': 974,\n",
       " 'suit': 975,\n",
       " 'interview': 976,\n",
       " 'haunt': 977,\n",
       " 'judge': 978,\n",
       " 'co': 979,\n",
       " 'stewart': 980,\n",
       " 'century': 981,\n",
       " 'handle': 982,\n",
       " 'entirely': 983,\n",
       " 'climax': 984,\n",
       " 'bed': 985,\n",
       " 'longer': 986,\n",
       " 'opera': 987,\n",
       " 'producers': 988,\n",
       " 'situations': 989,\n",
       " 'batman': 990,\n",
       " 'arrive': 991,\n",
       " 'jones': 992,\n",
       " 'army': 993,\n",
       " 'camp': 994,\n",
       " 'bond': 995,\n",
       " 'prison': 996,\n",
       " 'german': 997,\n",
       " 'clothe': 998,\n",
       " 'historical': 999,\n",
       " ...}"
      ]
     },
     "execution_count": 92,
     "metadata": {},
     "output_type": "execute_result"
    }
   ],
   "source": [
    "model.wv.key_to_index"
   ]
  },
  {
   "cell_type": "code",
   "execution_count": 93,
   "id": "b3ee799d",
   "metadata": {},
   "outputs": [],
   "source": [
    "def documnet_vector(doc):\n",
    "    doc = [word for word in doc.split() if word in model.wv.key_to_index]\n",
    "    return np.mean(model.wv[doc],axis=0)"
   ]
  },
  {
   "cell_type": "code",
   "execution_count": 95,
   "id": "3ff3a775",
   "metadata": {},
   "outputs": [
    {
     "data": {
      "text/plain": [
       "array([-0.08155759, -0.02646113, -0.0181236 , -0.00223195,  0.06550793,\n",
       "       -0.15586951,  0.11917827,  0.1428683 , -0.08202509, -0.00083696,\n",
       "       -0.35730204, -0.33576408, -0.1606239 ,  0.08100852,  0.04568855,\n",
       "       -0.28629366,  0.09958687, -0.23420781, -0.06196318, -0.23893188,\n",
       "        0.08454518,  0.03959716,  0.06367743, -0.2022018 ,  0.18958445,\n",
       "        0.16027468, -0.13467705, -0.22844289, -0.17985374, -0.09119876,\n",
       "        0.16089247,  0.2345047 , -0.04691614, -0.01211203,  0.0347589 ,\n",
       "        0.04246079, -0.2678431 , -0.14975177, -0.03471247, -0.28542876,\n",
       "       -0.14047621, -0.23658264,  0.07626662,  0.0383556 , -0.03849578,\n",
       "       -0.1697866 , -0.0962144 , -0.06441932,  0.04341586,  0.12608145,\n",
       "        0.02437113, -0.2670398 , -0.22649124,  0.06036743, -0.23656262,\n",
       "        0.11191633, -0.04728888,  0.00217309, -0.30380473, -0.14563763,\n",
       "       -0.04894198,  0.08000051, -0.04986767, -0.0466726 , -0.2982072 ,\n",
       "        0.13572128, -0.08180316,  0.02510879, -0.1125625 ,  0.06821905,\n",
       "       -0.21815434,  0.19565304,  0.17365989, -0.15209688,  0.05644669,\n",
       "       -0.07943039,  0.22784498, -0.14100327, -0.27363858,  0.23907988,\n",
       "        0.01694662,  0.00945277, -0.09459793,  0.15102565,  0.08248306,\n",
       "       -0.00163935, -0.03243595,  0.2878974 ,  0.13994542, -0.19091024,\n",
       "        0.15581003, -0.03307324, -0.01739707,  0.1757711 ,  0.11771975,\n",
       "        0.20378739,  0.18191178, -0.14883661,  0.21901946,  0.0633942 ],\n",
       "      dtype=float32)"
      ]
     },
     "execution_count": 95,
     "metadata": {},
     "output_type": "execute_result"
    }
   ],
   "source": [
    "documnet_vector('hello i am here')"
   ]
  },
  {
   "cell_type": "code",
   "execution_count": 125,
   "id": "ef4fa014",
   "metadata": {},
   "outputs": [],
   "source": [
    "data = []\n",
    "for index, doc in enumerate(df['review'].values):\n",
    "    data.append(documnet_vector(doc))"
   ]
  },
  {
   "cell_type": "code",
   "execution_count": 126,
   "id": "f4937565",
   "metadata": {},
   "outputs": [],
   "source": [
    "X = pd.DataFrame(data)"
   ]
  },
  {
   "cell_type": "code",
   "execution_count": 127,
   "id": "cacebf33",
   "metadata": {},
   "outputs": [],
   "source": [
    "y = df['sentiment']\n",
    "encoder = LabelEncoder()\n",
    "y = encoder.fit_transform(y)"
   ]
  },
  {
   "cell_type": "code",
   "execution_count": 128,
   "id": "abc6e559",
   "metadata": {},
   "outputs": [],
   "source": [
    "X_train, X_test, y_train, y_test = train_test_split(X, y, test_size=0.30, random_state=101)"
   ]
  },
  {
   "cell_type": "code",
   "execution_count": 129,
   "id": "0a744b25",
   "metadata": {},
   "outputs": [
    {
     "data": {
      "text/plain": [
       "(6988, 100)"
      ]
     },
     "execution_count": 129,
     "metadata": {},
     "output_type": "execute_result"
    }
   ],
   "source": [
    "X_train.shape"
   ]
  },
  {
   "cell_type": "code",
   "execution_count": 130,
   "id": "82e51c64",
   "metadata": {},
   "outputs": [
    {
     "data": {
      "text/plain": [
       "(2995, 100)"
      ]
     },
     "execution_count": 130,
     "metadata": {},
     "output_type": "execute_result"
    }
   ],
   "source": [
    "X_test.shape"
   ]
  },
  {
   "cell_type": "code",
   "execution_count": 133,
   "id": "d848837a",
   "metadata": {},
   "outputs": [
    {
     "name": "stdout",
     "output_type": "stream",
     "text": [
      "[[1215  300]\n",
      " [ 238 1242]]\n",
      "              precision    recall  f1-score   support\n",
      "\n",
      "           0       0.84      0.80      0.82      1515\n",
      "           1       0.81      0.84      0.82      1480\n",
      "\n",
      "    accuracy                           0.82      2995\n",
      "   macro avg       0.82      0.82      0.82      2995\n",
      "weighted avg       0.82      0.82      0.82      2995\n",
      "\n"
     ]
    }
   ],
   "source": [
    "pipeline(RandomForestClassifier(), X_train, X_test, y_train, y_test)"
   ]
  }
 ],
 "metadata": {
  "kernelspec": {
   "display_name": "Python 3 (ipykernel)",
   "language": "python",
   "name": "python3"
  },
  "language_info": {
   "codemirror_mode": {
    "name": "ipython",
    "version": 3
   },
   "file_extension": ".py",
   "mimetype": "text/x-python",
   "name": "python",
   "nbconvert_exporter": "python",
   "pygments_lexer": "ipython3",
   "version": "3.9.12"
  }
 },
 "nbformat": 4,
 "nbformat_minor": 5
}
