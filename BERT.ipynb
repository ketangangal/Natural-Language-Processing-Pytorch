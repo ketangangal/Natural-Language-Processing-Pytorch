{
 "cells": [
  {
   "cell_type": "code",
   "execution_count": 96,
   "id": "8c3a0861",
   "metadata": {},
   "outputs": [],
   "source": [
    "import random\n",
    "import time\n",
    "import os\n",
    "import re\n",
    "from tqdm import tqdm\n",
    "import numpy as np\n",
    "import pandas as pd\n",
    "import matplotlib.pyplot as plt\n",
    "import requests\n",
    "import zipfile\n",
    "import nltk\n",
    "from nltk.corpus import stopwords\n",
    "\n",
    "from sklearn.model_selection import train_test_split\n",
    "from sklearn.feature_extraction.text import TfidfVectorizer\n",
    "\n",
    "import torch\n",
    "import torch.nn as nn\n",
    "from transformers import BertModel\n",
    "from transformers import BertTokenizer\n",
    "from torch.utils.data import TensorDataset, DataLoader, RandomSampler, SequentialSampler\n",
    "from transformers import AdamW, get_linear_schedule_with_warmup\n",
    "import torch.nn.functional as F"
   ]
  },
  {
   "cell_type": "code",
   "execution_count": 90,
   "id": "7719cb1c",
   "metadata": {},
   "outputs": [],
   "source": [
    "def set_seed(seed_value=42):\n",
    "    \"\"\"Set seed for reproducibility.\n",
    "    \"\"\"\n",
    "    random.seed(seed_value)\n",
    "    np.random.seed(seed_value)\n",
    "    torch.manual_seed(seed_value)\n",
    "    torch.cuda.manual_seed_all(seed_value)\n"
   ]
  },
  {
   "cell_type": "code",
   "execution_count": 18,
   "id": "c95ad5d5",
   "metadata": {
    "scrolled": true
   },
   "outputs": [
    {
     "name": "stderr",
     "output_type": "stream",
     "text": [
      "[nltk_data] Downloading package stopwords to\n",
      "[nltk_data]     C:\\Users\\win10\\AppData\\Roaming\\nltk_data...\n",
      "[nltk_data]   Package stopwords is already up-to-date!\n"
     ]
    },
    {
     "data": {
      "text/plain": [
       "True"
      ]
     },
     "execution_count": 18,
     "metadata": {},
     "output_type": "execute_result"
    }
   ],
   "source": [
    "nltk.download(\"stopwords\")"
   ]
  },
  {
   "cell_type": "markdown",
   "id": "4ab5cbfa",
   "metadata": {},
   "source": [
    "# Data Preprocessing"
   ]
  },
  {
   "cell_type": "code",
   "execution_count": 33,
   "id": "8ea2cf00",
   "metadata": {},
   "outputs": [],
   "source": [
    "request = requests.get(\"https://drive.google.com/uc?export=download&id=1wHt8PsMLsfX5yNSqrt2fSTcb8LEiclcf\")\n",
    "with open(\"data.zip\", \"wb\") as file:\n",
    "    file.write(request.content)\n",
    "\n",
    "# Unzip data\n",
    "\n",
    "with zipfile.ZipFile('data.zip') as zip:\n",
    "    zip.extractall('data')"
   ]
  },
  {
   "cell_type": "code",
   "execution_count": 40,
   "id": "494526ca",
   "metadata": {},
   "outputs": [
    {
     "data": {
      "text/html": [
       "<div>\n",
       "<style scoped>\n",
       "    .dataframe tbody tr th:only-of-type {\n",
       "        vertical-align: middle;\n",
       "    }\n",
       "\n",
       "    .dataframe tbody tr th {\n",
       "        vertical-align: top;\n",
       "    }\n",
       "\n",
       "    .dataframe thead th {\n",
       "        text-align: right;\n",
       "    }\n",
       "</style>\n",
       "<table border=\"1\" class=\"dataframe\">\n",
       "  <thead>\n",
       "    <tr style=\"text-align: right;\">\n",
       "      <th></th>\n",
       "      <th>id</th>\n",
       "      <th>tweet</th>\n",
       "      <th>label</th>\n",
       "    </tr>\n",
       "  </thead>\n",
       "  <tbody>\n",
       "    <tr>\n",
       "      <th>3160</th>\n",
       "      <td>146965</td>\n",
       "      <td>#ThankYou @United for being a sponsor of this ...</td>\n",
       "      <td>1</td>\n",
       "    </tr>\n",
       "    <tr>\n",
       "      <th>3047</th>\n",
       "      <td>132218</td>\n",
       "      <td>Free Wifi, terra blue chips, extra leg room, &amp;...</td>\n",
       "      <td>1</td>\n",
       "    </tr>\n",
       "    <tr>\n",
       "      <th>2375</th>\n",
       "      <td>60973</td>\n",
       "      <td>\"@Sia: United airlines leaves dog on rainy col...</td>\n",
       "      <td>1</td>\n",
       "    </tr>\n",
       "    <tr>\n",
       "      <th>1248</th>\n",
       "      <td>135659</td>\n",
       "      <td>@United UA1252 deplaned twice already. Can we ...</td>\n",
       "      <td>0</td>\n",
       "    </tr>\n",
       "    <tr>\n",
       "      <th>2292</th>\n",
       "      <td>51418</td>\n",
       "      <td>If anyone needs me I'll be on the @SouthwestAi...</td>\n",
       "      <td>1</td>\n",
       "    </tr>\n",
       "  </tbody>\n",
       "</table>\n",
       "</div>"
      ],
      "text/plain": [
       "          id                                              tweet  label\n",
       "3160  146965  #ThankYou @United for being a sponsor of this ...      1\n",
       "3047  132218  Free Wifi, terra blue chips, extra leg room, &...      1\n",
       "2375   60973  \"@Sia: United airlines leaves dog on rainy col...      1\n",
       "1248  135659  @United UA1252 deplaned twice already. Can we ...      0\n",
       "2292   51418  If anyone needs me I'll be on the @SouthwestAi...      1"
      ]
     },
     "execution_count": 40,
     "metadata": {},
     "output_type": "execute_result"
    }
   ],
   "source": [
    "data_complaint = pd.read_csv('data/complaint1700.csv')\n",
    "data_complaint['label'] = 0\n",
    "data_non_complaint = pd.read_csv('data/noncomplaint1700.csv')\n",
    "data_non_complaint['label'] = 1\n",
    "\n",
    "# Concatenate complaining and non-complaining data\n",
    "data = pd.concat([data_complaint, data_non_complaint], axis=0).reset_index(drop=True)\n",
    "\n",
    "# Drop 'airline' column\n",
    "data.drop(['airline'], inplace=True, axis=1)\n",
    "\n",
    "# Display 5 random samples\n",
    "data.sample(5)"
   ]
  },
  {
   "cell_type": "markdown",
   "id": "4356bd13",
   "metadata": {},
   "source": [
    "# Train-Test -Split"
   ]
  },
  {
   "cell_type": "code",
   "execution_count": 41,
   "id": "d2bf64ff",
   "metadata": {},
   "outputs": [],
   "source": [
    "X = data.tweet.values\n",
    "y = data.label.values\n",
    "\n",
    "X_train, X_val, y_train, y_val =train_test_split(X, y, test_size=0.1, random_state=101)"
   ]
  },
  {
   "cell_type": "markdown",
   "id": "f53f7b0a",
   "metadata": {},
   "source": [
    "# Validation Data"
   ]
  },
  {
   "cell_type": "code",
   "execution_count": 42,
   "id": "c8d617bd",
   "metadata": {
    "scrolled": true
   },
   "outputs": [
    {
     "data": {
      "text/html": [
       "<div>\n",
       "<style scoped>\n",
       "    .dataframe tbody tr th:only-of-type {\n",
       "        vertical-align: middle;\n",
       "    }\n",
       "\n",
       "    .dataframe tbody tr th {\n",
       "        vertical-align: top;\n",
       "    }\n",
       "\n",
       "    .dataframe thead th {\n",
       "        text-align: right;\n",
       "    }\n",
       "</style>\n",
       "<table border=\"1\" class=\"dataframe\">\n",
       "  <thead>\n",
       "    <tr style=\"text-align: right;\">\n",
       "      <th></th>\n",
       "      <th>id</th>\n",
       "      <th>tweet</th>\n",
       "    </tr>\n",
       "  </thead>\n",
       "  <tbody>\n",
       "    <tr>\n",
       "      <th>3316</th>\n",
       "      <td>125712</td>\n",
       "      <td>Although I shouldn't be surprised based on eve...</td>\n",
       "    </tr>\n",
       "    <tr>\n",
       "      <th>2726</th>\n",
       "      <td>104376</td>\n",
       "      <td>@AmericanAir Your customer service is a joke. ...</td>\n",
       "    </tr>\n",
       "    <tr>\n",
       "      <th>3748</th>\n",
       "      <td>142144</td>\n",
       "      <td>@SakoGShep @DoryuuShepherd @SouthwestAir I'm s...</td>\n",
       "    </tr>\n",
       "    <tr>\n",
       "      <th>1509</th>\n",
       "      <td>58300</td>\n",
       "      <td>Cancelled flight because of \"no crew,\" now no ...</td>\n",
       "    </tr>\n",
       "    <tr>\n",
       "      <th>4424</th>\n",
       "      <td>167714</td>\n",
       "      <td>@AmericanAir 4 hour flight delay</td>\n",
       "    </tr>\n",
       "  </tbody>\n",
       "</table>\n",
       "</div>"
      ],
      "text/plain": [
       "          id                                              tweet\n",
       "3316  125712  Although I shouldn't be surprised based on eve...\n",
       "2726  104376  @AmericanAir Your customer service is a joke. ...\n",
       "3748  142144  @SakoGShep @DoryuuShepherd @SouthwestAir I'm s...\n",
       "1509   58300  Cancelled flight because of \"no crew,\" now no ...\n",
       "4424  167714                   @AmericanAir 4 hour flight delay"
      ]
     },
     "execution_count": 42,
     "metadata": {},
     "output_type": "execute_result"
    }
   ],
   "source": [
    "test_data = pd.read_csv('data/test_data.csv')\n",
    "test_data = test_data[['id', 'tweet']]\n",
    "test_data.sample(5)"
   ]
  },
  {
   "cell_type": "markdown",
   "id": "ca276d64",
   "metadata": {},
   "source": [
    "# GPU Check"
   ]
  },
  {
   "cell_type": "code",
   "execution_count": 47,
   "id": "c6becdcb",
   "metadata": {},
   "outputs": [
    {
     "name": "stdout",
     "output_type": "stream",
     "text": [
      "No GPU available, using the CPU instead.\n"
     ]
    }
   ],
   "source": [
    "if torch.cuda.is_available():       \n",
    "    device = torch.device(\"cuda\")\n",
    "    print(f'There are {torch.cuda.device_count()} GPU(s) available.')\n",
    "    print('Device name:', torch.cuda.get_device_name(0))\n",
    "\n",
    "else:\n",
    "    print('No GPU available, using the CPU instead.')\n",
    "    device = torch.device(\"cpu\")"
   ]
  },
  {
   "cell_type": "markdown",
   "id": "1ff1a536",
   "metadata": {},
   "source": [
    "# Text Preprocessing"
   ]
  },
  {
   "cell_type": "code",
   "execution_count": 44,
   "id": "ef4c4b70",
   "metadata": {},
   "outputs": [],
   "source": [
    "def text_preprocessing(text):\n",
    "    \"\"\"\n",
    "    - Remove entity mentions (eg. '@united')\n",
    "    - Correct errors (eg. '&amp;' to '&')\n",
    "    @param    text (str): a string to be processed.\n",
    "    @return   text (Str): the processed string.\n",
    "    \"\"\"\n",
    "    # Remove '@name'\n",
    "    text = re.sub(r'(@.*?)[\\s]', ' ', text)\n",
    "\n",
    "    # Replace '&amp;' with '&'\n",
    "    text = re.sub(r'&amp;', '&', text)\n",
    "\n",
    "    # Remove trailing whitespace\n",
    "    text = re.sub(r'\\s+', ' ', text).strip()\n",
    "\n",
    "    return text\n"
   ]
  },
  {
   "cell_type": "markdown",
   "id": "08910fa6",
   "metadata": {},
   "source": [
    "## Bert Tokenizer"
   ]
  },
  {
   "cell_type": "code",
   "execution_count": 48,
   "id": "33a26938",
   "metadata": {},
   "outputs": [
    {
     "name": "stdout",
     "output_type": "stream",
     "text": [
      "Max length:  68\n"
     ]
    }
   ],
   "source": [
    "# Load the BERT tokenizer\n",
    "tokenizer = BertTokenizer.from_pretrained('bert-base-uncased', do_lower_case=True)\n",
    "\n",
    "# Concatenate train data and test data\n",
    "all_tweets = np.concatenate([data.tweet.values, test_data.tweet.values])\n",
    "\n",
    "# Encode our concatenated data\n",
    "encoded_tweets = [tokenizer.encode(sent, add_special_tokens=True) for sent in all_tweets]\n",
    "\n",
    "# Find the maximum length\n",
    "max_len = max([len(sent) for sent in encoded_tweets])\n",
    "print('Max length: ', max_len)"
   ]
  },
  {
   "cell_type": "markdown",
   "id": "2a3d08fb",
   "metadata": {},
   "source": [
    "# Preprocessing"
   ]
  },
  {
   "cell_type": "code",
   "execution_count": 124,
   "id": "63cf455d",
   "metadata": {},
   "outputs": [],
   "source": [
    "# Create a function to tokenize a set of texts\n",
    "def preprocessing_for_bert(data):\n",
    "    \"\"\"Perform required preprocessing steps for pretrained BERT.\n",
    "    @param    data (np.array): Array of texts to be processed.\n",
    "    @return   input_ids (torch.Tensor): Tensor of token ids to be fed to a model.\n",
    "    @return   attention_masks (torch.Tensor): Tensor of indices specifying which\n",
    "                  tokens should be attended to by the model.\n",
    "    \"\"\"\n",
    "    # Create empty lists to store outputs\n",
    "    input_ids = []\n",
    "    attention_masks = []\n",
    "\n",
    "    # For every sentence...\n",
    "    for sent in data:\n",
    "        # `encode_plus` will:\n",
    "        #    (1) Tokenize the sentence\n",
    "        #    (2) Add the `[CLS]` and `[SEP]` token to the start and end\n",
    "        #    (3) Truncate/Pad sentence to max length\n",
    "        #    (4) Map tokens to their IDs\n",
    "        #    (5) Create attention mask\n",
    "        #    (6) Return a dictionary of outputs\n",
    "        encoded_sent = tokenizer.encode_plus(\n",
    "            text=text_preprocessing(sent),  # Preprocess sentence\n",
    "            add_special_tokens=True,        # Add `[CLS]` and `[SEP]`\n",
    "            max_length=MAX_LEN,                  # Max length to truncate/pad\n",
    "            pad_to_max_length=True,         # Pad sentence to max length\n",
    "            #return_tensors='pt',           # Return PyTorch tensor\n",
    "            return_attention_mask=True      # Return attention mask\n",
    "            )\n",
    "        \n",
    "        # Add the outputs to the lists\n",
    "        input_ids.append(encoded_sent.get('input_ids'))\n",
    "        attention_masks.append(encoded_sent.get('attention_mask'))\n",
    "\n",
    "    # Convert lists to tensors\n",
    "    input_ids = torch.tensor(input_ids)\n",
    "    attention_masks = torch.tensor(attention_masks)\n",
    "\n",
    "    return input_ids, attention_masks"
   ]
  },
  {
   "cell_type": "code",
   "execution_count": 54,
   "id": "eaf561a3",
   "metadata": {},
   "outputs": [
    {
     "data": {
      "text/plain": [
       "\"@united I'm having issues. Yesterday I rebooked for 24 hours after I was supposed to fly, now I can't log on &amp; check in. Can you help?\""
      ]
     },
     "execution_count": 54,
     "metadata": {},
     "output_type": "execute_result"
    }
   ],
   "source": [
    "X[0]"
   ]
  },
  {
   "cell_type": "code",
   "execution_count": 52,
   "id": "85a52745",
   "metadata": {},
   "outputs": [
    {
     "data": {
      "text/plain": [
       "3400"
      ]
     },
     "execution_count": 52,
     "metadata": {},
     "output_type": "execute_result"
    }
   ],
   "source": [
    "X.__len__()"
   ]
  },
  {
   "cell_type": "code",
   "execution_count": 58,
   "id": "e022910f",
   "metadata": {},
   "outputs": [],
   "source": [
    "MAX_LEN = 64\n",
    "inp, att = preprocessing_for_bert([X[0]])"
   ]
  },
  {
   "cell_type": "code",
   "execution_count": 70,
   "id": "c165f163",
   "metadata": {},
   "outputs": [
    {
     "name": "stdout",
     "output_type": "stream",
     "text": [
      "Original:  @united I'm having issues. Yesterday I rebooked for 24 hours after I was supposed to fly, now I can't log on &amp; check in. Can you help?\n",
      "Token IDs:  [101, 1045, 1005, 1049, 2383, 3314, 1012, 7483, 1045, 2128, 8654, 2098, 2005, 2484, 2847, 2044, 1045, 2001, 4011, 2000, 4875, 1010, 2085, 1045, 2064, 1005, 1056, 8833, 2006, 1004, 4638, 1999, 1012, 2064, 2017, 2393, 1029, 102, 0, 0, 0, 0, 0, 0, 0, 0, 0, 0, 0, 0, 0, 0, 0, 0, 0, 0, 0, 0, 0, 0, 0, 0, 0, 0]\n",
      "Tokenizing data...\n"
     ]
    }
   ],
   "source": [
    "# Specify `MAX_LEN`\n",
    "MAX_LEN = 64\n",
    "\n",
    "# Print sentence 0 and its encoded token ids\n",
    "token_ids = list(preprocessing_for_bert([X[0]])[0].squeeze().numpy())\n",
    "print('Original: ', X[0])\n",
    "print('Token IDs: ', token_ids)\n",
    "\n",
    "# Run function `preprocessing_for_bert` on the train set and the validation set\n",
    "print('Tokenizing data...')\n",
    "train_inputs, train_masks = preprocessing_for_bert(X_train)\n",
    "val_inputs, val_masks = preprocessing_for_bert(X_val)"
   ]
  },
  {
   "cell_type": "code",
   "execution_count": null,
   "id": "1e88afc2",
   "metadata": {},
   "outputs": [],
   "source": [
    "for i in train_data:\n",
    "    print(i)\n",
    "    break"
   ]
  },
  {
   "cell_type": "markdown",
   "id": "bde8ce45",
   "metadata": {},
   "source": [
    "# Py-Torch Loader "
   ]
  },
  {
   "cell_type": "code",
   "execution_count": 80,
   "id": "1d5783e0",
   "metadata": {},
   "outputs": [],
   "source": [
    "# Convert other data types to torch.Tensor\n",
    "train_labels = torch.tensor(y_train)\n",
    "val_labels = torch.tensor(y_val)\n",
    "\n",
    "# For fine-tuning BERT, the authors recommend a batch size of 16 or 32.\n",
    "batch_size = 32\n",
    "\n",
    "# Create the DataLoader for our training set\n",
    "train_data = TensorDataset(train_inputs, train_masks, train_labels)\n",
    "train_sampler = RandomSampler(train_data)\n",
    "train_dataloader = DataLoader(train_data, sampler=train_sampler, batch_size=batch_size)\n",
    "\n",
    "# Create the DataLoader for our validation set\n",
    "val_data = TensorDataset(val_inputs, val_masks, val_labels)\n",
    "val_sampler = SequentialSampler(val_data)\n",
    "val_dataloader = DataLoader(val_data, sampler=val_sampler, batch_size=batch_size)"
   ]
  },
  {
   "cell_type": "markdown",
   "id": "eb5be206",
   "metadata": {},
   "source": [
    "# Staticstical Modelling"
   ]
  },
  {
   "cell_type": "code",
   "execution_count": 84,
   "id": "f9b40b9a",
   "metadata": {},
   "outputs": [],
   "source": [
    "class BertClassifier(nn.Module):\n",
    "    def __init__(self, freeze_bert=False):\n",
    "        \"\"\"\n",
    "        @param    bert: a BertModel object\n",
    "        @param    classifier: a torch.nn.Module classifier\n",
    "        @param    freeze_bert (bool): Set `False` to fine-tune the BERT model\n",
    "        \"\"\"\n",
    "        super().__init__()\n",
    "        # Specify hidden size of BERT, hidden size of our classifier, and number of labels\n",
    "        D_in, H, D_out = 768, 50, 2\n",
    "\n",
    "        # Instantiate BERT model\n",
    "        self.bert = BertModel.from_pretrained('bert-base-uncased')\n",
    "\n",
    "        # Instantiate an one-layer feed-forward classifier\n",
    "        self.classifier = nn.Sequential(\n",
    "            nn.Linear(D_in, H),\n",
    "            nn.ReLU(),\n",
    "            #nn.Dropout(0.5),\n",
    "            nn.Linear(H, D_out)\n",
    "        )\n",
    "\n",
    "        # Freeze the BERT model\n",
    "        if freeze_bert:\n",
    "            for param in self.bert.parameters():\n",
    "                param.requires_grad = False\n",
    "        \n",
    "    def forward(self, input_ids, attention_mask):\n",
    "        \"\"\"\n",
    "        Feed input to BERT and the classifier to compute logits.\n",
    "        @param    input_ids (torch.Tensor): an input tensor with shape (batch_size,\n",
    "                      max_length)\n",
    "        @param    attention_mask (torch.Tensor): a tensor that hold attention mask\n",
    "                      information with shape (batch_size, max_length)\n",
    "        @return   logits (torch.Tensor): an output tensor with shape (batch_size,\n",
    "                      num_labels)\n",
    "        \"\"\"\n",
    "        # Feed input to BERT\n",
    "        outputs = self.bert(input_ids=input_ids,\n",
    "                            attention_mask=attention_mask)\n",
    "        \n",
    "        # Extract the last hidden state of the token `[CLS]` for classification task\n",
    "        last_hidden_state_cls = outputs[0][:, 0, :]\n",
    "\n",
    "        # Feed input to classifier to compute logits\n",
    "        logits = self.classifier(last_hidden_state_cls)\n",
    "\n",
    "        return logits"
   ]
  },
  {
   "cell_type": "code",
   "execution_count": 89,
   "id": "86e916dd",
   "metadata": {},
   "outputs": [],
   "source": [
    "def initialize_model(epochs=4):\n",
    "    \"\"\"Initialize the Bert Classifier, the optimizer and the learning rate scheduler.\n",
    "    \"\"\"\n",
    "    # Instantiate Bert Classifier\n",
    "    bert_classifier = BertClassifier(freeze_bert=False)\n",
    "\n",
    "    # Tell PyTorch to run the model on GPU\n",
    "    bert_classifier.to(device)\n",
    "\n",
    "    # Create the optimizer\n",
    "    optimizer = AdamW(bert_classifier.parameters(),\n",
    "                      lr=5e-5,    # Default learning rate\n",
    "                      eps=1e-8    # Default epsilon value\n",
    "                     )\n",
    "\n",
    "    # Total number of training steps\n",
    "    total_steps = len(train_dataloader) * epochs\n",
    "\n",
    "    # Set up the learning rate scheduler\n",
    "    scheduler = get_linear_schedule_with_warmup(optimizer,\n",
    "                                                num_warmup_steps=0, # Default value\n",
    "                                                num_training_steps=total_steps)\n",
    "    return bert_classifier, optimizer, scheduler"
   ]
  },
  {
   "cell_type": "code",
   "execution_count": 92,
   "id": "f05ccdd0",
   "metadata": {},
   "outputs": [],
   "source": [
    "# Specify loss function\n",
    "loss_fn = nn.CrossEntropyLoss()\n",
    "\n",
    "def train(model, train_dataloader, val_dataloader=None, epochs=4, evaluation=False):\n",
    "    \"\"\"Train the BertClassifier model.\n",
    "    \"\"\"\n",
    "    # Start training loop\n",
    "    print(\"Start training...\\n\")\n",
    "    for epoch_i in range(epochs):\n",
    "        print(f\"{'Epoch':^7} | {'Batch':^7} | {'Train Loss':^12} | {'Val Loss':^10} | {'Val Acc':^9} | {'Elapsed':^9}\")\n",
    "        print(\"-\"*70)\n",
    "\n",
    "        # Measure the elapsed time of each epoch\n",
    "        t0_epoch, t0_batch = time.time(), time.time()\n",
    "\n",
    "        # Reset tracking variables at the beginning of each epoch\n",
    "        total_loss, batch_loss, batch_counts = 0, 0, 0\n",
    "\n",
    "        # Put the model into the training mode\n",
    "        model.train()\n",
    "\n",
    "        # For each batch of training data...\n",
    "        for step, batch in enumerate(train_dataloader):\n",
    "            batch_counts +=1\n",
    "            # Load batch to GPU\n",
    "            b_input_ids, b_attn_mask, b_labels = tuple(t.to(device) for t in batch)\n",
    "\n",
    "            # Zero out any previously calculated gradients\n",
    "            model.zero_grad()\n",
    "\n",
    "            # Perform a forward pass. This will return logits.\n",
    "            logits = model(b_input_ids, b_attn_mask)\n",
    "\n",
    "            # Compute loss and accumulate the loss values\n",
    "            loss = loss_fn(logits, b_labels)\n",
    "            batch_loss += loss.item()\n",
    "            total_loss += loss.item()\n",
    "\n",
    "            # Perform a backward pass to calculate gradients\n",
    "            loss.backward()\n",
    "\n",
    "            # Clip the norm of the gradients to 1.0 to prevent \"exploding gradients\"\n",
    "            torch.nn.utils.clip_grad_norm_(model.parameters(), 1.0)\n",
    "\n",
    "            # Update parameters and the learning rate\n",
    "            optimizer.step()\n",
    "            scheduler.step()\n",
    "\n",
    "            # Print the loss values and time elapsed for every 20 batches\n",
    "            if (step % 20 == 0 and step != 0) or (step == len(train_dataloader) - 1):\n",
    "                # Calculate time elapsed for 20 batches\n",
    "                time_elapsed = time.time() - t0_batch\n",
    "\n",
    "                # Print training results\n",
    "                print(f\"{epoch_i + 1:^7} | {step:^7} | {batch_loss / batch_counts:^12.6f} | {'-':^10} | {'-':^9} | {time_elapsed:^9.2f}\")\n",
    "\n",
    "                # Reset batch tracking variables\n",
    "                batch_loss, batch_counts = 0, 0\n",
    "                t0_batch = time.time()\n",
    "\n",
    "        # Calculate the average loss over the entire training data\n",
    "        avg_train_loss = total_loss / len(train_dataloader)\n",
    "\n",
    "        print(\"-\"*70)\n",
    "        # =======================================\n",
    "        #               Evaluation\n",
    "        # =======================================\n",
    "        if evaluation == True:\n",
    "            # After the completion of each training epoch, measure the model's performance\n",
    "            # on our validation set.\n",
    "            val_loss, val_accuracy = evaluate(model, val_dataloader)\n",
    "\n",
    "            # Print performance over the entire training data\n",
    "            time_elapsed = time.time() - t0_epoch\n",
    "            \n",
    "            print(f\"{epoch_i + 1:^7} | {'-':^7} | {avg_train_loss:^12.6f} | {val_loss:^10.6f} | {val_accuracy:^9.2f} | {time_elapsed:^9.2f}\")\n",
    "            print(\"-\"*70)\n",
    "        print(\"\\n\")\n",
    "    \n",
    "    print(\"Training complete!\")\n"
   ]
  },
  {
   "cell_type": "code",
   "execution_count": 93,
   "id": "be7e64fe",
   "metadata": {},
   "outputs": [],
   "source": [
    "def evaluate(model, val_dataloader):\n",
    "    \"\"\"After the completion of each training epoch, measure the model's performance\n",
    "    on our validation set.\n",
    "    \"\"\"\n",
    "    # Put the model into the evaluation mode. The dropout layers are disabled during\n",
    "    # the test time.\n",
    "    model.eval()\n",
    "\n",
    "    # Tracking variables\n",
    "    val_accuracy = []\n",
    "    val_loss = []\n",
    "\n",
    "    # For each batch in our validation set...\n",
    "    for batch in val_dataloader:\n",
    "        # Load batch to GPU\n",
    "        b_input_ids, b_attn_mask, b_labels = tuple(t.to(device) for t in batch)\n",
    "\n",
    "        # Compute logits\n",
    "        with torch.no_grad():\n",
    "            logits = model(b_input_ids, b_attn_mask)\n",
    "\n",
    "        # Compute loss\n",
    "        loss = loss_fn(logits, b_labels)\n",
    "        val_loss.append(loss.item())\n",
    "\n",
    "        # Get the predictions\n",
    "        preds = torch.argmax(logits, dim=1).flatten()\n",
    "\n",
    "        # Calculate the accuracy rate\n",
    "        accuracy = (preds == b_labels).cpu().numpy().mean() * 100\n",
    "        val_accuracy.append(accuracy)\n",
    "\n",
    "    # Compute the average accuracy and loss over the validation set.\n",
    "    val_loss = np.mean(val_loss)\n",
    "    val_accuracy = np.mean(val_accuracy)\n",
    "\n",
    "    return val_loss, val_accuracy"
   ]
  },
  {
   "cell_type": "code",
   "execution_count": 94,
   "id": "19bd5925",
   "metadata": {},
   "outputs": [
    {
     "name": "stderr",
     "output_type": "stream",
     "text": [
      "Some weights of the model checkpoint at bert-base-uncased were not used when initializing BertModel: ['cls.predictions.transform.LayerNorm.bias', 'cls.predictions.transform.dense.weight', 'cls.predictions.transform.LayerNorm.weight', 'cls.predictions.bias', 'cls.predictions.transform.dense.bias', 'cls.seq_relationship.weight', 'cls.predictions.decoder.weight', 'cls.seq_relationship.bias']\n",
      "- This IS expected if you are initializing BertModel from the checkpoint of a model trained on another task or with another architecture (e.g. initializing a BertForSequenceClassification model from a BertForPreTraining model).\n",
      "- This IS NOT expected if you are initializing BertModel from the checkpoint of a model that you expect to be exactly identical (initializing a BertForSequenceClassification model from a BertForSequenceClassification model).\n",
      "F:\\Production\\Nlp\\RNN's\\env\\lib\\site-packages\\transformers\\optimization.py:306: FutureWarning: This implementation of AdamW is deprecated and will be removed in a future version. Use the PyTorch implementation torch.optim.AdamW instead, or set `no_deprecation_warning=True` to disable this warning\n",
      "  warnings.warn(\n"
     ]
    },
    {
     "name": "stdout",
     "output_type": "stream",
     "text": [
      "Start training...\n",
      "\n",
      " Epoch  |  Batch  |  Train Loss  |  Val Loss  |  Val Acc  |  Elapsed \n",
      "----------------------------------------------------------------------\n",
      "   1    |   20    |   0.685829   |     -      |     -     |  171.62  \n",
      "   1    |   40    |   0.598098   |     -      |     -     |  144.53  \n",
      "   1    |   60    |   0.504023   |     -      |     -     |  145.16  \n",
      "   1    |   80    |   0.473992   |     -      |     -     |  154.30  \n",
      "   1    |   95    |   0.536509   |     -      |     -     |  110.54  \n",
      "----------------------------------------------------------------------\n",
      "   1    |    -    |   0.562212   |  0.495381  |   76.48   |  752.31  \n",
      "----------------------------------------------------------------------\n",
      "\n",
      "\n",
      " Epoch  |  Batch  |  Train Loss  |  Val Loss  |  Val Acc  |  Elapsed \n",
      "----------------------------------------------------------------------\n",
      "   2    |   20    |   0.442465   |     -      |     -     |  160.93  \n",
      "   2    |   40    |   0.320836   |     -      |     -     |  144.44  \n",
      "   2    |   60    |   0.289572   |     -      |     -     |  144.16  \n",
      "   2    |   80    |   0.299690   |     -      |     -     |  144.32  \n",
      "   2    |   95    |   0.303808   |     -      |     -     |  106.45  \n",
      "----------------------------------------------------------------------\n",
      "   2    |    -    |   0.333863   |  0.534376  |   77.33   |  723.53  \n",
      "----------------------------------------------------------------------\n",
      "\n",
      "\n",
      "Training complete!\n"
     ]
    }
   ],
   "source": [
    "set_seed(42)    # Set seed for reproducibility\n",
    "bert_classifier, optimizer, scheduler = initialize_model(epochs=2)\n",
    "train(bert_classifier, train_dataloader, val_dataloader, epochs=2, evaluation=True)"
   ]
  },
  {
   "cell_type": "code",
   "execution_count": 95,
   "id": "b015283e",
   "metadata": {},
   "outputs": [],
   "source": [
    "def bert_predict(model, test_dataloader):\n",
    "    \"\"\"Perform a forward pass on the trained BERT model to predict probabilities\n",
    "    on the test set.\n",
    "    \"\"\"\n",
    "    # Put the model into the evaluation mode. The dropout layers are disabled during\n",
    "    # the test time.\n",
    "    model.eval()\n",
    "\n",
    "    all_logits = []\n",
    "\n",
    "    # For each batch in our test set...\n",
    "    for batch in test_dataloader:\n",
    "        # Load batch to GPU\n",
    "        b_input_ids, b_attn_mask = tuple(t.to(device) for t in batch)[:2]\n",
    "\n",
    "        # Compute logits\n",
    "        with torch.no_grad():\n",
    "            logits = model(b_input_ids, b_attn_mask)\n",
    "        all_logits.append(logits)\n",
    "    \n",
    "    # Concatenate logits from each batch\n",
    "    all_logits = torch.cat(all_logits, dim=0)\n",
    "\n",
    "    # Apply softmax to calculate probabilities\n",
    "    probs = F.softmax(all_logits, dim=1).cpu().numpy()\n",
    "\n",
    "    return probs"
   ]
  },
  {
   "cell_type": "code",
   "execution_count": 98,
   "id": "dfc42673",
   "metadata": {},
   "outputs": [],
   "source": [
    "# Compute predicted probabilities on the test set\n",
    "probs = bert_predict(bert_classifier, val_dataloader)"
   ]
  },
  {
   "cell_type": "code",
   "execution_count": 99,
   "id": "3920b724",
   "metadata": {
    "scrolled": true
   },
   "outputs": [
    {
     "data": {
      "text/plain": [
       "array([[0.7305889 , 0.26941112],\n",
       "       [0.03937979, 0.96062016],\n",
       "       [0.08573245, 0.9142676 ],\n",
       "       [0.11009125, 0.88990873],\n",
       "       [0.9706799 , 0.02932009],\n",
       "       [0.951417  , 0.04858299],\n",
       "       [0.13682504, 0.863175  ],\n",
       "       [0.9779449 , 0.02205505],\n",
       "       [0.6223149 , 0.3776851 ],\n",
       "       [0.94927883, 0.05072121],\n",
       "       [0.9773991 , 0.02260088],\n",
       "       [0.9709551 , 0.02904493],\n",
       "       [0.97588354, 0.02411643],\n",
       "       [0.06954508, 0.93045497],\n",
       "       [0.973725  , 0.02627495],\n",
       "       [0.5291761 , 0.47082388],\n",
       "       [0.94221425, 0.05778577],\n",
       "       [0.87077045, 0.12922955],\n",
       "       [0.9739497 , 0.0260503 ],\n",
       "       [0.96678126, 0.03321877],\n",
       "       [0.10069291, 0.8993071 ],\n",
       "       [0.8303992 , 0.16960078],\n",
       "       [0.9781033 , 0.02189672],\n",
       "       [0.637168  , 0.36283198],\n",
       "       [0.04411802, 0.95588195],\n",
       "       [0.05324589, 0.94675416],\n",
       "       [0.3891931 , 0.610807  ],\n",
       "       [0.97742   , 0.02258006],\n",
       "       [0.06092068, 0.93907934],\n",
       "       [0.3180477 , 0.6819523 ],\n",
       "       [0.9772931 , 0.02270685],\n",
       "       [0.9764617 , 0.02353828],\n",
       "       [0.9682357 , 0.03176427],\n",
       "       [0.11929466, 0.8807053 ],\n",
       "       [0.9403908 , 0.05960911],\n",
       "       [0.07291664, 0.9270834 ],\n",
       "       [0.04307756, 0.9569225 ],\n",
       "       [0.07043106, 0.929569  ],\n",
       "       [0.9669613 , 0.03303871],\n",
       "       [0.8176201 , 0.1823799 ],\n",
       "       [0.75397694, 0.24602307],\n",
       "       [0.08976915, 0.9102308 ],\n",
       "       [0.74047256, 0.25952736],\n",
       "       [0.0936153 , 0.90638465],\n",
       "       [0.9756378 , 0.02436216],\n",
       "       [0.24329227, 0.7567078 ],\n",
       "       [0.9534882 , 0.04651182],\n",
       "       [0.51860696, 0.481393  ],\n",
       "       [0.04938306, 0.95061696],\n",
       "       [0.43904814, 0.5609519 ],\n",
       "       [0.97433645, 0.0256636 ],\n",
       "       [0.95913005, 0.04086997],\n",
       "       [0.10508507, 0.894915  ],\n",
       "       [0.96010333, 0.03989671],\n",
       "       [0.0397288 , 0.9602711 ],\n",
       "       [0.7530351 , 0.24696486],\n",
       "       [0.85513365, 0.14486632],\n",
       "       [0.30258253, 0.6974175 ],\n",
       "       [0.10183397, 0.89816606],\n",
       "       [0.9742664 , 0.02573356],\n",
       "       [0.50497836, 0.49502158],\n",
       "       [0.9430381 , 0.05696182],\n",
       "       [0.05948489, 0.94051516],\n",
       "       [0.97399986, 0.02600016],\n",
       "       [0.9294914 , 0.07050855],\n",
       "       [0.39293644, 0.60706353],\n",
       "       [0.42808527, 0.57191473],\n",
       "       [0.31720626, 0.68279374],\n",
       "       [0.04835856, 0.95164144],\n",
       "       [0.56521183, 0.43478817],\n",
       "       [0.6434628 , 0.3565372 ],\n",
       "       [0.05638995, 0.94361   ],\n",
       "       [0.05121764, 0.9487824 ],\n",
       "       [0.0736261 , 0.92637384],\n",
       "       [0.08284421, 0.9171558 ],\n",
       "       [0.21653044, 0.7834695 ],\n",
       "       [0.8321625 , 0.16783756],\n",
       "       [0.72411656, 0.2758834 ],\n",
       "       [0.903666  , 0.09633401],\n",
       "       [0.60492104, 0.39507902],\n",
       "       [0.05476129, 0.9452387 ],\n",
       "       [0.04953112, 0.95046884],\n",
       "       [0.03706638, 0.96293366],\n",
       "       [0.7265601 , 0.2734399 ],\n",
       "       [0.04012707, 0.95987296],\n",
       "       [0.21186775, 0.7881322 ],\n",
       "       [0.94031656, 0.05968346],\n",
       "       [0.20481925, 0.79518074],\n",
       "       [0.9774021 , 0.02259791],\n",
       "       [0.11219641, 0.8878036 ],\n",
       "       [0.9529382 , 0.04706182],\n",
       "       [0.72773534, 0.2722647 ],\n",
       "       [0.08917702, 0.910823  ],\n",
       "       [0.9578197 , 0.04218034],\n",
       "       [0.9489474 , 0.05105261],\n",
       "       [0.9318166 , 0.06818343],\n",
       "       [0.7316014 , 0.26839852],\n",
       "       [0.9676101 , 0.03238985],\n",
       "       [0.09147711, 0.9085229 ],\n",
       "       [0.7258413 , 0.2741587 ],\n",
       "       [0.9782437 , 0.02175628],\n",
       "       [0.97348624, 0.02651374],\n",
       "       [0.9764755 , 0.02352446],\n",
       "       [0.851137  , 0.148863  ],\n",
       "       [0.93266   , 0.06733999],\n",
       "       [0.1693085 , 0.8306915 ],\n",
       "       [0.05570227, 0.9442977 ],\n",
       "       [0.03322716, 0.96677285],\n",
       "       [0.09745737, 0.9025426 ],\n",
       "       [0.20177668, 0.7982233 ],\n",
       "       [0.96683973, 0.0331603 ],\n",
       "       [0.07316379, 0.9268362 ],\n",
       "       [0.9727312 , 0.02726886],\n",
       "       [0.32124695, 0.6787531 ],\n",
       "       [0.292409  , 0.70759106],\n",
       "       [0.03304179, 0.9669582 ],\n",
       "       [0.63338464, 0.36661538],\n",
       "       [0.54299057, 0.4570094 ],\n",
       "       [0.9751947 , 0.02480537],\n",
       "       [0.0357107 , 0.9642893 ],\n",
       "       [0.34801388, 0.6519861 ],\n",
       "       [0.93952835, 0.06047167],\n",
       "       [0.97670615, 0.02329387],\n",
       "       [0.9710463 , 0.02895368],\n",
       "       [0.77508533, 0.2249147 ],\n",
       "       [0.03906741, 0.96093255],\n",
       "       [0.1460732 , 0.8539268 ],\n",
       "       [0.04571493, 0.95428514],\n",
       "       [0.6012698 , 0.3987302 ],\n",
       "       [0.04538305, 0.95461696],\n",
       "       [0.8185287 , 0.18147133],\n",
       "       [0.253746  , 0.74625397],\n",
       "       [0.9786114 , 0.02138855],\n",
       "       [0.14944342, 0.8505566 ],\n",
       "       [0.9777174 , 0.02228255],\n",
       "       [0.9097709 , 0.09022917],\n",
       "       [0.9777559 , 0.02224405],\n",
       "       [0.04737988, 0.95262015],\n",
       "       [0.05104421, 0.94895583],\n",
       "       [0.04975728, 0.95024276],\n",
       "       [0.05498061, 0.94501936],\n",
       "       [0.97929764, 0.02070231],\n",
       "       [0.94646007, 0.05353995],\n",
       "       [0.9615124 , 0.03848765],\n",
       "       [0.10438848, 0.89561146],\n",
       "       [0.08342826, 0.9165717 ],\n",
       "       [0.80181754, 0.19818242],\n",
       "       [0.03699818, 0.96300185],\n",
       "       [0.31885347, 0.68114656],\n",
       "       [0.18329994, 0.81670004],\n",
       "       [0.6357359 , 0.36426404],\n",
       "       [0.97825193, 0.02174807],\n",
       "       [0.16110352, 0.83889645],\n",
       "       [0.4253057 , 0.5746943 ],\n",
       "       [0.45236132, 0.5476387 ],\n",
       "       [0.21022615, 0.7897738 ],\n",
       "       [0.62376404, 0.37623605],\n",
       "       [0.06921061, 0.93078935],\n",
       "       [0.03333493, 0.966665  ],\n",
       "       [0.83938897, 0.16061111],\n",
       "       [0.9762432 , 0.02375684],\n",
       "       [0.94786394, 0.05213605],\n",
       "       [0.21322703, 0.78677297],\n",
       "       [0.07937808, 0.9206219 ],\n",
       "       [0.93880355, 0.06119646],\n",
       "       [0.86963797, 0.13036206],\n",
       "       [0.08132026, 0.9186797 ],\n",
       "       [0.91023576, 0.08976429],\n",
       "       [0.11163606, 0.888364  ],\n",
       "       [0.05264869, 0.9473513 ],\n",
       "       [0.97628003, 0.02372002],\n",
       "       [0.81068695, 0.18931305],\n",
       "       [0.06688514, 0.9331148 ],\n",
       "       [0.12080575, 0.87919426],\n",
       "       [0.10817579, 0.8918242 ],\n",
       "       [0.97875285, 0.02124709],\n",
       "       [0.97627765, 0.0237224 ],\n",
       "       [0.14737535, 0.85262465],\n",
       "       [0.9746206 , 0.02537942],\n",
       "       [0.9417456 , 0.05825442],\n",
       "       [0.97353756, 0.02646248],\n",
       "       [0.52339   , 0.47660998],\n",
       "       [0.04313097, 0.95686907],\n",
       "       [0.66570336, 0.33429667],\n",
       "       [0.97371495, 0.02628507],\n",
       "       [0.533733  , 0.466267  ],\n",
       "       [0.6653411 , 0.33465895],\n",
       "       [0.06337981, 0.9366202 ],\n",
       "       [0.97130156, 0.02869849],\n",
       "       [0.9738773 , 0.02612266],\n",
       "       [0.9563194 , 0.04368057],\n",
       "       [0.08624875, 0.9137513 ],\n",
       "       [0.54637706, 0.4536229 ],\n",
       "       [0.03312756, 0.9668725 ],\n",
       "       [0.9259264 , 0.07407361],\n",
       "       [0.9625433 , 0.03745669],\n",
       "       [0.8784916 , 0.12150846],\n",
       "       [0.9217086 , 0.07829148],\n",
       "       [0.16028418, 0.8397158 ],\n",
       "       [0.32269546, 0.6773045 ],\n",
       "       [0.03643917, 0.9635608 ],\n",
       "       [0.15181527, 0.8481847 ],\n",
       "       [0.84344214, 0.15655787],\n",
       "       [0.9759818 , 0.0240183 ],\n",
       "       [0.87448186, 0.12551811],\n",
       "       [0.07170322, 0.9282968 ],\n",
       "       [0.03589422, 0.9641057 ],\n",
       "       [0.04563281, 0.9543672 ],\n",
       "       [0.0874452 , 0.9125548 ],\n",
       "       [0.03910338, 0.9608966 ],\n",
       "       [0.65535027, 0.34464976],\n",
       "       [0.24702683, 0.75297314],\n",
       "       [0.53212696, 0.46787307],\n",
       "       [0.11221164, 0.8877883 ],\n",
       "       [0.09482358, 0.9051764 ],\n",
       "       [0.03290332, 0.9670966 ],\n",
       "       [0.06465343, 0.93534654],\n",
       "       [0.13486311, 0.8651369 ],\n",
       "       [0.88823026, 0.11176982],\n",
       "       [0.97497344, 0.02502652],\n",
       "       [0.9547079 , 0.04529211],\n",
       "       [0.96510524, 0.03489478],\n",
       "       [0.97558457, 0.02441536],\n",
       "       [0.15541983, 0.84458023],\n",
       "       [0.11109915, 0.8889009 ],\n",
       "       [0.9666654 , 0.03333468],\n",
       "       [0.04301585, 0.9569841 ],\n",
       "       [0.97559434, 0.02440564],\n",
       "       [0.34710565, 0.6528944 ],\n",
       "       [0.1884786 , 0.8115215 ],\n",
       "       [0.97049665, 0.02950334],\n",
       "       [0.9172035 , 0.08279651],\n",
       "       [0.14170523, 0.8582947 ],\n",
       "       [0.6266524 , 0.37334758],\n",
       "       [0.04428829, 0.95571166],\n",
       "       [0.03457763, 0.96542233],\n",
       "       [0.38557723, 0.61442274],\n",
       "       [0.93786985, 0.06213015],\n",
       "       [0.9440063 , 0.05599369],\n",
       "       [0.06708232, 0.93291765],\n",
       "       [0.45050165, 0.5494984 ],\n",
       "       [0.54732984, 0.45267022],\n",
       "       [0.8923354 , 0.10766458],\n",
       "       [0.9632625 , 0.03673755],\n",
       "       [0.78434944, 0.21565059],\n",
       "       [0.9642593 , 0.03574063],\n",
       "       [0.6341445 , 0.3658555 ],\n",
       "       [0.97530043, 0.02469955],\n",
       "       [0.03928943, 0.9607106 ],\n",
       "       [0.04653801, 0.95346195],\n",
       "       [0.29981273, 0.70018727],\n",
       "       [0.939001  , 0.06099901],\n",
       "       [0.9139048 , 0.08609524],\n",
       "       [0.14094895, 0.85905105],\n",
       "       [0.8771874 , 0.12281256],\n",
       "       [0.43021375, 0.56978625],\n",
       "       [0.4469994 , 0.55300057],\n",
       "       [0.26995516, 0.73004484],\n",
       "       [0.12389206, 0.87610793],\n",
       "       [0.95859236, 0.04140765],\n",
       "       [0.97696143, 0.02303854],\n",
       "       [0.96306175, 0.03693825],\n",
       "       [0.720824  , 0.27917606],\n",
       "       [0.05688756, 0.94311243],\n",
       "       [0.9779051 , 0.02209488],\n",
       "       [0.94461995, 0.05538001],\n",
       "       [0.39179248, 0.6082075 ],\n",
       "       [0.9644292 , 0.03557077],\n",
       "       [0.9294948 , 0.07050513],\n",
       "       [0.05005387, 0.94994617],\n",
       "       [0.33199388, 0.6680061 ],\n",
       "       [0.5981284 , 0.40187168],\n",
       "       [0.4326091 , 0.5673909 ],\n",
       "       [0.9684567 , 0.03154333],\n",
       "       [0.04371037, 0.95628965],\n",
       "       [0.64226276, 0.35773727],\n",
       "       [0.34831706, 0.6516829 ],\n",
       "       [0.97824425, 0.02175567],\n",
       "       [0.11246852, 0.8875315 ],\n",
       "       [0.7722711 , 0.22772892],\n",
       "       [0.51985437, 0.48014563],\n",
       "       [0.8319714 , 0.1680286 ],\n",
       "       [0.15674207, 0.84325796],\n",
       "       [0.8889341 , 0.11106588],\n",
       "       [0.14757718, 0.85242283],\n",
       "       [0.9757479 , 0.02425213],\n",
       "       [0.07614005, 0.92385995],\n",
       "       [0.933725  , 0.06627495],\n",
       "       [0.15311536, 0.8468846 ],\n",
       "       [0.93242043, 0.06757962],\n",
       "       [0.96802515, 0.03197487],\n",
       "       [0.05366467, 0.9463354 ],\n",
       "       [0.23701674, 0.76298326],\n",
       "       [0.9457704 , 0.05422964],\n",
       "       [0.96806407, 0.03193596],\n",
       "       [0.05593804, 0.944062  ],\n",
       "       [0.03937075, 0.9606292 ],\n",
       "       [0.9782103 , 0.02178968],\n",
       "       [0.09159684, 0.90840316],\n",
       "       [0.91414505, 0.08585493],\n",
       "       [0.6157524 , 0.38424763],\n",
       "       [0.07902092, 0.9209791 ],\n",
       "       [0.6161209 , 0.38387915],\n",
       "       [0.04789785, 0.9521021 ],\n",
       "       [0.97734535, 0.02265462],\n",
       "       [0.8965933 , 0.10340679],\n",
       "       [0.32322386, 0.6767762 ],\n",
       "       [0.97801125, 0.02198874],\n",
       "       [0.20506941, 0.7949306 ],\n",
       "       [0.05639958, 0.9436005 ],\n",
       "       [0.11861645, 0.8813836 ],\n",
       "       [0.96680933, 0.03319063],\n",
       "       [0.20002808, 0.79997194],\n",
       "       [0.9785089 , 0.02149107],\n",
       "       [0.03877816, 0.9612218 ],\n",
       "       [0.88181895, 0.118181  ],\n",
       "       [0.56655115, 0.43344888],\n",
       "       [0.48429516, 0.5157048 ],\n",
       "       [0.9702948 , 0.02970516],\n",
       "       [0.21628898, 0.78371096],\n",
       "       [0.50940186, 0.49059817],\n",
       "       [0.5995113 , 0.40048873],\n",
       "       [0.55835575, 0.44164428],\n",
       "       [0.7201698 , 0.27983028],\n",
       "       [0.9446652 , 0.05533485],\n",
       "       [0.0649792 , 0.93502074],\n",
       "       [0.9727533 , 0.02724675],\n",
       "       [0.97128177, 0.02871819],\n",
       "       [0.9779284 , 0.02207165],\n",
       "       [0.14332166, 0.85667837],\n",
       "       [0.93106276, 0.06893726],\n",
       "       [0.97617525, 0.02382471],\n",
       "       [0.9518382 , 0.04816184],\n",
       "       [0.11939941, 0.8806006 ],\n",
       "       [0.93276215, 0.0672378 ],\n",
       "       [0.15438314, 0.8456169 ],\n",
       "       [0.8071357 , 0.19286436],\n",
       "       [0.04641442, 0.9535855 ],\n",
       "       [0.63795567, 0.36204433],\n",
       "       [0.9388232 , 0.06117676]], dtype=float32)"
      ]
     },
     "execution_count": 99,
     "metadata": {},
     "output_type": "execute_result"
    }
   ],
   "source": [
    "probs"
   ]
  },
  {
   "cell_type": "markdown",
   "id": "a699efc1",
   "metadata": {},
   "source": [
    "# Real - Time Test"
   ]
  },
  {
   "cell_type": "code",
   "execution_count": 144,
   "id": "5ee9e0c0",
   "metadata": {},
   "outputs": [
    {
     "name": "stdout",
     "output_type": "stream",
     "text": [
      "Tokenizing data...\n"
     ]
    }
   ],
   "source": [
    "# Run `preprocessing_for_bert` on the test set\n",
    "print('Tokenizing data...')\n",
    "example = \"This is very good movie , i invested my money on this movie\"\n",
    "test_inputs, test_masks = preprocessing_for_bert([example])\n",
    "\n",
    "# Create the DataLoader for our test set\n",
    "test_dataset = TensorDataset(test_inputs, test_masks)\n",
    "test_sampler = SequentialSampler(test_dataset)\n",
    "test_dataloader = DataLoader(test_dataset, sampler=test_sampler, batch_size=32)"
   ]
  },
  {
   "cell_type": "code",
   "execution_count": 142,
   "id": "2cc13d14",
   "metadata": {},
   "outputs": [
    {
     "data": {
      "text/plain": [
       "torch.Size([1, 64])"
      ]
     },
     "execution_count": 142,
     "metadata": {},
     "output_type": "execute_result"
    }
   ],
   "source": [
    "test_inputs.shape"
   ]
  },
  {
   "cell_type": "code",
   "execution_count": 143,
   "id": "5e6681a9",
   "metadata": {},
   "outputs": [
    {
     "data": {
      "text/plain": [
       "1"
      ]
     },
     "execution_count": 143,
     "metadata": {},
     "output_type": "execute_result"
    }
   ],
   "source": [
    "bert_predict(bert_classifier, test_dataloader).argmax()"
   ]
  },
  {
   "cell_type": "code",
   "execution_count": 145,
   "id": "bc65d354",
   "metadata": {},
   "outputs": [
    {
     "data": {
      "text/plain": [
       "tensor([[1, 1, 1, 1, 1, 1, 1, 1, 1, 1, 1, 1, 1, 1, 1, 0, 0, 0, 0, 0, 0, 0, 0, 0,\n",
       "         0, 0, 0, 0, 0, 0, 0, 0, 0, 0, 0, 0, 0, 0, 0, 0, 0, 0, 0, 0, 0, 0, 0, 0,\n",
       "         0, 0, 0, 0, 0, 0, 0, 0, 0, 0, 0, 0, 0, 0, 0, 0]])"
      ]
     },
     "execution_count": 145,
     "metadata": {},
     "output_type": "execute_result"
    }
   ],
   "source": [
    "test_masks"
   ]
  },
  {
   "cell_type": "code",
   "execution_count": 146,
   "id": "6f105f1b",
   "metadata": {},
   "outputs": [
    {
     "data": {
      "text/plain": [
       "tensor([[  101,  2023,  2003,  2200,  2204,  3185,  1010,  1045, 11241,  2026,\n",
       "          2769,  2006,  2023,  3185,   102,     0,     0,     0,     0,     0,\n",
       "             0,     0,     0,     0,     0,     0,     0,     0,     0,     0,\n",
       "             0,     0,     0,     0,     0,     0,     0,     0,     0,     0,\n",
       "             0,     0,     0,     0,     0,     0,     0,     0,     0,     0,\n",
       "             0,     0,     0,     0,     0,     0,     0,     0,     0,     0,\n",
       "             0,     0,     0,     0]])"
      ]
     },
     "execution_count": 146,
     "metadata": {},
     "output_type": "execute_result"
    }
   ],
   "source": [
    "test_inputs"
   ]
  }
 ],
 "metadata": {
  "kernelspec": {
   "display_name": "Python 3 (ipykernel)",
   "language": "python",
   "name": "python3"
  },
  "language_info": {
   "codemirror_mode": {
    "name": "ipython",
    "version": 3
   },
   "file_extension": ".py",
   "mimetype": "text/x-python",
   "name": "python",
   "nbconvert_exporter": "python",
   "pygments_lexer": "ipython3",
   "version": "3.9.12"
  }
 },
 "nbformat": 4,
 "nbformat_minor": 5
}
