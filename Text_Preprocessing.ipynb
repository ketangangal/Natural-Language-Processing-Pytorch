{
 "cells": [
  {
   "cell_type": "code",
   "execution_count": 1,
   "id": "93c9bdc0",
   "metadata": {},
   "outputs": [],
   "source": [
    "# Step1 -> LowerCase all docs \n",
    "import pandas as pd\n",
    "import numpy as np "
   ]
  },
  {
   "cell_type": "code",
   "execution_count": 2,
   "id": "866f7e78",
   "metadata": {},
   "outputs": [],
   "source": [
    "df = pd.read_csv('Data.csv')"
   ]
  },
  {
   "cell_type": "code",
   "execution_count": 18,
   "id": "246180e6",
   "metadata": {},
   "outputs": [
    {
     "data": {
      "text/html": [
       "<div>\n",
       "<style scoped>\n",
       "    .dataframe tbody tr th:only-of-type {\n",
       "        vertical-align: middle;\n",
       "    }\n",
       "\n",
       "    .dataframe tbody tr th {\n",
       "        vertical-align: top;\n",
       "    }\n",
       "\n",
       "    .dataframe thead th {\n",
       "        text-align: right;\n",
       "    }\n",
       "</style>\n",
       "<table border=\"1\" class=\"dataframe\">\n",
       "  <thead>\n",
       "    <tr style=\"text-align: right;\">\n",
       "      <th></th>\n",
       "      <th>review</th>\n",
       "      <th>sentiment</th>\n",
       "    </tr>\n",
       "  </thead>\n",
       "  <tbody>\n",
       "    <tr>\n",
       "      <th>0</th>\n",
       "      <td>One of the other reviewers has mentioned that ...</td>\n",
       "      <td>positive</td>\n",
       "    </tr>\n",
       "    <tr>\n",
       "      <th>1</th>\n",
       "      <td>A wonderful little production. &lt;br /&gt;&lt;br /&gt;The...</td>\n",
       "      <td>positive</td>\n",
       "    </tr>\n",
       "    <tr>\n",
       "      <th>2</th>\n",
       "      <td>I thought this was a wonderful way to spend ti...</td>\n",
       "      <td>positive</td>\n",
       "    </tr>\n",
       "    <tr>\n",
       "      <th>3</th>\n",
       "      <td>Basically there's a family where a little boy ...</td>\n",
       "      <td>negative</td>\n",
       "    </tr>\n",
       "    <tr>\n",
       "      <th>4</th>\n",
       "      <td>Petter Mattei's \"Love in the Time of Money\" is...</td>\n",
       "      <td>positive</td>\n",
       "    </tr>\n",
       "  </tbody>\n",
       "</table>\n",
       "</div>"
      ],
      "text/plain": [
       "                                              review sentiment\n",
       "0  One of the other reviewers has mentioned that ...  positive\n",
       "1  A wonderful little production. <br /><br />The...  positive\n",
       "2  I thought this was a wonderful way to spend ti...  positive\n",
       "3  Basically there's a family where a little boy ...  negative\n",
       "4  Petter Mattei's \"Love in the Time of Money\" is...  positive"
      ]
     },
     "execution_count": 18,
     "metadata": {},
     "output_type": "execute_result"
    }
   ],
   "source": [
    "df.head()"
   ]
  },
  {
   "cell_type": "code",
   "execution_count": 10,
   "id": "40726264",
   "metadata": {},
   "outputs": [
    {
     "data": {
      "text/plain": [
       "'petter mattei\\'s \"love in the time of money\" is a visually stunning film to watch. mr. mattei offers us a vivid portrait about human relations. this is a movie that seems to be telling us what money, power and success do to people in the different situations we encounter. <br /><br />this being a variation on the arthur schnitzler\\'s play about the same theme, the director transfers the action to the present time new york where all these different characters meet and connect. each one is connected in one way, or another to the next person, but no one seems to know the previous point of contact. stylishly, the film has a sophisticated luxurious look. we are taken to see how these people live and the world they live in their own habitat.<br /><br />the only thing one gets out of all these souls in the picture is the different stages of loneliness each one inhabits. a big city is not exactly the best place in which human relations find sincere fulfillment, as one discerns is the case with most of the people we encounter.<br /><br />the acting is good under mr. mattei\\'s direction. steve buscemi, rosario dawson, carol kane, michael imperioli, adrian grenier, and the rest of the talented cast, make these characters come alive.<br /><br />we wish mr. mattei good luck and await anxiously for his next work.'"
      ]
     },
     "execution_count": 10,
     "metadata": {},
     "output_type": "execute_result"
    }
   ],
   "source": [
    "# Lower casing is important for unification\n",
    "df['review'][4].lower()"
   ]
  },
  {
   "cell_type": "code",
   "execution_count": 19,
   "id": "cb688833",
   "metadata": {},
   "outputs": [],
   "source": [
    "df['review'] = df['review'].apply(lambda x: x.lower())\n",
    "df['sentiment'] = df['sentiment'].apply(lambda x: x.lower())"
   ]
  },
  {
   "cell_type": "code",
   "execution_count": 21,
   "id": "27a5ea5b",
   "metadata": {},
   "outputs": [
    {
     "data": {
      "text/html": [
       "<div>\n",
       "<style scoped>\n",
       "    .dataframe tbody tr th:only-of-type {\n",
       "        vertical-align: middle;\n",
       "    }\n",
       "\n",
       "    .dataframe tbody tr th {\n",
       "        vertical-align: top;\n",
       "    }\n",
       "\n",
       "    .dataframe thead th {\n",
       "        text-align: right;\n",
       "    }\n",
       "</style>\n",
       "<table border=\"1\" class=\"dataframe\">\n",
       "  <thead>\n",
       "    <tr style=\"text-align: right;\">\n",
       "      <th></th>\n",
       "      <th>review</th>\n",
       "      <th>sentiment</th>\n",
       "    </tr>\n",
       "  </thead>\n",
       "  <tbody>\n",
       "    <tr>\n",
       "      <th>0</th>\n",
       "      <td>one of the other reviewers has mentioned that ...</td>\n",
       "      <td>positive</td>\n",
       "    </tr>\n",
       "    <tr>\n",
       "      <th>1</th>\n",
       "      <td>a wonderful little production. &lt;br /&gt;&lt;br /&gt;the...</td>\n",
       "      <td>positive</td>\n",
       "    </tr>\n",
       "    <tr>\n",
       "      <th>2</th>\n",
       "      <td>i thought this was a wonderful way to spend ti...</td>\n",
       "      <td>positive</td>\n",
       "    </tr>\n",
       "    <tr>\n",
       "      <th>3</th>\n",
       "      <td>basically there's a family where a little boy ...</td>\n",
       "      <td>negative</td>\n",
       "    </tr>\n",
       "    <tr>\n",
       "      <th>4</th>\n",
       "      <td>petter mattei's \"love in the time of money\" is...</td>\n",
       "      <td>positive</td>\n",
       "    </tr>\n",
       "  </tbody>\n",
       "</table>\n",
       "</div>"
      ],
      "text/plain": [
       "                                              review sentiment\n",
       "0  one of the other reviewers has mentioned that ...  positive\n",
       "1  a wonderful little production. <br /><br />the...  positive\n",
       "2  i thought this was a wonderful way to spend ti...  positive\n",
       "3  basically there's a family where a little boy ...  negative\n",
       "4  petter mattei's \"love in the time of money\" is...  positive"
      ]
     },
     "execution_count": 21,
     "metadata": {},
     "output_type": "execute_result"
    }
   ],
   "source": [
    "df.head()"
   ]
  },
  {
   "cell_type": "code",
   "execution_count": 34,
   "id": "1eb50ce7",
   "metadata": {},
   "outputs": [],
   "source": [
    "# Step 2  Remove Html tags (User Regex)\n",
    "import re \n",
    "\n",
    "def remove_html_tags(txt):\n",
    "    pattern = re.compile('<.*?>')\n",
    "    return pattern.sub(r'',txt)"
   ]
  },
  {
   "cell_type": "code",
   "execution_count": 35,
   "id": "e1d9982b",
   "metadata": {},
   "outputs": [],
   "source": [
    "df['review'] = df['review'].apply(lambda x: remove_html_tags(x))"
   ]
  },
  {
   "cell_type": "code",
   "execution_count": 36,
   "id": "646923da",
   "metadata": {},
   "outputs": [
    {
     "data": {
      "text/plain": [
       "\"one of the other reviewers has mentioned that after watching just 1 oz episode you'll be hooked. they are right, as this is exactly what happened with me.the first thing that struck me about oz was its brutality and unflinching scenes of violence, which set in right from the word go. trust me, this is not a show for the faint hearted or timid. this show pulls no punches with regards to drugs, sex or violence. its is hardcore, in the classic use of the word.it is called oz as that is the nickname given to the oswald maximum security state penitentary. it focuses mainly on emerald city, an experimental section of the prison where all the cells have glass fronts and face inwards, so privacy is not high on the agenda. em city is home to many..aryans, muslims, gangstas, latinos, christians, italians, irish and more....so scuffles, death stares, dodgy dealings and shady agreements are never far away.i would say the main appeal of the show is due to the fact that it goes where other shows wouldn't dare. forget pretty pictures painted for mainstream audiences, forget charm, forget romance...oz doesn't mess around. the first episode i ever saw struck me as so nasty it was surreal, i couldn't say i was ready for it, but as i watched more, i developed a taste for oz, and got accustomed to the high levels of graphic violence. not just violence, but injustice (crooked guards who'll be sold out for a nickel, inmates who'll kill on order and get away with it, well mannered, middle class inmates being turned into prison bitches due to their lack of street skills or prison experience) watching oz, you may become comfortable with what is uncomfortable viewing....thats if you can get in touch with your darker side.\""
      ]
     },
     "execution_count": 36,
     "metadata": {},
     "output_type": "execute_result"
    }
   ],
   "source": [
    "df['review'][0]"
   ]
  },
  {
   "cell_type": "code",
   "execution_count": 39,
   "id": "c99b2eed",
   "metadata": {},
   "outputs": [],
   "source": [
    "# Step 3 Remove Links\n",
    "def remove_links(txt):\n",
    "    return re.sub(r'^https?:\\/\\/.*[\\r\\n]*', '', txt, flags=re.MULTILINE)"
   ]
  },
  {
   "cell_type": "code",
   "execution_count": 40,
   "id": "9a5d73ef",
   "metadata": {},
   "outputs": [],
   "source": [
    "df['review'] = df['review'].apply(lambda x: remove_links(x))"
   ]
  },
  {
   "cell_type": "code",
   "execution_count": 88,
   "id": "ef6539c6",
   "metadata": {},
   "outputs": [],
   "source": [
    "# Step 4 Remove Punctuation "
   ]
  },
  {
   "cell_type": "code",
   "execution_count": 89,
   "id": "fcad7b62",
   "metadata": {},
   "outputs": [
    {
     "data": {
      "text/plain": [
       "'i thought this was a wonderful way to spend time on a too hot summer weekend, sitting in the air conditioned theater and watching a light-hearted comedy. the plot is simplistic, but the dialogue is witty and the characters are likable (even the well bread suspected serial killer). while some may be disappointed when they realize this is not match point 2: risk addiction, i thought it was proof that woody allen is still fully in control of the style many of us have grown to love.this was the most i\\'d laughed at one of woody\\'s comedies in years (dare i say a decade?). while i\\'ve never been impressed with scarlet johanson, in this she managed to tone down her \"sexy\" image and jumped right into a average, but spirited young woman.this may not be the crown jewel of his career, but it was wittier than \"devil wears prada\" and more interesting than \"superman\" a great comedy to go see with friends.'"
      ]
     },
     "execution_count": 89,
     "metadata": {},
     "output_type": "execute_result"
    }
   ],
   "source": [
    "df['review'][2]"
   ]
  },
  {
   "cell_type": "code",
   "execution_count": 90,
   "id": "83203654",
   "metadata": {},
   "outputs": [],
   "source": [
    "import string, time"
   ]
  },
  {
   "cell_type": "code",
   "execution_count": 112,
   "id": "c8a6772b",
   "metadata": {},
   "outputs": [
    {
     "data": {
      "text/plain": [
       "'i thought this was a wonderful way to spend time on a too hot summer weekend sitting in the air conditioned theater and watching a lighthearted comedy the plot is simplistic but the dialogue is witty and the characters are likable even the well bread suspected serial killer while some may be disappointed when they realize this is not match point 2 risk addiction i thought it was proof that woody allen is still fully in control of the style many of us have grown to lovethis was the most id laughed at one of woodys comedies in years dare i say a decade while ive never been impressed with scarlet johanson in this she managed to tone down her sexy image and jumped right into a average but spirited young womanthis may not be the crown jewel of his career but it was wittier than devil wears prada and more interesting than superman a great comedy to go see with friends'"
      ]
     },
     "execution_count": 112,
     "metadata": {},
     "output_type": "execute_result"
    }
   ],
   "source": [
    "data = data.translate(str.maketrans('','',string.punctuation))\n",
    "data"
   ]
  },
  {
   "cell_type": "code",
   "execution_count": 99,
   "id": "e483c0e9",
   "metadata": {},
   "outputs": [],
   "source": [
    "def remove_punc(txt):\n",
    "    return txt.translate(str.maketrans('','',string.punctuation))"
   ]
  },
  {
   "cell_type": "code",
   "execution_count": 103,
   "id": "5c45b6b5",
   "metadata": {},
   "outputs": [],
   "source": [
    "df['review'] = df['review'].apply(lambda x: remove_punc(x))"
   ]
  },
  {
   "cell_type": "code",
   "execution_count": 104,
   "id": "5563a024",
   "metadata": {},
   "outputs": [
    {
     "data": {
      "text/html": [
       "<div>\n",
       "<style scoped>\n",
       "    .dataframe tbody tr th:only-of-type {\n",
       "        vertical-align: middle;\n",
       "    }\n",
       "\n",
       "    .dataframe tbody tr th {\n",
       "        vertical-align: top;\n",
       "    }\n",
       "\n",
       "    .dataframe thead th {\n",
       "        text-align: right;\n",
       "    }\n",
       "</style>\n",
       "<table border=\"1\" class=\"dataframe\">\n",
       "  <thead>\n",
       "    <tr style=\"text-align: right;\">\n",
       "      <th></th>\n",
       "      <th>review</th>\n",
       "      <th>sentiment</th>\n",
       "    </tr>\n",
       "  </thead>\n",
       "  <tbody>\n",
       "    <tr>\n",
       "      <th>0</th>\n",
       "      <td>one of the other reviewers has mentioned that ...</td>\n",
       "      <td>positive</td>\n",
       "    </tr>\n",
       "    <tr>\n",
       "      <th>1</th>\n",
       "      <td>a wonderful little production the filming tech...</td>\n",
       "      <td>positive</td>\n",
       "    </tr>\n",
       "    <tr>\n",
       "      <th>2</th>\n",
       "      <td>i thought this was a wonderful way to spend ti...</td>\n",
       "      <td>positive</td>\n",
       "    </tr>\n",
       "    <tr>\n",
       "      <th>3</th>\n",
       "      <td>basically theres a family where a little boy j...</td>\n",
       "      <td>negative</td>\n",
       "    </tr>\n",
       "    <tr>\n",
       "      <th>4</th>\n",
       "      <td>petter matteis love in the time of money is a ...</td>\n",
       "      <td>positive</td>\n",
       "    </tr>\n",
       "  </tbody>\n",
       "</table>\n",
       "</div>"
      ],
      "text/plain": [
       "                                              review sentiment\n",
       "0  one of the other reviewers has mentioned that ...  positive\n",
       "1  a wonderful little production the filming tech...  positive\n",
       "2  i thought this was a wonderful way to spend ti...  positive\n",
       "3  basically theres a family where a little boy j...  negative\n",
       "4  petter matteis love in the time of money is a ...  positive"
      ]
     },
     "execution_count": 104,
     "metadata": {},
     "output_type": "execute_result"
    }
   ],
   "source": [
    "df.head()"
   ]
  },
  {
   "cell_type": "code",
   "execution_count": 105,
   "id": "072a9502",
   "metadata": {},
   "outputs": [],
   "source": [
    "# Step 5 remove slang , chat word treatment "
   ]
  },
  {
   "cell_type": "code",
   "execution_count": 109,
   "id": "2904e36f",
   "metadata": {},
   "outputs": [],
   "source": [
    "# Step 6 Spell Correction \n",
    "from textblob import TextBlob\n",
    "\n",
    "def spell_corrector(txt):\n",
    "    return TextBlob(txt).correct().string"
   ]
  },
  {
   "cell_type": "code",
   "execution_count": 113,
   "id": "d631763e",
   "metadata": {},
   "outputs": [
    {
     "data": {
      "text/plain": [
       "'i thought this was a wonderful way to spend time on a too hot summer weekend sitting in the air conditioned theater and watching a lighthearted comedy the plot is simplistic but the dialogue is witty and the characters are liable even the well bread suspected aerial killer while some may be disappointed when they realize this is not match point 2 risk addition i thought it was proof that wood allen is still fully in control of the style many of us have grown to lovethis was the most id laughed at one of woods remedies in years dare i say a decade while give never been impressed with scarlet johnson in this she managed to tone down her sex image and jumped right into a average but spirited young womanthis may not be the crown jewel of his career but it was whittier than devil wears trade and more interesting than sherman a great comedy to go see with friends'"
      ]
     },
     "execution_count": 113,
     "metadata": {},
     "output_type": "execute_result"
    }
   ],
   "source": [
    "spell_corrector(data)"
   ]
  },
  {
   "cell_type": "code",
   "execution_count": 116,
   "id": "b30e5bf3",
   "metadata": {},
   "outputs": [],
   "source": [
    "# Step 7 Remove Stop Words (Carefull for parts of speech tagging)"
   ]
  },
  {
   "cell_type": "code",
   "execution_count": 117,
   "id": "6bc8a501",
   "metadata": {},
   "outputs": [],
   "source": [
    "from nltk.corpus import stopwords"
   ]
  },
  {
   "cell_type": "code",
   "execution_count": 121,
   "id": "b25a516d",
   "metadata": {},
   "outputs": [
    {
     "name": "stderr",
     "output_type": "stream",
     "text": [
      "[nltk_data] Downloading package stopwords to\n",
      "[nltk_data]     C:\\Users\\win10\\AppData\\Roaming\\nltk_data...\n",
      "[nltk_data]   Package stopwords is already up-to-date!\n"
     ]
    },
    {
     "data": {
      "text/plain": [
       "True"
      ]
     },
     "execution_count": 121,
     "metadata": {},
     "output_type": "execute_result"
    }
   ],
   "source": [
    "nltk.download('stopwords')"
   ]
  },
  {
   "cell_type": "code",
   "execution_count": 129,
   "id": "f8e32639",
   "metadata": {},
   "outputs": [],
   "source": [
    "def remove_stopwords(txt):\n",
    "    data = txt.split()\n",
    "    new = []\n",
    "    for i in data:\n",
    "        if i not in stopwords.words('english'):\n",
    "            new.append(i)\n",
    "        \n",
    "    return \" \".join(new)"
   ]
  },
  {
   "cell_type": "code",
   "execution_count": 130,
   "id": "3e49050a",
   "metadata": {},
   "outputs": [
    {
     "data": {
      "text/plain": [
       "'thought wonderful way spend time hot summer weekend sitting air conditioned theater watching lighthearted comedy plot simplistic dialogue witty characters likable even well bread suspected serial killer may disappointed realize match point 2 risk addiction thought proof woody allen still fully control style many us grown lovethis id laughed one woodys comedies years dare say decade ive never impressed scarlet johanson managed tone sexy image jumped right average spirited young womanthis may crown jewel career wittier devil wears prada interesting superman great comedy go see friends'"
      ]
     },
     "execution_count": 130,
     "metadata": {},
     "output_type": "execute_result"
    }
   ],
   "source": [
    "remove_stopwords(data)"
   ]
  },
  {
   "cell_type": "code",
   "execution_count": 131,
   "id": "79c39c6f",
   "metadata": {},
   "outputs": [],
   "source": [
    "# Step 8 Handling Emojis\n",
    "    # Replace with mearning emoji module  \n",
    "    # Remove from text custom function "
   ]
  },
  {
   "cell_type": "code",
   "execution_count": 132,
   "id": "cb567799",
   "metadata": {},
   "outputs": [],
   "source": [
    "##########################################################################\n",
    "# Tokenization \n",
    " # -> I am an indian \n",
    "     # Word tokenization - > [I, am , an , Indian]\n",
    "     # sentence tokenization => [I am an indian, hello there, i am here]\n",
    "    \n",
    "#1. Split function\n",
    "#2. Regex \n",
    "#3. ntlk \n",
    "#4. Spacy \n"
   ]
  },
  {
   "cell_type": "code",
   "execution_count": 134,
   "id": "c62c981c",
   "metadata": {},
   "outputs": [
    {
     "data": {
      "text/plain": [
       "['i', 'thought', 'this', 'was', 'a', 'wonderful', 'way', 'to', 'spend', 'time']"
      ]
     },
     "execution_count": 134,
     "metadata": {},
     "output_type": "execute_result"
    }
   ],
   "source": [
    "data.split()[:10]"
   ]
  },
  {
   "cell_type": "code",
   "execution_count": 137,
   "id": "3647c688",
   "metadata": {},
   "outputs": [],
   "source": [
    "import nltk\n",
    "from nltk.tokenize import word_tokenize,sent_tokenize"
   ]
  },
  {
   "cell_type": "code",
   "execution_count": 138,
   "id": "00b25873",
   "metadata": {},
   "outputs": [
    {
     "name": "stderr",
     "output_type": "stream",
     "text": [
      "[nltk_data] Downloading package punkt to\n",
      "[nltk_data]     C:\\Users\\win10\\AppData\\Roaming\\nltk_data...\n",
      "[nltk_data]   Unzipping tokenizers\\punkt.zip.\n"
     ]
    },
    {
     "data": {
      "text/plain": [
       "True"
      ]
     },
     "execution_count": 138,
     "metadata": {},
     "output_type": "execute_result"
    }
   ],
   "source": [
    "nltk.download('punkt')"
   ]
  },
  {
   "cell_type": "code",
   "execution_count": 139,
   "id": "0ae48dea",
   "metadata": {},
   "outputs": [
    {
     "data": {
      "text/plain": [
       "['i thought this was a wonderful way to spend time on a too hot summer weekend sitting in the air conditioned theater and watching a lighthearted comedy the plot is simplistic but the dialogue is witty and the characters are likable even the well bread suspected serial killer while some may be disappointed when they realize this is not match point 2 risk addiction i thought it was proof that woody allen is still fully in control of the style many of us have grown to lovethis was the most id laughed at one of woodys comedies in years dare i say a decade while ive never been impressed with scarlet johanson in this she managed to tone down her sexy image and jumped right into a average but spirited young womanthis may not be the crown jewel of his career but it was wittier than devil wears prada and more interesting than superman a great comedy to go see with friends']"
      ]
     },
     "execution_count": 139,
     "metadata": {},
     "output_type": "execute_result"
    }
   ],
   "source": [
    "sent_tokenize(data)"
   ]
  },
  {
   "cell_type": "code",
   "execution_count": 140,
   "id": "6b6c64b5",
   "metadata": {},
   "outputs": [
    {
     "data": {
      "text/plain": [
       "['i',\n",
       " 'thought',\n",
       " 'this',\n",
       " 'was',\n",
       " 'a',\n",
       " 'wonderful',\n",
       " 'way',\n",
       " 'to',\n",
       " 'spend',\n",
       " 'time',\n",
       " 'on',\n",
       " 'a',\n",
       " 'too',\n",
       " 'hot',\n",
       " 'summer',\n",
       " 'weekend',\n",
       " 'sitting',\n",
       " 'in',\n",
       " 'the',\n",
       " 'air',\n",
       " 'conditioned',\n",
       " 'theater',\n",
       " 'and',\n",
       " 'watching',\n",
       " 'a',\n",
       " 'lighthearted',\n",
       " 'comedy',\n",
       " 'the',\n",
       " 'plot',\n",
       " 'is',\n",
       " 'simplistic',\n",
       " 'but',\n",
       " 'the',\n",
       " 'dialogue',\n",
       " 'is',\n",
       " 'witty',\n",
       " 'and',\n",
       " 'the',\n",
       " 'characters',\n",
       " 'are',\n",
       " 'likable',\n",
       " 'even',\n",
       " 'the',\n",
       " 'well',\n",
       " 'bread',\n",
       " 'suspected',\n",
       " 'serial',\n",
       " 'killer',\n",
       " 'while',\n",
       " 'some',\n",
       " 'may',\n",
       " 'be',\n",
       " 'disappointed',\n",
       " 'when',\n",
       " 'they',\n",
       " 'realize',\n",
       " 'this',\n",
       " 'is',\n",
       " 'not',\n",
       " 'match',\n",
       " 'point',\n",
       " '2',\n",
       " 'risk',\n",
       " 'addiction',\n",
       " 'i',\n",
       " 'thought',\n",
       " 'it',\n",
       " 'was',\n",
       " 'proof',\n",
       " 'that',\n",
       " 'woody',\n",
       " 'allen',\n",
       " 'is',\n",
       " 'still',\n",
       " 'fully',\n",
       " 'in',\n",
       " 'control',\n",
       " 'of',\n",
       " 'the',\n",
       " 'style',\n",
       " 'many',\n",
       " 'of',\n",
       " 'us',\n",
       " 'have',\n",
       " 'grown',\n",
       " 'to',\n",
       " 'lovethis',\n",
       " 'was',\n",
       " 'the',\n",
       " 'most',\n",
       " 'id',\n",
       " 'laughed',\n",
       " 'at',\n",
       " 'one',\n",
       " 'of',\n",
       " 'woodys',\n",
       " 'comedies',\n",
       " 'in',\n",
       " 'years',\n",
       " 'dare',\n",
       " 'i',\n",
       " 'say',\n",
       " 'a',\n",
       " 'decade',\n",
       " 'while',\n",
       " 'ive',\n",
       " 'never',\n",
       " 'been',\n",
       " 'impressed',\n",
       " 'with',\n",
       " 'scarlet',\n",
       " 'johanson',\n",
       " 'in',\n",
       " 'this',\n",
       " 'she',\n",
       " 'managed',\n",
       " 'to',\n",
       " 'tone',\n",
       " 'down',\n",
       " 'her',\n",
       " 'sexy',\n",
       " 'image',\n",
       " 'and',\n",
       " 'jumped',\n",
       " 'right',\n",
       " 'into',\n",
       " 'a',\n",
       " 'average',\n",
       " 'but',\n",
       " 'spirited',\n",
       " 'young',\n",
       " 'womanthis',\n",
       " 'may',\n",
       " 'not',\n",
       " 'be',\n",
       " 'the',\n",
       " 'crown',\n",
       " 'jewel',\n",
       " 'of',\n",
       " 'his',\n",
       " 'career',\n",
       " 'but',\n",
       " 'it',\n",
       " 'was',\n",
       " 'wittier',\n",
       " 'than',\n",
       " 'devil',\n",
       " 'wears',\n",
       " 'prada',\n",
       " 'and',\n",
       " 'more',\n",
       " 'interesting',\n",
       " 'than',\n",
       " 'superman',\n",
       " 'a',\n",
       " 'great',\n",
       " 'comedy',\n",
       " 'to',\n",
       " 'go',\n",
       " 'see',\n",
       " 'with',\n",
       " 'friends']"
      ]
     },
     "execution_count": 140,
     "metadata": {},
     "output_type": "execute_result"
    }
   ],
   "source": [
    "word_tokenize(data)"
   ]
  },
  {
   "cell_type": "code",
   "execution_count": 141,
   "id": "6cae128a",
   "metadata": {},
   "outputs": [],
   "source": [
    "# Stemming and lemmatization "
   ]
  },
  {
   "cell_type": "code",
   "execution_count": 142,
   "id": "622233c5",
   "metadata": {},
   "outputs": [],
   "source": [
    "from nltk.stem.porter import PorterStemmer"
   ]
  },
  {
   "cell_type": "code",
   "execution_count": 143,
   "id": "bb6344b3",
   "metadata": {},
   "outputs": [],
   "source": [
    "ps = PorterStemmer()\n",
    "def stemmer(txt):\n",
    "    return [ps.stem(word) for word in txt.split()]"
   ]
  },
  {
   "cell_type": "code",
   "execution_count": 145,
   "id": "586ada51",
   "metadata": {},
   "outputs": [
    {
     "data": {
      "text/plain": [
       "'i thought thi wa a wonder way to spend time on a too hot summer weekend sit in the air condit theater and watch a lightheart comedi the plot is simplist but the dialogu is witti and the charact are likabl even the well bread suspect serial killer while some may be disappoint when they realiz thi is not match point 2 risk addict i thought it wa proof that woodi allen is still fulli in control of the style mani of us have grown to lovethi wa the most id laugh at one of woodi comedi in year dare i say a decad while ive never been impress with scarlet johanson in thi she manag to tone down her sexi imag and jump right into a averag but spirit young womanthi may not be the crown jewel of hi career but it wa wittier than devil wear prada and more interest than superman a great comedi to go see with friend'"
      ]
     },
     "execution_count": 145,
     "metadata": {},
     "output_type": "execute_result"
    }
   ],
   "source": [
    "\" \".join(stemmer(data))"
   ]
  },
  {
   "cell_type": "code",
   "execution_count": 162,
   "id": "12feeafd",
   "metadata": {},
   "outputs": [],
   "source": [
    "# output of lematization is alwasys a english word\n",
    "# But in stemming it is not True see above results \n",
    "# stemming is fast but lemmatization is readable"
   ]
  },
  {
   "cell_type": "code",
   "execution_count": 147,
   "id": "9a95e72f",
   "metadata": {},
   "outputs": [],
   "source": [
    "from nltk.stem import WordNetLemmatizer"
   ]
  },
  {
   "cell_type": "code",
   "execution_count": 150,
   "id": "7d1da11d",
   "metadata": {},
   "outputs": [
    {
     "name": "stderr",
     "output_type": "stream",
     "text": [
      "[nltk_data] Downloading package wordnet to\n",
      "[nltk_data]     C:\\Users\\win10\\AppData\\Roaming\\nltk_data...\n",
      "[nltk_data]   Unzipping corpora\\wordnet.zip.\n"
     ]
    },
    {
     "data": {
      "text/plain": [
       "True"
      ]
     },
     "execution_count": 150,
     "metadata": {},
     "output_type": "execute_result"
    }
   ],
   "source": [
    "nltk.download('wordnet')"
   ]
  },
  {
   "cell_type": "code",
   "execution_count": 151,
   "id": "8e2be189",
   "metadata": {},
   "outputs": [],
   "source": [
    "wordNet = WordNetLemmatizer()"
   ]
  },
  {
   "cell_type": "code",
   "execution_count": 159,
   "id": "2c239193",
   "metadata": {},
   "outputs": [
    {
     "data": {
      "text/plain": [
       "['i', 'think', 'this', 'be', 'a', 'wonderful', 'way', 'to', 'spend', 'time']"
      ]
     },
     "execution_count": 159,
     "metadata": {},
     "output_type": "execute_result"
    }
   ],
   "source": [
    "[wordNet.lemmatize(i,pos='v') for i in data.split()][:10]"
   ]
  },
  {
   "cell_type": "code",
   "execution_count": 161,
   "id": "08e16fd9",
   "metadata": {},
   "outputs": [
    {
     "data": {
      "text/plain": [
       "'i thought this was a wonderful way to spend time on a too hot summer weekend sitting in the air cond'"
      ]
     },
     "execution_count": 161,
     "metadata": {},
     "output_type": "execute_result"
    }
   ],
   "source": [
    "data[:100]"
   ]
  }
 ],
 "metadata": {
  "kernelspec": {
   "display_name": "Python 3 (ipykernel)",
   "language": "python",
   "name": "python3"
  },
  "language_info": {
   "codemirror_mode": {
    "name": "ipython",
    "version": 3
   },
   "file_extension": ".py",
   "mimetype": "text/x-python",
   "name": "python",
   "nbconvert_exporter": "python",
   "pygments_lexer": "ipython3",
   "version": "3.9.12"
  }
 },
 "nbformat": 4,
 "nbformat_minor": 5
}
